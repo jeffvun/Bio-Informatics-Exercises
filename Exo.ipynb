{
  "nbformat": 4,
  "nbformat_minor": 0,
  "metadata": {
    "colab": {
      "provenance": [],
      "authorship_tag": "ABX9TyPjBoluZHQrjzKHJlAKrbqX",
      "include_colab_link": true
    },
    "kernelspec": {
      "name": "ir",
      "display_name": "R"
    },
    "language_info": {
      "name": "R"
    }
  },
  "cells": [
    {
      "cell_type": "markdown",
      "metadata": {
        "id": "view-in-github",
        "colab_type": "text"
      },
      "source": [
        "<a href=\"https://colab.research.google.com/github/jeffvun/Bio-Informatics-Exercises/blob/main/Exo.ipynb\" target=\"_parent\"><img src=\"https://colab.research.google.com/assets/colab-badge.svg\" alt=\"Open In Colab\"/></a>"
      ]
    },
    {
      "cell_type": "markdown",
      "source": [
        "# **Statistics 1**"
      ],
      "metadata": {
        "id": "qJVzfB79fCjD"
      }
    },
    {
      "cell_type": "markdown",
      "source": [
        "## ***Preparations***"
      ],
      "metadata": {
        "id": "BU_iUavexfqj"
      }
    },
    {
      "cell_type": "code",
      "source": [
        "#install necessary packages\n",
        "install.packages(\"stargazer\")\n",
        "\n",
        "# Loading necessary packages\n",
        "library(ggplot2)\n",
        "library(broom)\n",
        "library(stargazer)"
      ],
      "metadata": {
        "colab": {
          "base_uri": "https://localhost:8080/"
        },
        "id": "NtA1mI3EiYH3",
        "outputId": "fb622a43-b96d-4cb5-a612-49a39fbac8ce"
      },
      "execution_count": 47,
      "outputs": [
        {
          "output_type": "stream",
          "name": "stderr",
          "text": [
            "Installing package into ‘/usr/local/lib/R/site-library’\n",
            "(as ‘lib’ is unspecified)\n",
            "\n"
          ]
        }
      ]
    },
    {
      "cell_type": "markdown",
      "source": [
        "## **1. Identifying the Data type for each variable in the dataset**"
      ],
      "metadata": {
        "id": "l5ewgwmbfKNS"
      }
    },
    {
      "cell_type": "markdown",
      "source": [
        "1. Chronic Illness: Binary categorical (0 or 1)\n",
        "2. Age: Continuous numerical\n",
        "3. Gender: Binary categorical (0 for male, 1 for female)\n",
        "4. Current Smoker: Binary categorical (0 or 1)\n",
        "5. Vigorous Exercise: Binary categorical (0 or 1)\n",
        "6. Lonely: Binary categorical (0 or 1)"
      ],
      "metadata": {
        "id": "oHN-sxgnfdC7"
      }
    },
    {
      "cell_type": "code",
      "source": [
        "\n",
        "chronic_illness <- c(0, 1)\n",
        "age <- c(65, 84)  # Assuming a continuous variable\n",
        "gender <- c(0, 1)\n",
        "current_smoker <- c(0, 1)\n",
        "vigorous_exercise <- c(0, 1)\n",
        "lonely <- c(0, 1)\n"
      ],
      "metadata": {
        "id": "UKXWPlDkh1en"
      },
      "execution_count": 48,
      "outputs": []
    },
    {
      "cell_type": "markdown",
      "source": [
        "## **2. Additional information regarding the definition of \"Vigorous_Exercise\" and \"Lonely\" variables:**"
      ],
      "metadata": {
        "id": "paMzb5Ysfrz8"
      }
    },
    {
      "cell_type": "markdown",
      "source": [
        "To aid the interpretation of these variables, we would need to know:\n",
        "\n",
        "1. How \"Vigorous_Exercise\" is defined or measured. What constitutes vigorous exercise? Is it based on frequency, duration, or intensity ?\n",
        "\n",
        "2. Similarly, for \"Lonely,\" it's important to understand the criteria for classifying someone as lonely. Is it self-reported, and what does the scale or measure of loneliness encompass ?"
      ],
      "metadata": {
        "id": "k8lAsaydgfuZ"
      }
    },
    {
      "cell_type": "markdown",
      "source": [
        "## **3. Univariate logistic regression to estimate the association between chronic illness and being lonely:**\n",
        "\n"
      ],
      "metadata": {
        "id": "WSl49axGg3Z1"
      }
    },
    {
      "cell_type": "markdown",
      "source": [
        "### ***Code***"
      ],
      "metadata": {
        "id": "F3aVSO1gjNRE"
      }
    },
    {
      "cell_type": "code",
      "source": [
        "# R code for univariate logistic regression\n",
        "\n",
        "model <- glm(chronic_illness ~ lonely, family = binomial)\n",
        "summary(model)\n"
      ],
      "metadata": {
        "colab": {
          "base_uri": "https://localhost:8080/",
          "height": 309
        },
        "id": "y-tvzKtQhnSX",
        "outputId": "4bb9a0c2-d4cf-440e-96d5-c6881f62d5c9"
      },
      "execution_count": 49,
      "outputs": [
        {
          "output_type": "display_data",
          "data": {
            "text/plain": [
              "\n",
              "Call:\n",
              "glm(formula = chronic_illness ~ lonely, family = binomial)\n",
              "\n",
              "Coefficients:\n",
              "             Estimate Std. Error z value Pr(>|z|)\n",
              "(Intercept)    -23.57   79462.00       0        1\n",
              "lonely          47.13  112376.26       0        1\n",
              "\n",
              "(Dispersion parameter for binomial family taken to be 1)\n",
              "\n",
              "    Null deviance: 2.7726e+00  on 1  degrees of freedom\n",
              "Residual deviance: 2.3305e-10  on 0  degrees of freedom\n",
              "AIC: 4\n",
              "\n",
              "Number of Fisher Scoring iterations: 22\n"
            ]
          },
          "metadata": {}
        }
      ]
    },
    {
      "cell_type": "markdown",
      "source": [
        "### ***Results***"
      ],
      "metadata": {
        "id": "_LbWx9BJhBFs"
      }
    },
    {
      "cell_type": "code",
      "source": [
        "stargazer(\n",
        "  model,\n",
        "  type = \"text\",\n",
        "  title = \"Logistic Regression Model for Chronic Illness and Loneliness\",\n",
        "  column.labels = c(\"Constant\", \"Lonely (Coefficient)\", \"Lonely (Odds Ratio)\", \"Lonely (p-value)\"),\n",
        "  dep.var.labels.include = FALSE\n",
        ")\n"
      ],
      "metadata": {
        "colab": {
          "base_uri": "https://localhost:8080/"
        },
        "id": "vX5bd3-snjx7",
        "outputId": "e08f19ae-0bad-4209-cda8-2337137744af"
      },
      "execution_count": 50,
      "outputs": [
        {
          "output_type": "stream",
          "name": "stdout",
          "text": [
            "\n",
            "Logistic Regression Model for Chronic Illness and Loneliness\n",
            "=============================================\n",
            "                      Dependent variable:    \n",
            "                  ---------------------------\n",
            "                           Constant          \n",
            "---------------------------------------------\n",
            "lonely                      47.132           \n",
            "                         (112,376.300)       \n",
            "                                             \n",
            "Constant                    -23.566          \n",
            "                         (79,462.010)        \n",
            "                                             \n",
            "---------------------------------------------\n",
            "Observations                   2             \n",
            "Log Likelihood              -0.000           \n",
            "Akaike Inf. Crit.            4.000           \n",
            "=============================================\n",
            "Note:             *p<0.1; **p<0.05; ***p<0.01\n"
          ]
        }
      ]
    },
    {
      "cell_type": "markdown",
      "source": [
        "### ***Interpretation of Odds Ratio***"
      ],
      "metadata": {
        "id": "8LIhtFYVkAo5"
      }
    },
    {
      "cell_type": "markdown",
      "source": [
        "The constant represents the odds of having a chronic illness when all independent variables are 0.\n",
        "\n",
        "The odds ratio for \"Lonely\" represents the change in the odds of having a chronic illness when an individual is lonely compared to not being lonely.\n",
        "> If it's less than 1, it indicates a decreased odds : lonely people are not at risk.\n",
        "\n",
        "> And if it's greater than 1, it indicates an increased odds : lonely people are at higher risk.\n"
      ],
      "metadata": {
        "id": "wXMezWCopT1G"
      }
    },
    {
      "cell_type": "markdown",
      "source": [
        "### ***Need to include other variables***"
      ],
      "metadata": {
        "id": "oqyxwbUXlBad"
      }
    },
    {
      "cell_type": "markdown",
      "source": [
        "Incorporating additional variables into the regression model is advisable as it allows for the mitigation of potential confounding factors.\n",
        "\n",
        "In this univariate model, we only examine the relationship between \"Lonely\" and \"Chronic_Illness\" in isolation.\n",
        "However, in real-world scenarios, other factors like Age, Gender, Current Smoker, and Vigorous Exercise\n",
        "can also impact an individual's likelihood of having a chronic illness.\n",
        "\n",
        "By including these additional variables in the model, we can control for their effects, which helps us to more accurately isolate and assess the specific effect of \"Lonely\" on \"Chronic_Illness.\"\n",
        "\n",
        "This approach allows us to distinguish whether loneliness has an independent influence on chronic illness\n",
        "after accounting for the potential confounding effects of these other variables."
      ],
      "metadata": {
        "id": "-D44_clPlB17"
      }
    },
    {
      "cell_type": "markdown",
      "source": [
        "## **4.Multivariable logistic regression using all five independent variables:**"
      ],
      "metadata": {
        "id": "kVzArNTEpsTK"
      }
    },
    {
      "cell_type": "markdown",
      "source": [
        "### ***Regression Equation***"
      ],
      "metadata": {
        "id": "3CP-ZFAapydw"
      }
    },
    {
      "cell_type": "markdown",
      "source": [
        "The logistic regression equation would be:\n",
        "\n",
        "\n",
        "> logit(P(Chronic_Illness)) = β0 + β1 * Age + β2 * Gender + β3 * Current_smoker + β4 * Vigorous_Exercise + β5 * Lonely\n",
        "\n",
        "\n"
      ],
      "metadata": {
        "id": "nOi0YLsap8A3"
      }
    },
    {
      "cell_type": "markdown",
      "source": [
        "\\"
      ],
      "metadata": {
        "id": "vspdbYIr3iSF"
      }
    },
    {
      "cell_type": "markdown",
      "source": [
        "### ***Code***"
      ],
      "metadata": {
        "id": "1fGCVE_RqPSa"
      }
    },
    {
      "cell_type": "code",
      "source": [
        "model2 <- glm(chronic_illness ~ age + gender + current_smoker + vigorous_exercise + lonely, family = binomial)\n",
        "summary(model2)\n"
      ],
      "metadata": {
        "colab": {
          "base_uri": "https://localhost:8080/",
          "height": 401
        },
        "id": "3gsjY39zqRmP",
        "outputId": "3f5623c5-eeee-4e52-c5b2-65ee4904877b"
      },
      "execution_count": 51,
      "outputs": [
        {
          "output_type": "display_data",
          "data": {
            "text/plain": [
              "\n",
              "Call:\n",
              "glm(formula = chronic_illness ~ age + gender + current_smoker + \n",
              "    vigorous_exercise + lonely, family = binomial)\n",
              "\n",
              "Coefficients: (4 not defined because of singularities)\n",
              "                    Estimate Std. Error z value Pr(>|z|)\n",
              "(Intercept)         -184.808 444201.220       0        1\n",
              "age                    2.481   5914.540       0        1\n",
              "gender                    NA         NA      NA       NA\n",
              "current_smoker            NA         NA      NA       NA\n",
              "vigorous_exercise         NA         NA      NA       NA\n",
              "lonely                    NA         NA      NA       NA\n",
              "\n",
              "(Dispersion parameter for binomial family taken to be 1)\n",
              "\n",
              "    Null deviance: 2.7726e+00  on 1  degrees of freedom\n",
              "Residual deviance: 2.3305e-10  on 0  degrees of freedom\n",
              "AIC: 4\n",
              "\n",
              "Number of Fisher Scoring iterations: 22\n"
            ]
          },
          "metadata": {}
        }
      ]
    },
    {
      "cell_type": "markdown",
      "source": [
        "### ***Results***"
      ],
      "metadata": {
        "id": "6N0tGAstq2Z6"
      }
    },
    {
      "cell_type": "code",
      "source": [
        "stargazer(\n",
        "  model2,\n",
        "  type = \"text\",\n",
        "  title = \"Logistic Regression Model for Chronic Illness and All other Variables\",\n",
        "  column.labels = c(\"Constant\", \"Lonely (Coefficient)\", \"Lonely (Odds Ratio)\", \"Lonely (p-value)\"),\n",
        "  dep.var.labels.include = FALSE\n",
        ")"
      ],
      "metadata": {
        "colab": {
          "base_uri": "https://localhost:8080/"
        },
        "id": "x4_FAO5Fq6VN",
        "outputId": "a30d7a23-bae6-40e4-fe47-15a09249cca8"
      },
      "execution_count": 52,
      "outputs": [
        {
          "output_type": "stream",
          "name": "stdout",
          "text": [
            "\n",
            "Logistic Regression Model for Chronic Illness and All other Variables\n",
            "=============================================\n",
            "                      Dependent variable:    \n",
            "                  ---------------------------\n",
            "                           Constant          \n",
            "---------------------------------------------\n",
            "age                          2.481           \n",
            "                          (5,914.540)        \n",
            "                                             \n",
            "gender                                       \n",
            "                                             \n",
            "                                             \n",
            "current_smoker                               \n",
            "                                             \n",
            "                                             \n",
            "vigorous_exercise                            \n",
            "                                             \n",
            "                                             \n",
            "lonely                                       \n",
            "                                             \n",
            "                                             \n",
            "Constant                   -184.808          \n",
            "                         (444,201.200)       \n",
            "                                             \n",
            "---------------------------------------------\n",
            "Observations                   2             \n",
            "Log Likelihood              -0.000           \n",
            "Akaike Inf. Crit.            4.000           \n",
            "=============================================\n",
            "Note:             *p<0.1; **p<0.05; ***p<0.01\n"
          ]
        }
      ]
    },
    {
      "cell_type": "markdown",
      "source": [
        "### ***Interpretation***"
      ],
      "metadata": {
        "id": "t5r-G5O8st_C"
      }
    },
    {
      "cell_type": "markdown",
      "source": [
        "The odds ratio for Age indicates how a one-unit change in age affects the odds of having a chronic illness.\n",
        "> If the odds ratio is greater than 1, it suggests that older individuals are more likely to have a chronic illness.\n",
        "\n",
        "The odds ratio for Gender indicates the change in the odds of having a chronic illness for females compared to males\n",
        "> If it's greater than 1, females are at higher odds.\n",
        "\n",
        "The odds ratio for Current Smoker indicates the change in the odds of having a chronic illness for current smokers compared to non-smokers\n",
        "> If it's greater than 1, smokers are at higher odds."
      ],
      "metadata": {
        "id": "wsyBlS1CtC0w"
      }
    },
    {
      "cell_type": "markdown",
      "source": [
        "### ***Odds for Loneliness***"
      ],
      "metadata": {
        "id": "NOh8Jmt7vuMY"
      }
    },
    {
      "cell_type": "markdown",
      "source": [
        "The odds ratio for \"Lonely\" may change in the multivariable model compared to the univariate model because it accounts for the effects of other variables in the model.\n",
        "\n",
        "It represents the change in the odds of having a chronic illness associated with loneliness while controlling for age, gender, smoking status, and exercise.\n",
        "\n",
        "The univariate model does not account for these potential confounders."
      ],
      "metadata": {
        "id": "dUOzSrV3vulF"
      }
    },
    {
      "cell_type": "markdown",
      "source": [
        "### ***For a 30 year old ?***"
      ],
      "metadata": {
        "id": "54E6GgcaxHFs"
      }
    },
    {
      "cell_type": "markdown",
      "source": [
        "The model might not be appropriate for calculating the odds of having a chronic illness in someone aged 30 because the dataset only includes individuals aged 65 to 84. Extrapolating to an age outside this range could lead to unreliable results."
      ],
      "metadata": {
        "id": "BWYwa4nOxMgZ"
      }
    },
    {
      "cell_type": "markdown",
      "source": [
        "## ***5. Calculate the predicted odds and probability of having a chronic illness:***"
      ],
      "metadata": {
        "id": "vEFo4uTsxS-m"
      }
    },
    {
      "cell_type": "markdown",
      "source": [
        "### *Predicted Odds*"
      ],
      "metadata": {
        "id": "CBCPs646xbrZ"
      }
    },
    {
      "cell_type": "markdown",
      "source": [
        "Calculate the predicted odds of having a chronic illness if you are lonely, aged 65, female, smoke and do not vigorously exercise."
      ],
      "metadata": {
        "id": "jPoyTWF4x9Pz"
      }
    },
    {
      "cell_type": "code",
      "source": [
        "# Assuming coefficients from the multivariable model\n",
        "coef_age <- 0.2\n",
        "coef_gender <- 0.5\n",
        "coef_smoker <- 0.3\n",
        "coef_exercise <- -0.4\n",
        "coef_lonely <- 0.6\n",
        "\n",
        "# Values for an individual\n",
        "age_value <- 65\n",
        "gender_value <- 1\n",
        "smoker_value <- 1\n",
        "exercise_value <- 0\n",
        "lonely_value <- 1\n",
        "\n",
        "# Calculate the log odds\n",
        "log_odds <- coef_age * age_value + coef_gender * gender_value + coef_smoker * smoker_value + coef_exercise * exercise_value + coef_lonely * lonely_value\n",
        "\n",
        "# Calculate odds\n",
        "odds <- exp(-log_odds)\n",
        "\n",
        "odds"
      ],
      "metadata": {
        "colab": {
          "base_uri": "https://localhost:8080/",
          "height": 34
        },
        "id": "jMrvPhY8yPcc",
        "outputId": "9db21abc-5965-4d7e-a492-674a1fc98f24"
      },
      "execution_count": 53,
      "outputs": [
        {
          "output_type": "display_data",
          "data": {
            "text/html": [
              "5.5739036926946e-07"
            ],
            "text/markdown": "5.5739036926946e-07",
            "text/latex": "5.5739036926946e-07",
            "text/plain": [
              "[1] 5.573904e-07"
            ]
          },
          "metadata": {}
        }
      ]
    },
    {
      "cell_type": "markdown",
      "source": [
        "### *Predicted Probability*"
      ],
      "metadata": {
        "id": "t72D685JyQF4"
      }
    },
    {
      "cell_type": "markdown",
      "source": [
        "Using the odds ratio estimate the predicted probability of having a chronic illness in this group."
      ],
      "metadata": {
        "id": "PYi2TYXUyXl3"
      }
    },
    {
      "cell_type": "code",
      "source": [
        "# Calculate probability\n",
        "probability <- 1/(1+odds)\n",
        "probability"
      ],
      "metadata": {
        "colab": {
          "base_uri": "https://localhost:8080/",
          "height": 34
        },
        "id": "VRzf95oLyjvs",
        "outputId": "85694065-00d1-4bc1-8bb6-09171a5c73f4"
      },
      "execution_count": 54,
      "outputs": [
        {
          "output_type": "display_data",
          "data": {
            "text/html": [
              "0.999999442609941"
            ],
            "text/markdown": "0.999999442609941",
            "text/latex": "0.999999442609941",
            "text/plain": [
              "[1] 0.9999994"
            ]
          },
          "metadata": {}
        }
      ]
    }
  ]
}