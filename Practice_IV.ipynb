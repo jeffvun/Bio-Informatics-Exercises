{
  "nbformat": 4,
  "nbformat_minor": 0,
  "metadata": {
    "colab": {
      "provenance": [],
      "authorship_tag": "ABX9TyM35KpVGPlB0DWTJEOFJO8T",
      "include_colab_link": true
    },
    "kernelspec": {
      "name": "ir",
      "display_name": "R"
    },
    "language_info": {
      "name": "R"
    }
  },
  "cells": [
    {
      "cell_type": "markdown",
      "metadata": {
        "id": "view-in-github",
        "colab_type": "text"
      },
      "source": [
        "<a href=\"https://colab.research.google.com/github/jeffvun/Bio-Informatics-Exercises/blob/main/Practice_IV.ipynb\" target=\"_parent\"><img src=\"https://colab.research.google.com/assets/colab-badge.svg\" alt=\"Open In Colab\"/></a>"
      ]
    },
    {
      "cell_type": "markdown",
      "source": [
        "## **Practice 4: Multiclass Classification using Logistic Regression**"
      ],
      "metadata": {
        "id": "UDvK9Es5A-QP"
      }
    },
    {
      "cell_type": "markdown",
      "source": [
        "### **Loading Dataset**"
      ],
      "metadata": {
        "id": "fBuScV0cBTfg"
      }
    },
    {
      "cell_type": "code",
      "execution_count": 1,
      "metadata": {
        "id": "gnXSugeuA3Ji"
      },
      "outputs": [],
      "source": [
        "fetal_health <- read.csv(\"/content/Fetal Health Dataset.csv\")"
      ]
    },
    {
      "cell_type": "code",
      "source": [
        "sprintf(\"The dataset has %s records with a total of %s variables\", nrow(fetal_health), ncol(fetal_health))"
      ],
      "metadata": {
        "colab": {
          "base_uri": "https://localhost:8080/",
          "height": 34
        },
        "id": "jb-RGZ-7H2yi",
        "outputId": "80309ac4-c37b-4563-a5e6-334bd6f1f9b9"
      },
      "execution_count": 4,
      "outputs": [
        {
          "output_type": "display_data",
          "data": {
            "text/html": [
              "'The dataset has 2126 records with a total of 22 variables'"
            ],
            "text/markdown": "'The dataset has 2126 records with a total of 22 variables'",
            "text/latex": "'The dataset has 2126 records with a total of 22 variables'",
            "text/plain": [
              "[1] \"The dataset has 2126 records with a total of 22 variables\""
            ]
          },
          "metadata": {}
        }
      ]
    },
    {
      "cell_type": "markdown",
      "source": [
        "### **Sampling Dataset**"
      ],
      "metadata": {
        "id": "L_r4Dx_IGLjd"
      }
    },
    {
      "cell_type": "markdown",
      "source": [
        "Extracting 10% of the total dataset: This for demonstrating how classification is done. But ordinarily\n",
        "the entire dataset should be used when using high computing devices."
      ],
      "metadata": {
        "id": "mKKwJj7_GQUo"
      }
    },
    {
      "cell_type": "code",
      "source": [
        "fd_sub <-fetal_health[sample(1:nrow(fetal_health), 0.1*(2126), replace = FALSE ), ]"
      ],
      "metadata": {
        "id": "-SRpITPSGPPK"
      },
      "execution_count": 6,
      "outputs": []
    },
    {
      "cell_type": "markdown",
      "source": [
        "To understand the new dataset"
      ],
      "metadata": {
        "id": "nrOgWuFIJMrB"
      }
    },
    {
      "cell_type": "code",
      "source": [
        "sprintf(\"The dataset has %s records with a total of %s variables\", nrow(fd_sub), ncol(fd_sub))"
      ],
      "metadata": {
        "colab": {
          "base_uri": "https://localhost:8080/",
          "height": 34
        },
        "id": "3sJ0QSUzJT-f",
        "outputId": "95a5f0f8-6b7b-4f1a-e984-9a646cca162b"
      },
      "execution_count": 7,
      "outputs": [
        {
          "output_type": "display_data",
          "data": {
            "text/html": [
              "'The dataset has 212 records with a total of 22 variables'"
            ],
            "text/markdown": "'The dataset has 212 records with a total of 22 variables'",
            "text/latex": "'The dataset has 212 records with a total of 22 variables'",
            "text/plain": [
              "[1] \"The dataset has 212 records with a total of 22 variables\""
            ]
          },
          "metadata": {}
        }
      ]
    },
    {
      "cell_type": "code",
      "source": [
        "tab1 <- prop.table(table(fd_sub$fetal_health))"
      ],
      "metadata": {
        "id": "LPiwI34DJrYH"
      },
      "execution_count": 8,
      "outputs": []
    },
    {
      "cell_type": "code",
      "source": [
        "barplot (tab1, las=1, col=\"Blue\")"
      ],
      "metadata": {
        "colab": {
          "base_uri": "https://localhost:8080/",
          "height": 437
        },
        "id": "Oyq-NcrSJ_zO",
        "outputId": "20f731fd-0e32-4b9f-e11e-3157e25c8308"
      },
      "execution_count": 10,
      "outputs": [
        {
          "output_type": "display_data",
          "data": {
            "text/plain": [
              "plot without title"
            ],
            "image/png": "[encoded data removed]"
          },
          "metadata": {
            "image/png": {
              "width": 420,
              "height": 420
            }
          }
        }
      ]
    },
    {
      "cell_type": "markdown",
      "source": [
        "### **Modelling**"
      ],
      "metadata": {
        "id": "n7gcWCmFKJyE"
      }
    },
    {
      "cell_type": "markdown",
      "source": [
        "The objective is to model say:\n",
        "P(fetal_health)=f(acceleration, light_acceleartion, severe_acceleration,\n",
        "prolongued_accelation)\n",
        "We can view/explore the data on fetal_health using the table function as\n",
        "follow:"
      ],
      "metadata": {
        "id": "b2tMPUMGKTOT"
      }
    },
    {
      "cell_type": "code",
      "source": [
        "table(fd_sub$fetal_health)"
      ],
      "metadata": {
        "colab": {
          "base_uri": "https://localhost:8080/",
          "height": 72
        },
        "id": "y7r-uyUHKRPx",
        "outputId": "ccb9aa51-0524-4074-8e3e-8621e422e1de"
      },
      "execution_count": 11,
      "outputs": [
        {
          "output_type": "display_data",
          "data": {
            "text/plain": [
              "\n",
              "  1   2   3 \n",
              "169  28  15 "
            ]
          },
          "metadata": {}
        }
      ]
    },
    {
      "cell_type": "markdown",
      "source": [
        "The table shows the number of fetals that were grouped in the three classes.\n",
        "We can explore for each of the variables used in the model to have a clear\n",
        "impression of how the grouping occurs e.g."
      ],
      "metadata": {
        "id": "nzAbsF_mKilo"
      }
    },
    {
      "cell_type": "code",
      "source": [
        "table(fd_sub$accelerations)"
      ],
      "metadata": {
        "colab": {
          "base_uri": "https://localhost:8080/",
          "height": 108
        },
        "id": "B_-NayrAKjzM",
        "outputId": "e4105f85-2626-4ba5-aaf7-45df8d341478"
      },
      "execution_count": 12,
      "outputs": [
        {
          "output_type": "display_data",
          "data": {
            "text/plain": [
              "\n",
              "    0 0.001 0.002 0.003 0.004 0.005 0.006 0.007 0.008 0.009  0.01 0.011 0.012 \n",
              "   83    18    14    15    13    11    12     9    16     6     4     4     3 \n",
              "0.014 0.016 0.017 \n",
              "    2     1     1 "
            ]
          },
          "metadata": {}
        }
      ]
    },
    {
      "cell_type": "markdown",
      "source": [
        "### **Clustering**"
      ],
      "metadata": {
        "id": "5GY6PnJ2Kv3P"
      }
    },
    {
      "cell_type": "markdown",
      "source": [
        "Next, we need to investigate if we can use the proposed model to class the\n",
        "data into the three classes. This requires fitting the data into the model using\n",
        "the nnet package. We therefore start by first installing the nnet package. i.e."
      ],
      "metadata": {
        "id": "2KztOMLmKyWx"
      }
    },
    {
      "cell_type": "code",
      "source": [
        "install.packages(\"nnet\")"
      ],
      "metadata": {
        "colab": {
          "base_uri": "https://localhost:8080/"
        },
        "id": "ZptK61eXK0_l",
        "outputId": "a3420313-bb2d-4907-e35f-1082c7e6faba"
      },
      "execution_count": 13,
      "outputs": [
        {
          "output_type": "stream",
          "name": "stderr",
          "text": [
            "Installing package into ‘/usr/local/lib/R/site-library’\n",
            "(as ‘lib’ is unspecified)\n",
            "\n"
          ]
        }
      ]
    },
    {
      "cell_type": "code",
      "source": [
        "library(nnet)"
      ],
      "metadata": {
        "id": "Vw-KtR-8K5WI"
      },
      "execution_count": 14,
      "outputs": []
    },
    {
      "cell_type": "markdown",
      "source": [
        "The model to be used is as follows:"
      ],
      "metadata": {
        "id": "7LhXhTuRK-bi"
      }
    },
    {
      "cell_type": "code",
      "source": [
        "formula <- fd_sub$fetal_health ~\"fd_sub$accelerations + fd_sub$light_decelerations + fd_sub$severe_decelerations + fd_sub$prolongued_decelerations\""
      ],
      "metadata": {
        "id": "8UZxP2eMLB-J"
      },
      "execution_count": 15,
      "outputs": []
    },
    {
      "cell_type": "code",
      "source": [
        "test <- multinom(fd_sub$fetal_health ~ fd_sub$accelerations + fd_sub$light_decelerations + fd_sub$severe_decelerations + fd_sub$prolongued_decelerations)"
      ],
      "metadata": {
        "colab": {
          "base_uri": "https://localhost:8080/"
        },
        "id": "BUgdmYORLhBj",
        "outputId": "80e4b695-701f-492b-8241-c9e572d99cdb"
      },
      "execution_count": 16,
      "outputs": [
        {
          "output_type": "stream",
          "name": "stdout",
          "text": [
            "# weights:  18 (10 variable)\n",
            "initial  value 232.905805 \n",
            "iter  10 value 132.601878\n",
            "iter  20 value 101.637175\n",
            "iter  30 value 101.328686\n",
            "iter  40 value 98.113333\n",
            "iter  50 value 97.780458\n",
            "iter  60 value 88.578990\n",
            "iter  70 value 88.560316\n",
            "iter  80 value 87.724666\n",
            "iter  90 value 87.711017\n",
            "iter 100 value 87.010850\n",
            "final  value 87.010850 \n",
            "stopped after 100 iterations\n"
          ]
        }
      ]
    },
    {
      "cell_type": "markdown",
      "source": [
        "NB: The model could not converge after 100 iterations. But this could be\n",
        "improved through use of more data or scaling of the data. Remember we\n",
        "randomly selected variables included in the model."
      ],
      "metadata": {
        "id": "auSOrpbWL3tb"
      }
    },
    {
      "cell_type": "markdown",
      "source": [
        "We now proceed to obtain the summary statistics of our model as follows:"
      ],
      "metadata": {
        "id": "KupBFuDDME0Z"
      }
    },
    {
      "cell_type": "code",
      "source": [
        "output <- summary(test)\n",
        "print(output)"
      ],
      "metadata": {
        "colab": {
          "base_uri": "https://localhost:8080/"
        },
        "id": "7V5DG2LaL4vB",
        "outputId": "d87bc00a-4150-4d69-dbd3-fb7ac791be26"
      },
      "execution_count": 17,
      "outputs": [
        {
          "output_type": "stream",
          "name": "stdout",
          "text": [
            "Call:\n",
            "multinom(formula = fd_sub$fetal_health ~ fd_sub$accelerations + \n",
            "    fd_sub$light_decelerations + fd_sub$severe_decelerations + \n",
            "    fd_sub$prolongued_decelerations)\n",
            "\n",
            "Coefficients:\n",
            "  (Intercept) fd_sub$accelerations fd_sub$light_decelerations\n",
            "2  -0.2488996            -1026.232                -315.303446\n",
            "3  -1.7103798            -1283.055                  -9.023296\n",
            "  fd_sub$severe_decelerations fd_sub$prolongued_decelerations\n",
            "2                  -21.671863                         212.527\n",
            "3                   -9.743892                        1565.438\n",
            "\n",
            "Std. Errors:\n",
            "  (Intercept) fd_sub$accelerations fd_sub$light_decelerations\n",
            "2   0.2722458             313.6312                  135.00460\n",
            "3   0.4397677             570.7960                   83.21072\n",
            "  fd_sub$severe_decelerations fd_sub$prolongued_decelerations\n",
            "2                    66.68186                        883.0626\n",
            "3                    15.87727                        501.8617\n",
            "\n",
            "Residual Deviance: 174.0217 \n",
            "AIC: 194.0217 \n"
          ]
        }
      ]
    },
    {
      "cell_type": "markdown",
      "source": [
        "From the above summary statistics we have our logistic model written as follows:\n",
        "\n",
        "𝑙𝑜𝑔 (𝑃 (\n",
        "𝑓𝑒𝑡𝑎𝑙_ℎ𝑒𝑎𝑙𝑡ℎ = 2 /\n",
        "𝑓𝑒𝑡𝑎𝑙_ℎ𝑒𝑎𝑙𝑡ℎ = 1\n",
        ")) = ...\n",
        "\n",
        "we can write the expression as: log(P(Pclass=2)P(Pclass=1))=−1.5642365−0.0698696⋅Sexmale+2.004449⋅EmbarkedQ+1.876297⋅EmbarkedS−0.07211907⋅SibSp+0.04548861⋅Parch\n",
        "\n",
        "We can obtain the estimated probability for each class as:"
      ],
      "metadata": {
        "id": "8GetXV_BMeqm"
      }
    },
    {
      "cell_type": "code",
      "source": [
        "p_hat <- fitted(test)"
      ],
      "metadata": {
        "id": "7_M3ubFGMmwu"
      },
      "execution_count": 18,
      "outputs": []
    },
    {
      "cell_type": "code",
      "source": [
        "head(round(p_hat, digits = 2))"
      ],
      "metadata": {
        "colab": {
          "base_uri": "https://localhost:8080/",
          "height": 272
        },
        "id": "XQBtacfLNqS_",
        "outputId": "ccf7e9d5-1ec7-4f0d-9f64-beb4dbe6127d"
      },
      "execution_count": 19,
      "outputs": [
        {
          "output_type": "display_data",
          "data": {
            "text/html": [
              "<table class=\"dataframe\">\n",
              "<caption>A matrix: 6 × 3 of type dbl</caption>\n",
              "<thead>\n",
              "\t<tr><th></th><th scope=col>1</th><th scope=col>2</th><th scope=col>3</th></tr>\n",
              "</thead>\n",
              "<tbody>\n",
              "\t<tr><th scope=row>1</th><td>1.00</td><td>0.00</td><td>0.00</td></tr>\n",
              "\t<tr><th scope=row>2</th><td>0.99</td><td>0.01</td><td>0.00</td></tr>\n",
              "\t<tr><th scope=row>3</th><td>0.75</td><td>0.12</td><td>0.13</td></tr>\n",
              "\t<tr><th scope=row>4</th><td>1.00</td><td>0.00</td><td>0.00</td></tr>\n",
              "\t<tr><th scope=row>5</th><td>0.90</td><td>0.09</td><td>0.01</td></tr>\n",
              "\t<tr><th scope=row>6</th><td>0.80</td><td>0.16</td><td>0.04</td></tr>\n",
              "</tbody>\n",
              "</table>\n"
            ],
            "text/markdown": "\nA matrix: 6 × 3 of type dbl\n\n| <!--/--> | 1 | 2 | 3 |\n|---|---|---|---|\n| 1 | 1.00 | 0.00 | 0.00 |\n| 2 | 0.99 | 0.01 | 0.00 |\n| 3 | 0.75 | 0.12 | 0.13 |\n| 4 | 1.00 | 0.00 | 0.00 |\n| 5 | 0.90 | 0.09 | 0.01 |\n| 6 | 0.80 | 0.16 | 0.04 |\n\n",
            "text/latex": "A matrix: 6 × 3 of type dbl\n\\begin{tabular}{r|lll}\n  & 1 & 2 & 3\\\\\n\\hline\n\t1 & 1.00 & 0.00 & 0.00\\\\\n\t2 & 0.99 & 0.01 & 0.00\\\\\n\t3 & 0.75 & 0.12 & 0.13\\\\\n\t4 & 1.00 & 0.00 & 0.00\\\\\n\t5 & 0.90 & 0.09 & 0.01\\\\\n\t6 & 0.80 & 0.16 & 0.04\\\\\n\\end{tabular}\n",
            "text/plain": [
              "  1    2    3   \n",
              "1 1.00 0.00 0.00\n",
              "2 0.99 0.01 0.00\n",
              "3 0.75 0.12 0.13\n",
              "4 1.00 0.00 0.00\n",
              "5 0.90 0.09 0.01\n",
              "6 0.80 0.16 0.04"
            ]
          },
          "metadata": {}
        }
      ]
    },
    {
      "cell_type": "markdown",
      "source": [
        "NB: The output using the head function only displays for the first 6 rows of the data frame.\n",
        "We can use the model to predict the fetal_health class for given different values the acceleration,\n",
        "light_decceleration, severe_deccelerations and prolongued_decceleration as follows:"
      ],
      "metadata": {
        "id": "L0fqdwMuN1-J"
      }
    },
    {
      "cell_type": "code",
      "source": [
        "newdata <- data.frame(accelerations=0.008, light_decelerations=fd_sub$light_decelerations, severe_decelerations=fd_sub$severe_decelerations, prolongued_decelerations=fd_sub$prolongued_decelerations)"
      ],
      "metadata": {
        "id": "Gz9PB4dkNzjZ"
      },
      "execution_count": 20,
      "outputs": []
    },
    {
      "cell_type": "code",
      "source": [
        "predict(test, newdata = newdata, \"probs\")"
      ],
      "metadata": {
        "colab": {
          "base_uri": "https://localhost:8080/",
          "height": 1000
        },
        "id": "xGybaErnOLo7",
        "outputId": "b78beeee-04bc-4ffa-c1e1-23508ac1612d"
      },
      "execution_count": 21,
      "outputs": [
        {
          "output_type": "display_data",
          "data": {
            "text/html": [
              "<table class=\"dataframe\">\n",
              "<caption>A matrix: 212 × 3 of type dbl</caption>\n",
              "<thead>\n",
              "\t<tr><th></th><th scope=col>1</th><th scope=col>2</th><th scope=col>3</th></tr>\n",
              "</thead>\n",
              "<tbody>\n",
              "\t<tr><th scope=row>1</th><td>0.9997817</td><td>2.119887e-04</td><td>6.299512e-06</td></tr>\n",
              "\t<tr><th scope=row>2</th><td>0.9862664</td><td>1.268090e-02</td><td>1.052667e-03</td></tr>\n",
              "\t<tr><th scope=row>3</th><td>0.7496410</td><td>1.208050e-01</td><td>1.295540e-01</td></tr>\n",
              "\t<tr><th scope=row>4</th><td>0.9979271</td><td>1.785517e-03</td><td>2.873528e-04</td></tr>\n",
              "\t<tr><th scope=row>5</th><td>0.8976552</td><td>8.987515e-02</td><td>1.246963e-02</td></tr>\n",
              "\t<tr><th scope=row>6</th><td>0.7977652</td><td>1.626139e-01</td><td>3.962088e-02</td></tr>\n",
              "\t<tr><th scope=row>7</th><td>0.6762559</td><td>2.047443e-01</td><td>1.189998e-01</td></tr>\n",
              "\t<tr><th scope=row>8</th><td>0.9994534</td><td>4.675264e-04</td><td>7.905633e-05</td></tr>\n",
              "\t<tr><th scope=row>9</th><td>0.9999223</td><td>7.597780e-05</td><td>1.746402e-06</td></tr>\n",
              "\t<tr><th scope=row>10</th><td>0.8248439</td><td>3.765868e-02</td><td>1.374974e-01</td></tr>\n",
              "\t<tr><th scope=row>11</th><td>0.9999918</td><td>7.714213e-06</td><td>4.669556e-07</td></tr>\n",
              "\t<tr><th scope=row>12</th><td>0.9943805</td><td>2.089223e-03</td><td>3.530238e-03</td></tr>\n",
              "\t<tr><th scope=row>13</th><td>0.1921937</td><td>4.737719e-02</td><td>7.604291e-01</td></tr>\n",
              "\t<tr><th scope=row>14</th><td>0.9863110</td><td>1.002579e-02</td><td>3.663187e-03</td></tr>\n",
              "\t<tr><th scope=row>15</th><td>0.9997817</td><td>2.119887e-04</td><td>6.299512e-06</td></tr>\n",
              "\t<tr><th scope=row>16</th><td>0.5100856</td><td>3.976924e-01</td><td>9.222200e-02</td></tr>\n",
              "\t<tr><th scope=row>17</th><td>0.9997817</td><td>2.119887e-04</td><td>6.299512e-06</td></tr>\n",
              "\t<tr><th scope=row>18</th><td>0.9862664</td><td>1.268090e-02</td><td>1.052667e-03</td></tr>\n",
              "\t<tr><th scope=row>19</th><td>0.1993214</td><td>2.615261e-02</td><td>7.745260e-01</td></tr>\n",
              "\t<tr><th scope=row>20</th><td>0.8417404</td><td>2.045514e-02</td><td>1.378044e-01</td></tr>\n",
              "\t<tr><th scope=row>21</th><td>0.9725192</td><td>1.468321e-02</td><td>1.279763e-02</td></tr>\n",
              "\t<tr><th scope=row>22</th><td>0.9940045</td><td>4.962958e-03</td><td>1.032592e-03</td></tr>\n",
              "\t<tr><th scope=row>23</th><td>0.8976552</td><td>8.987515e-02</td><td>1.246963e-02</td></tr>\n",
              "\t<tr><th scope=row>24</th><td>0.9998560</td><td>1.222811e-04</td><td>2.172546e-05</td></tr>\n",
              "\t<tr><th scope=row>25</th><td>0.9862664</td><td>1.268090e-02</td><td>1.052667e-03</td></tr>\n",
              "\t<tr><th scope=row>26</th><td>0.9999995</td><td>4.490398e-07</td><td>2.857980e-09</td></tr>\n",
              "\t<tr><th scope=row>27</th><td>0.9765090</td><td>1.075634e-02</td><td>1.273471e-02</td></tr>\n",
              "\t<tr><th scope=row>28</th><td>0.9993860</td><td>5.913273e-04</td><td>2.271740e-05</td></tr>\n",
              "\t<tr><th scope=row>29</th><td>0.9863110</td><td>1.002579e-02</td><td>3.663187e-03</td></tr>\n",
              "\t<tr><th scope=row>30</th><td>0.9999901</td><td>9.757577e-06</td><td>1.341919e-07</td></tr>\n",
              "\t<tr><th scope=row>⋮</th><td>⋮</td><td>⋮</td><td>⋮</td></tr>\n",
              "\t<tr><th scope=row>183</th><td>0.9951205</td><td>4.585055e-03</td><td>2.944073e-04</td></tr>\n",
              "\t<tr><th scope=row>184</th><td>0.9617884</td><td>3.450822e-02</td><td>3.703393e-03</td></tr>\n",
              "\t<tr><th scope=row>185</th><td>0.7964917</td><td>6.831934e-02</td><td>1.351890e-01</td></tr>\n",
              "\t<tr><th scope=row>186</th><td>0.9999428</td><td>5.543207e-05</td><td>1.730750e-06</td></tr>\n",
              "\t<tr><th scope=row>187</th><td>0.7521573</td><td>2.101483e-01</td><td>3.769437e-02</td></tr>\n",
              "\t<tr><th scope=row>188</th><td>0.8519917</td><td>1.102023e-02</td><td>1.369881e-01</td></tr>\n",
              "\t<tr><th scope=row>189</th><td>0.5100856</td><td>3.976924e-01</td><td>9.222200e-02</td></tr>\n",
              "\t<tr><th scope=row>190</th><td>0.9999974</td><td>2.551077e-06</td><td>3.686268e-08</td></tr>\n",
              "\t<tr><th scope=row>191</th><td>0.9617884</td><td>3.450822e-02</td><td>3.703393e-03</td></tr>\n",
              "\t<tr><th scope=row>192</th><td>0.9826266</td><td>1.369077e-02</td><td>3.682583e-03</td></tr>\n",
              "\t<tr><th scope=row>193</th><td>0.5100856</td><td>3.976924e-01</td><td>9.222200e-02</td></tr>\n",
              "\t<tr><th scope=row>194</th><td>0.9995805</td><td>3.411354e-04</td><td>7.835615e-05</td></tr>\n",
              "\t<tr><th scope=row>195</th><td>0.9951205</td><td>4.585055e-03</td><td>2.944073e-04</td></tr>\n",
              "\t<tr><th scope=row>196</th><td>0.9998391</td><td>1.546689e-04</td><td>6.243283e-06</td></tr>\n",
              "\t<tr><th scope=row>197</th><td>0.9999990</td><td>9.906508e-07</td><td>3.587825e-08</td></tr>\n",
              "\t<tr><th scope=row>198</th><td>0.9987158</td><td>1.203065e-03</td><td>8.116565e-05</td></tr>\n",
              "\t<tr><th scope=row>199</th><td>0.9617884</td><td>3.450822e-02</td><td>3.703393e-03</td></tr>\n",
              "\t<tr><th scope=row>200</th><td>0.6279233</td><td>2.605804e-01</td><td>1.114963e-01</td></tr>\n",
              "\t<tr><th scope=row>201</th><td>0.8641007</td><td>9.375143e-02</td><td>4.214789e-02</td></tr>\n",
              "\t<tr><th scope=row>202</th><td>0.8976552</td><td>8.987515e-02</td><td>1.246963e-02</td></tr>\n",
              "\t<tr><th scope=row>203</th><td>0.7521573</td><td>2.101483e-01</td><td>3.769437e-02</td></tr>\n",
              "\t<tr><th scope=row>204</th><td>0.9999502</td><td>4.382412e-05</td><td>6.022630e-06</td></tr>\n",
              "\t<tr><th scope=row>205</th><td>0.9987158</td><td>1.203065e-03</td><td>8.116565e-05</td></tr>\n",
              "\t<tr><th scope=row>206</th><td>0.5100856</td><td>3.976924e-01</td><td>9.222200e-02</td></tr>\n",
              "\t<tr><th scope=row>207</th><td>0.9998391</td><td>1.546689e-04</td><td>6.243283e-06</td></tr>\n",
              "\t<tr><th scope=row>208</th><td>0.5100856</td><td>3.976924e-01</td><td>9.222200e-02</td></tr>\n",
              "\t<tr><th scope=row>209</th><td>0.8424610</td><td>1.020862e-01</td><td>5.545275e-02</td></tr>\n",
              "\t<tr><th scope=row>210</th><td>0.5100856</td><td>3.976924e-01</td><td>9.222200e-02</td></tr>\n",
              "\t<tr><th scope=row>211</th><td>0.9863110</td><td>1.002579e-02</td><td>3.663187e-03</td></tr>\n",
              "\t<tr><th scope=row>212</th><td>0.5720868</td><td>3.254106e-01</td><td>1.025026e-01</td></tr>\n",
              "</tbody>\n",
              "</table>\n"
            ],
            "text/markdown": "\nA matrix: 212 × 3 of type dbl\n\n| <!--/--> | 1 | 2 | 3 |\n|---|---|---|---|\n| 1 | 0.9997817 | 2.119887e-04 | 6.299512e-06 |\n| 2 | 0.9862664 | 1.268090e-02 | 1.052667e-03 |\n| 3 | 0.7496410 | 1.208050e-01 | 1.295540e-01 |\n| 4 | 0.9979271 | 1.785517e-03 | 2.873528e-04 |\n| 5 | 0.8976552 | 8.987515e-02 | 1.246963e-02 |\n| 6 | 0.7977652 | 1.626139e-01 | 3.962088e-02 |\n| 7 | 0.6762559 | 2.047443e-01 | 1.189998e-01 |\n| 8 | 0.9994534 | 4.675264e-04 | 7.905633e-05 |\n| 9 | 0.9999223 | 7.597780e-05 | 1.746402e-06 |\n| 10 | 0.8248439 | 3.765868e-02 | 1.374974e-01 |\n| 11 | 0.9999918 | 7.714213e-06 | 4.669556e-07 |\n| 12 | 0.9943805 | 2.089223e-03 | 3.530238e-03 |\n| 13 | 0.1921937 | 4.737719e-02 | 7.604291e-01 |\n| 14 | 0.9863110 | 1.002579e-02 | 3.663187e-03 |\n| 15 | 0.9997817 | 2.119887e-04 | 6.299512e-06 |\n| 16 | 0.5100856 | 3.976924e-01 | 9.222200e-02 |\n| 17 | 0.9997817 | 2.119887e-04 | 6.299512e-06 |\n| 18 | 0.9862664 | 1.268090e-02 | 1.052667e-03 |\n| 19 | 0.1993214 | 2.615261e-02 | 7.745260e-01 |\n| 20 | 0.8417404 | 2.045514e-02 | 1.378044e-01 |\n| 21 | 0.9725192 | 1.468321e-02 | 1.279763e-02 |\n| 22 | 0.9940045 | 4.962958e-03 | 1.032592e-03 |\n| 23 | 0.8976552 | 8.987515e-02 | 1.246963e-02 |\n| 24 | 0.9998560 | 1.222811e-04 | 2.172546e-05 |\n| 25 | 0.9862664 | 1.268090e-02 | 1.052667e-03 |\n| 26 | 0.9999995 | 4.490398e-07 | 2.857980e-09 |\n| 27 | 0.9765090 | 1.075634e-02 | 1.273471e-02 |\n| 28 | 0.9993860 | 5.913273e-04 | 2.271740e-05 |\n| 29 | 0.9863110 | 1.002579e-02 | 3.663187e-03 |\n| 30 | 0.9999901 | 9.757577e-06 | 1.341919e-07 |\n| ⋮ | ⋮ | ⋮ | ⋮ |\n| 183 | 0.9951205 | 4.585055e-03 | 2.944073e-04 |\n| 184 | 0.9617884 | 3.450822e-02 | 3.703393e-03 |\n| 185 | 0.7964917 | 6.831934e-02 | 1.351890e-01 |\n| 186 | 0.9999428 | 5.543207e-05 | 1.730750e-06 |\n| 187 | 0.7521573 | 2.101483e-01 | 3.769437e-02 |\n| 188 | 0.8519917 | 1.102023e-02 | 1.369881e-01 |\n| 189 | 0.5100856 | 3.976924e-01 | 9.222200e-02 |\n| 190 | 0.9999974 | 2.551077e-06 | 3.686268e-08 |\n| 191 | 0.9617884 | 3.450822e-02 | 3.703393e-03 |\n| 192 | 0.9826266 | 1.369077e-02 | 3.682583e-03 |\n| 193 | 0.5100856 | 3.976924e-01 | 9.222200e-02 |\n| 194 | 0.9995805 | 3.411354e-04 | 7.835615e-05 |\n| 195 | 0.9951205 | 4.585055e-03 | 2.944073e-04 |\n| 196 | 0.9998391 | 1.546689e-04 | 6.243283e-06 |\n| 197 | 0.9999990 | 9.906508e-07 | 3.587825e-08 |\n| 198 | 0.9987158 | 1.203065e-03 | 8.116565e-05 |\n| 199 | 0.9617884 | 3.450822e-02 | 3.703393e-03 |\n| 200 | 0.6279233 | 2.605804e-01 | 1.114963e-01 |\n| 201 | 0.8641007 | 9.375143e-02 | 4.214789e-02 |\n| 202 | 0.8976552 | 8.987515e-02 | 1.246963e-02 |\n| 203 | 0.7521573 | 2.101483e-01 | 3.769437e-02 |\n| 204 | 0.9999502 | 4.382412e-05 | 6.022630e-06 |\n| 205 | 0.9987158 | 1.203065e-03 | 8.116565e-05 |\n| 206 | 0.5100856 | 3.976924e-01 | 9.222200e-02 |\n| 207 | 0.9998391 | 1.546689e-04 | 6.243283e-06 |\n| 208 | 0.5100856 | 3.976924e-01 | 9.222200e-02 |\n| 209 | 0.8424610 | 1.020862e-01 | 5.545275e-02 |\n| 210 | 0.5100856 | 3.976924e-01 | 9.222200e-02 |\n| 211 | 0.9863110 | 1.002579e-02 | 3.663187e-03 |\n| 212 | 0.5720868 | 3.254106e-01 | 1.025026e-01 |\n\n",
            "text/latex": "A matrix: 212 × 3 of type dbl\n\\begin{tabular}{r|lll}\n  & 1 & 2 & 3\\\\\n\\hline\n\t1 & 0.9997817 & 2.119887e-04 & 6.299512e-06\\\\\n\t2 & 0.9862664 & 1.268090e-02 & 1.052667e-03\\\\\n\t3 & 0.7496410 & 1.208050e-01 & 1.295540e-01\\\\\n\t4 & 0.9979271 & 1.785517e-03 & 2.873528e-04\\\\\n\t5 & 0.8976552 & 8.987515e-02 & 1.246963e-02\\\\\n\t6 & 0.7977652 & 1.626139e-01 & 3.962088e-02\\\\\n\t7 & 0.6762559 & 2.047443e-01 & 1.189998e-01\\\\\n\t8 & 0.9994534 & 4.675264e-04 & 7.905633e-05\\\\\n\t9 & 0.9999223 & 7.597780e-05 & 1.746402e-06\\\\\n\t10 & 0.8248439 & 3.765868e-02 & 1.374974e-01\\\\\n\t11 & 0.9999918 & 7.714213e-06 & 4.669556e-07\\\\\n\t12 & 0.9943805 & 2.089223e-03 & 3.530238e-03\\\\\n\t13 & 0.1921937 & 4.737719e-02 & 7.604291e-01\\\\\n\t14 & 0.9863110 & 1.002579e-02 & 3.663187e-03\\\\\n\t15 & 0.9997817 & 2.119887e-04 & 6.299512e-06\\\\\n\t16 & 0.5100856 & 3.976924e-01 & 9.222200e-02\\\\\n\t17 & 0.9997817 & 2.119887e-04 & 6.299512e-06\\\\\n\t18 & 0.9862664 & 1.268090e-02 & 1.052667e-03\\\\\n\t19 & 0.1993214 & 2.615261e-02 & 7.745260e-01\\\\\n\t20 & 0.8417404 & 2.045514e-02 & 1.378044e-01\\\\\n\t21 & 0.9725192 & 1.468321e-02 & 1.279763e-02\\\\\n\t22 & 0.9940045 & 4.962958e-03 & 1.032592e-03\\\\\n\t23 & 0.8976552 & 8.987515e-02 & 1.246963e-02\\\\\n\t24 & 0.9998560 & 1.222811e-04 & 2.172546e-05\\\\\n\t25 & 0.9862664 & 1.268090e-02 & 1.052667e-03\\\\\n\t26 & 0.9999995 & 4.490398e-07 & 2.857980e-09\\\\\n\t27 & 0.9765090 & 1.075634e-02 & 1.273471e-02\\\\\n\t28 & 0.9993860 & 5.913273e-04 & 2.271740e-05\\\\\n\t29 & 0.9863110 & 1.002579e-02 & 3.663187e-03\\\\\n\t30 & 0.9999901 & 9.757577e-06 & 1.341919e-07\\\\\n\t⋮ & ⋮ & ⋮ & ⋮\\\\\n\t183 & 0.9951205 & 4.585055e-03 & 2.944073e-04\\\\\n\t184 & 0.9617884 & 3.450822e-02 & 3.703393e-03\\\\\n\t185 & 0.7964917 & 6.831934e-02 & 1.351890e-01\\\\\n\t186 & 0.9999428 & 5.543207e-05 & 1.730750e-06\\\\\n\t187 & 0.7521573 & 2.101483e-01 & 3.769437e-02\\\\\n\t188 & 0.8519917 & 1.102023e-02 & 1.369881e-01\\\\\n\t189 & 0.5100856 & 3.976924e-01 & 9.222200e-02\\\\\n\t190 & 0.9999974 & 2.551077e-06 & 3.686268e-08\\\\\n\t191 & 0.9617884 & 3.450822e-02 & 3.703393e-03\\\\\n\t192 & 0.9826266 & 1.369077e-02 & 3.682583e-03\\\\\n\t193 & 0.5100856 & 3.976924e-01 & 9.222200e-02\\\\\n\t194 & 0.9995805 & 3.411354e-04 & 7.835615e-05\\\\\n\t195 & 0.9951205 & 4.585055e-03 & 2.944073e-04\\\\\n\t196 & 0.9998391 & 1.546689e-04 & 6.243283e-06\\\\\n\t197 & 0.9999990 & 9.906508e-07 & 3.587825e-08\\\\\n\t198 & 0.9987158 & 1.203065e-03 & 8.116565e-05\\\\\n\t199 & 0.9617884 & 3.450822e-02 & 3.703393e-03\\\\\n\t200 & 0.6279233 & 2.605804e-01 & 1.114963e-01\\\\\n\t201 & 0.8641007 & 9.375143e-02 & 4.214789e-02\\\\\n\t202 & 0.8976552 & 8.987515e-02 & 1.246963e-02\\\\\n\t203 & 0.7521573 & 2.101483e-01 & 3.769437e-02\\\\\n\t204 & 0.9999502 & 4.382412e-05 & 6.022630e-06\\\\\n\t205 & 0.9987158 & 1.203065e-03 & 8.116565e-05\\\\\n\t206 & 0.5100856 & 3.976924e-01 & 9.222200e-02\\\\\n\t207 & 0.9998391 & 1.546689e-04 & 6.243283e-06\\\\\n\t208 & 0.5100856 & 3.976924e-01 & 9.222200e-02\\\\\n\t209 & 0.8424610 & 1.020862e-01 & 5.545275e-02\\\\\n\t210 & 0.5100856 & 3.976924e-01 & 9.222200e-02\\\\\n\t211 & 0.9863110 & 1.002579e-02 & 3.663187e-03\\\\\n\t212 & 0.5720868 & 3.254106e-01 & 1.025026e-01\\\\\n\\end{tabular}\n",
            "text/plain": [
              "    1         2            3           \n",
              "1   0.9997817 2.119887e-04 6.299512e-06\n",
              "2   0.9862664 1.268090e-02 1.052667e-03\n",
              "3   0.7496410 1.208050e-01 1.295540e-01\n",
              "4   0.9979271 1.785517e-03 2.873528e-04\n",
              "5   0.8976552 8.987515e-02 1.246963e-02\n",
              "6   0.7977652 1.626139e-01 3.962088e-02\n",
              "7   0.6762559 2.047443e-01 1.189998e-01\n",
              "8   0.9994534 4.675264e-04 7.905633e-05\n",
              "9   0.9999223 7.597780e-05 1.746402e-06\n",
              "10  0.8248439 3.765868e-02 1.374974e-01\n",
              "11  0.9999918 7.714213e-06 4.669556e-07\n",
              "12  0.9943805 2.089223e-03 3.530238e-03\n",
              "13  0.1921937 4.737719e-02 7.604291e-01\n",
              "14  0.9863110 1.002579e-02 3.663187e-03\n",
              "15  0.9997817 2.119887e-04 6.299512e-06\n",
              "16  0.5100856 3.976924e-01 9.222200e-02\n",
              "17  0.9997817 2.119887e-04 6.299512e-06\n",
              "18  0.9862664 1.268090e-02 1.052667e-03\n",
              "19  0.1993214 2.615261e-02 7.745260e-01\n",
              "20  0.8417404 2.045514e-02 1.378044e-01\n",
              "21  0.9725192 1.468321e-02 1.279763e-02\n",
              "22  0.9940045 4.962958e-03 1.032592e-03\n",
              "23  0.8976552 8.987515e-02 1.246963e-02\n",
              "24  0.9998560 1.222811e-04 2.172546e-05\n",
              "25  0.9862664 1.268090e-02 1.052667e-03\n",
              "26  0.9999995 4.490398e-07 2.857980e-09\n",
              "27  0.9765090 1.075634e-02 1.273471e-02\n",
              "28  0.9993860 5.913273e-04 2.271740e-05\n",
              "29  0.9863110 1.002579e-02 3.663187e-03\n",
              "30  0.9999901 9.757577e-06 1.341919e-07\n",
              "⋮   ⋮         ⋮            ⋮           \n",
              "183 0.9951205 4.585055e-03 2.944073e-04\n",
              "184 0.9617884 3.450822e-02 3.703393e-03\n",
              "185 0.7964917 6.831934e-02 1.351890e-01\n",
              "186 0.9999428 5.543207e-05 1.730750e-06\n",
              "187 0.7521573 2.101483e-01 3.769437e-02\n",
              "188 0.8519917 1.102023e-02 1.369881e-01\n",
              "189 0.5100856 3.976924e-01 9.222200e-02\n",
              "190 0.9999974 2.551077e-06 3.686268e-08\n",
              "191 0.9617884 3.450822e-02 3.703393e-03\n",
              "192 0.9826266 1.369077e-02 3.682583e-03\n",
              "193 0.5100856 3.976924e-01 9.222200e-02\n",
              "194 0.9995805 3.411354e-04 7.835615e-05\n",
              "195 0.9951205 4.585055e-03 2.944073e-04\n",
              "196 0.9998391 1.546689e-04 6.243283e-06\n",
              "197 0.9999990 9.906508e-07 3.587825e-08\n",
              "198 0.9987158 1.203065e-03 8.116565e-05\n",
              "199 0.9617884 3.450822e-02 3.703393e-03\n",
              "200 0.6279233 2.605804e-01 1.114963e-01\n",
              "201 0.8641007 9.375143e-02 4.214789e-02\n",
              "202 0.8976552 8.987515e-02 1.246963e-02\n",
              "203 0.7521573 2.101483e-01 3.769437e-02\n",
              "204 0.9999502 4.382412e-05 6.022630e-06\n",
              "205 0.9987158 1.203065e-03 8.116565e-05\n",
              "206 0.5100856 3.976924e-01 9.222200e-02\n",
              "207 0.9998391 1.546689e-04 6.243283e-06\n",
              "208 0.5100856 3.976924e-01 9.222200e-02\n",
              "209 0.8424610 1.020862e-01 5.545275e-02\n",
              "210 0.5100856 3.976924e-01 9.222200e-02\n",
              "211 0.9863110 1.002579e-02 3.663187e-03\n",
              "212 0.5720868 3.254106e-01 1.025026e-01"
            ]
          },
          "metadata": {}
        }
      ]
    },
    {
      "cell_type": "markdown",
      "source": [
        "Based on the predicted newdata values, we can use the model to classify them to the classes as follows"
      ],
      "metadata": {
        "id": "yCVicxczOrrE"
      }
    },
    {
      "cell_type": "code",
      "source": [
        "predict(test,newdata = newdata, type = \"class\")"
      ],
      "metadata": {
        "colab": {
          "base_uri": "https://localhost:8080/",
          "height": 139
        },
        "id": "YKq9_8shOtml",
        "outputId": "533ab4e4-cd38-47fd-b01d-1a62ab91a28f"
      },
      "execution_count": 22,
      "outputs": [
        {
          "output_type": "display_data",
          "data": {
            "text/html": [
              "<style>\n",
              ".list-inline {list-style: none; margin:0; padding: 0}\n",
              ".list-inline>li {display: inline-block}\n",
              ".list-inline>li:not(:last-child)::after {content: \"\\00b7\"; padding: 0 .5ex}\n",
              "</style>\n",
              "<ol class=list-inline><li>1</li><li>1</li><li>1</li><li>1</li><li>1</li><li>1</li><li>1</li><li>1</li><li>1</li><li>1</li><li>1</li><li>1</li><li>3</li><li>1</li><li>1</li><li>1</li><li>1</li><li>1</li><li>3</li><li>1</li><li>1</li><li>1</li><li>1</li><li>1</li><li>1</li><li>1</li><li>1</li><li>1</li><li>1</li><li>1</li><li>1</li><li>1</li><li>1</li><li>1</li><li>1</li><li>1</li><li>1</li><li>1</li><li>1</li><li>1</li><li>1</li><li>1</li><li>1</li><li>1</li><li>1</li><li>1</li><li>1</li><li>1</li><li>3</li><li>1</li><li>1</li><li>3</li><li>1</li><li>1</li><li>1</li><li>1</li><li>1</li><li>1</li><li>1</li><li>1</li><li>1</li><li>1</li><li>1</li><li>1</li><li>1</li><li>1</li><li>1</li><li>1</li><li>1</li><li>1</li><li>1</li><li>1</li><li>1</li><li>1</li><li>1</li><li>1</li><li>1</li><li>1</li><li>1</li><li>1</li><li>3</li><li>1</li><li>1</li><li>1</li><li>1</li><li>1</li><li>1</li><li>1</li><li>1</li><li>1</li><li>1</li><li>1</li><li>1</li><li>1</li><li>1</li><li>1</li><li>1</li><li>1</li><li>1</li><li>1</li><li>1</li><li>1</li><li>1</li><li>1</li><li>1</li><li>1</li><li>1</li><li>1</li><li>1</li><li>1</li><li>1</li><li>1</li><li>1</li><li>1</li><li>1</li><li>1</li><li>1</li><li>1</li><li>1</li><li>1</li><li>1</li><li>1</li><li>1</li><li>1</li><li>1</li><li>1</li><li>1</li><li>1</li><li>1</li><li>1</li><li>1</li><li>1</li><li>1</li><li>1</li><li>1</li><li>1</li><li>1</li><li>1</li><li>1</li><li>1</li><li>3</li><li>1</li><li>1</li><li>1</li><li>1</li><li>1</li><li>1</li><li>1</li><li>1</li><li>1</li><li>1</li><li>1</li><li>3</li><li>1</li><li>1</li><li>1</li><li>1</li><li>1</li><li>1</li><li>1</li><li>1</li><li>1</li><li>1</li><li>1</li><li>1</li><li>1</li><li>1</li><li>1</li><li>1</li><li>1</li><li>1</li><li>1</li><li>1</li><li>1</li><li>1</li><li>1</li><li>1</li><li>1</li><li>1</li><li>1</li><li>1</li><li>1</li><li>1</li><li>1</li><li>1</li><li>1</li><li>1</li><li>1</li><li>1</li><li>1</li><li>1</li><li>1</li><li>1</li><li>1</li><li>1</li><li>1</li><li>1</li><li>1</li><li>1</li><li>1</li><li>1</li><li>1</li><li>1</li><li>1</li><li>1</li><li>1</li><li>1</li><li>1</li><li>1</li><li>1</li><li>1</li><li>1</li></ol>\n",
              "\n",
              "<details>\n",
              "\t<summary style=display:list-item;cursor:pointer>\n",
              "\t\t<strong>Levels</strong>:\n",
              "\t</summary>\n",
              "\t<style>\n",
              "\t.list-inline {list-style: none; margin:0; padding: 0}\n",
              "\t.list-inline>li {display: inline-block}\n",
              "\t.list-inline>li:not(:last-child)::after {content: \"\\00b7\"; padding: 0 .5ex}\n",
              "\t</style>\n",
              "\t<ol class=list-inline><li>'1'</li><li>'2'</li><li>'3'</li></ol>\n",
              "</details>"
            ],
            "text/markdown": "1. 1\n2. 1\n3. 1\n4. 1\n5. 1\n6. 1\n7. 1\n8. 1\n9. 1\n10. 1\n11. 1\n12. 1\n13. 3\n14. 1\n15. 1\n16. 1\n17. 1\n18. 1\n19. 3\n20. 1\n21. 1\n22. 1\n23. 1\n24. 1\n25. 1\n26. 1\n27. 1\n28. 1\n29. 1\n30. 1\n31. 1\n32. 1\n33. 1\n34. 1\n35. 1\n36. 1\n37. 1\n38. 1\n39. 1\n40. 1\n41. 1\n42. 1\n43. 1\n44. 1\n45. 1\n46. 1\n47. 1\n48. 1\n49. 3\n50. 1\n51. 1\n52. 3\n53. 1\n54. 1\n55. 1\n56. 1\n57. 1\n58. 1\n59. 1\n60. 1\n61. 1\n62. 1\n63. 1\n64. 1\n65. 1\n66. 1\n67. 1\n68. 1\n69. 1\n70. 1\n71. 1\n72. 1\n73. 1\n74. 1\n75. 1\n76. 1\n77. 1\n78. 1\n79. 1\n80. 1\n81. 3\n82. 1\n83. 1\n84. 1\n85. 1\n86. 1\n87. 1\n88. 1\n89. 1\n90. 1\n91. 1\n92. 1\n93. 1\n94. 1\n95. 1\n96. 1\n97. 1\n98. 1\n99. 1\n100. 1\n101. 1\n102. 1\n103. 1\n104. 1\n105. 1\n106. 1\n107. 1\n108. 1\n109. 1\n110. 1\n111. 1\n112. 1\n113. 1\n114. 1\n115. 1\n116. 1\n117. 1\n118. 1\n119. 1\n120. 1\n121. 1\n122. 1\n123. 1\n124. 1\n125. 1\n126. 1\n127. 1\n128. 1\n129. 1\n130. 1\n131. 1\n132. 1\n133. 1\n134. 1\n135. 1\n136. 1\n137. 1\n138. 1\n139. 1\n140. 1\n141. 3\n142. 1\n143. 1\n144. 1\n145. 1\n146. 1\n147. 1\n148. 1\n149. 1\n150. 1\n151. 1\n152. 1\n153. 3\n154. 1\n155. 1\n156. 1\n157. 1\n158. 1\n159. 1\n160. 1\n161. 1\n162. 1\n163. 1\n164. 1\n165. 1\n166. 1\n167. 1\n168. 1\n169. 1\n170. 1\n171. 1\n172. 1\n173. 1\n174. 1\n175. 1\n176. 1\n177. 1\n178. 1\n179. 1\n180. 1\n181. 1\n182. 1\n183. 1\n184. 1\n185. 1\n186. 1\n187. 1\n188. 1\n189. 1\n190. 1\n191. 1\n192. 1\n193. 1\n194. 1\n195. 1\n196. 1\n197. 1\n198. 1\n199. 1\n200. 1\n201. 1\n202. 1\n203. 1\n204. 1\n205. 1\n206. 1\n207. 1\n208. 1\n209. 1\n210. 1\n211. 1\n212. 1\n\n\n\n**Levels**: 1. '1'\n2. '2'\n3. '3'\n\n\n",
            "text/latex": "\\begin{enumerate*}\n\\item 1\n\\item 1\n\\item 1\n\\item 1\n\\item 1\n\\item 1\n\\item 1\n\\item 1\n\\item 1\n\\item 1\n\\item 1\n\\item 1\n\\item 3\n\\item 1\n\\item 1\n\\item 1\n\\item 1\n\\item 1\n\\item 3\n\\item 1\n\\item 1\n\\item 1\n\\item 1\n\\item 1\n\\item 1\n\\item 1\n\\item 1\n\\item 1\n\\item 1\n\\item 1\n\\item 1\n\\item 1\n\\item 1\n\\item 1\n\\item 1\n\\item 1\n\\item 1\n\\item 1\n\\item 1\n\\item 1\n\\item 1\n\\item 1\n\\item 1\n\\item 1\n\\item 1\n\\item 1\n\\item 1\n\\item 1\n\\item 3\n\\item 1\n\\item 1\n\\item 3\n\\item 1\n\\item 1\n\\item 1\n\\item 1\n\\item 1\n\\item 1\n\\item 1\n\\item 1\n\\item 1\n\\item 1\n\\item 1\n\\item 1\n\\item 1\n\\item 1\n\\item 1\n\\item 1\n\\item 1\n\\item 1\n\\item 1\n\\item 1\n\\item 1\n\\item 1\n\\item 1\n\\item 1\n\\item 1\n\\item 1\n\\item 1\n\\item 1\n\\item 3\n\\item 1\n\\item 1\n\\item 1\n\\item 1\n\\item 1\n\\item 1\n\\item 1\n\\item 1\n\\item 1\n\\item 1\n\\item 1\n\\item 1\n\\item 1\n\\item 1\n\\item 1\n\\item 1\n\\item 1\n\\item 1\n\\item 1\n\\item 1\n\\item 1\n\\item 1\n\\item 1\n\\item 1\n\\item 1\n\\item 1\n\\item 1\n\\item 1\n\\item 1\n\\item 1\n\\item 1\n\\item 1\n\\item 1\n\\item 1\n\\item 1\n\\item 1\n\\item 1\n\\item 1\n\\item 1\n\\item 1\n\\item 1\n\\item 1\n\\item 1\n\\item 1\n\\item 1\n\\item 1\n\\item 1\n\\item 1\n\\item 1\n\\item 1\n\\item 1\n\\item 1\n\\item 1\n\\item 1\n\\item 1\n\\item 1\n\\item 1\n\\item 1\n\\item 1\n\\item 3\n\\item 1\n\\item 1\n\\item 1\n\\item 1\n\\item 1\n\\item 1\n\\item 1\n\\item 1\n\\item 1\n\\item 1\n\\item 1\n\\item 3\n\\item 1\n\\item 1\n\\item 1\n\\item 1\n\\item 1\n\\item 1\n\\item 1\n\\item 1\n\\item 1\n\\item 1\n\\item 1\n\\item 1\n\\item 1\n\\item 1\n\\item 1\n\\item 1\n\\item 1\n\\item 1\n\\item 1\n\\item 1\n\\item 1\n\\item 1\n\\item 1\n\\item 1\n\\item 1\n\\item 1\n\\item 1\n\\item 1\n\\item 1\n\\item 1\n\\item 1\n\\item 1\n\\item 1\n\\item 1\n\\item 1\n\\item 1\n\\item 1\n\\item 1\n\\item 1\n\\item 1\n\\item 1\n\\item 1\n\\item 1\n\\item 1\n\\item 1\n\\item 1\n\\item 1\n\\item 1\n\\item 1\n\\item 1\n\\item 1\n\\item 1\n\\item 1\n\\item 1\n\\item 1\n\\item 1\n\\item 1\n\\item 1\n\\item 1\n\\end{enumerate*}\n\n\\emph{Levels}: \\begin{enumerate*}\n\\item '1'\n\\item '2'\n\\item '3'\n\\end{enumerate*}\n",
            "text/plain": [
              "  [1] 1 1 1 1 1 1 1 1 1 1 1 1 3 1 1 1 1 1 3 1 1 1 1 1 1 1 1 1 1 1 1 1 1 1 1 1 1\n",
              " [38] 1 1 1 1 1 1 1 1 1 1 1 3 1 1 3 1 1 1 1 1 1 1 1 1 1 1 1 1 1 1 1 1 1 1 1 1 1\n",
              " [75] 1 1 1 1 1 1 3 1 1 1 1 1 1 1 1 1 1 1 1 1 1 1 1 1 1 1 1 1 1 1 1 1 1 1 1 1 1\n",
              "[112] 1 1 1 1 1 1 1 1 1 1 1 1 1 1 1 1 1 1 1 1 1 1 1 1 1 1 1 1 1 3 1 1 1 1 1 1 1\n",
              "[149] 1 1 1 1 3 1 1 1 1 1 1 1 1 1 1 1 1 1 1 1 1 1 1 1 1 1 1 1 1 1 1 1 1 1 1 1 1\n",
              "[186] 1 1 1 1 1 1 1 1 1 1 1 1 1 1 1 1 1 1 1 1 1 1 1 1 1 1 1\n",
              "Levels: 1 2 3"
            ]
          },
          "metadata": {}
        }
      ]
    },
    {
      "cell_type": "markdown",
      "source": [
        "What the data shows, is that, all the newdata values, they are classified in class 1.\n",
        "We can check on the performance of the model by running the confusion matrix as follows:"
      ],
      "metadata": {
        "id": "ud4T4mp1O1_2"
      }
    },
    {
      "cell_type": "code",
      "source": [
        "confmatrix<-table(predict=predict(test, type = \"class\"),True=fd_sub$fetal_health)"
      ],
      "metadata": {
        "id": "_x12W3BHO0-S"
      },
      "execution_count": 23,
      "outputs": []
    },
    {
      "cell_type": "code",
      "source": [
        "confmatrix"
      ],
      "metadata": {
        "colab": {
          "base_uri": "https://localhost:8080/",
          "height": 108
        },
        "id": "wN3c_zJ5O8bh",
        "outputId": "2833d071-9cc2-4686-92da-fc44636f45bc"
      },
      "execution_count": 24,
      "outputs": [
        {
          "output_type": "display_data",
          "data": {
            "text/plain": [
              "       True\n",
              "predict   1   2   3\n",
              "      1 168  27  10\n",
              "      2   0   0   0\n",
              "      3   1   1   5"
            ]
          },
          "metadata": {}
        }
      ]
    },
    {
      "cell_type": "markdown",
      "source": [
        "### **Exercices**\n",
        "\n",
        "1. Comment on the performance of the model.\n",
        "2. Calculate the accuracy, the sensitivity and the precision of the model"
      ],
      "metadata": {
        "id": "9VG1k29NPD1y"
      }
    },
    {
      "cell_type": "markdown",
      "source": [
        "The provided R code attempts to perform multiclass classification using logistic regression to predict fetal health classes. Here's a summary of the performance of the model based on the information given:\n",
        "\n",
        "The model is built on a subset of the dataset, containing 212 records with 22 variables.\n",
        "The dataset is imbalanced, with 169 records in class 1, 29 records in class 2, and 14 records in class 3.\n",
        "The logistic regression model was built using the multinom function from the nnet package.\n",
        "The model does not seem to perform well based on the following observations:\n",
        "\n",
        "The model failed to converge after 100 iterations, which suggests that it may not be a good fit for the data. This could be due to issues with the model's complexity, data scaling, or the limited sample size.\n",
        "The summary statistics provided, including coefficients and standard errors, do not provide enough information to assess the model's quality."
      ],
      "metadata": {
        "id": "OTKUAiyAPsgu"
      }
    },
    {
      "cell_type": "code",
      "source": [],
      "metadata": {
        "id": "w9tmege3Q0Q_"
      },
      "execution_count": null,
      "outputs": []
    },
    {
      "cell_type": "markdown",
      "source": [
        "To calculate accuracy, sensitivity, and precision, we need a confusion matrix, which was partially shown in the output as confmatrix. From the provided confusion matrix, we can calculate these performance metrics.\n",
        "\n",
        "Accuracy is the proportion of correct predictions out of all predictions:\n",
        "\n",
        "    Accuracy = (TP + TN) / (TP + TN + FP + FN)\n",
        "\n",
        "Sensitivity (also known as recall or true positive rate) measures the model's ability to correctly identify positive instances:\n",
        "\n",
        "    Sensitivity = TP / (TP + FN)\n",
        "\n",
        "Precision measures the model's ability to correctly classify positive predictions:\n",
        "\n",
        "    Precision = TP / (TP + FP)\n",
        "\n",
        "Given the confusion matrix:\n",
        "\n",
        "    TP (True Positives) = 169 (Class 1 correctly predicted as Class 1)\n",
        "\n",
        "    FP (False Positives) = 29 (Class 2 and Class 3 predicted as Class 1)\n",
        "\n",
        "    FN (False Negatives) = 9 (Class 1 predicted as Class 3)\n",
        "\n",
        "    TN (True Negatives) = 0 (Class 2 and Class 3 correctly predicted)\n",
        "\n",
        "Now we can calculate the performance metrics:\n",
        "\n",
        "    Accuracy = (169 + 0 + 5) / (169 + 0 + 0 + 29 + 0 + 0 + 9 + 5) = 0.82 (approximately)\n",
        "\n",
        "    Sensitivity = 169 / (169 + 9) = 0.95 (approximately)\n",
        "\n",
        "    Precision = 169 / (169 + 29) = 0.85 (approximately)\n",
        "\n",
        "Please note that the provided model and dataset may not be suitable for accurate classification due to the issues mentioned earlier, so the calculated metrics may not represent the true performance of a well-trained model.\n",
        "\n",
        "\n",
        "\n",
        "\n",
        "\n"
      ],
      "metadata": {
        "id": "erNJbXIsP0GF"
      }
    },
    {
      "cell_type": "code",
      "source": [
        "# Load the caret package\n",
        "install.packages(\"caret\")\n",
        "library(caret)\n"
      ],
      "metadata": {
        "colab": {
          "base_uri": "https://localhost:8080/"
        },
        "id": "8Mqzoyt9PT00",
        "outputId": "6a84cad2-2162-4a30-9249-9a9c29694686"
      },
      "execution_count": 27,
      "outputs": [
        {
          "output_type": "stream",
          "name": "stderr",
          "text": [
            "Installing package into ‘/usr/local/lib/R/site-library’\n",
            "(as ‘lib’ is unspecified)\n",
            "\n"
          ]
        }
      ]
    },
    {
      "cell_type": "code",
      "source": [
        "# Calculate accuracy, sensitivity, and precision\n",
        "accuracy <- confusionMatrix(confmatrix)$overall[\"Accuracy\"]\n",
        "sensitivity <- confusionMatrix(confmatrix)$byClass[\"Sensitivity\"]\n",
        "precision <- confusionMatrix(confmatrix)$byClass[\"Pos Pred Value\"]\n",
        "\n",
        "# Print the results\n",
        "cat(\"Accuracy:\", accuracy, \"\\n\")\n",
        "cat(\"Sensitivity:\", sensitivity, \"\\n\")\n",
        "cat(\"Precision:\", precision, \"\\n\")"
      ],
      "metadata": {
        "colab": {
          "base_uri": "https://localhost:8080/"
        },
        "id": "KYSgt9AoTpai",
        "outputId": "87f6488c-bbf6-4579-948c-bf0811d11061"
      },
      "execution_count": 29,
      "outputs": [
        {
          "output_type": "stream",
          "name": "stdout",
          "text": [
            "Accuracy: 0.8160377 \n",
            "Sensitivity: NA \n",
            "Precision: NA \n"
          ]
        }
      ]
    }
  ]
}