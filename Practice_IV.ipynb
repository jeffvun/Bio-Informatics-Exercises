{
  "nbformat": 4,
  "nbformat_minor": 0,
  "metadata": {
    "colab": {
      "provenance": [],
      "authorship_tag": "ABX9TyOIF/y16AhGhzXmyHLgHLgc",
      "include_colab_link": true
    },
    "kernelspec": {
      "name": "ir",
      "display_name": "R"
    },
    "language_info": {
      "name": "R"
    }
  },
  "cells": [
    {
      "cell_type": "markdown",
      "metadata": {
        "id": "view-in-github",
        "colab_type": "text"
      },
      "source": [
        "<a href=\"https://colab.research.google.com/github/jeffvun/Bio-Informatics-Exercises/blob/main/Practice_IV.ipynb\" target=\"_parent\"><img src=\"https://colab.research.google.com/assets/colab-badge.svg\" alt=\"Open In Colab\"/></a>"
      ]
    },
    {
      "cell_type": "markdown",
      "source": [
        "## **Practice 4: Multiclass Classification using Logistic Regression**"
      ],
      "metadata": {
        "id": "UDvK9Es5A-QP"
      }
    },
    {
      "cell_type": "markdown",
      "source": [
        "### **Loading Dataset**"
      ],
      "metadata": {
        "id": "fBuScV0cBTfg"
      }
    },
    {
      "cell_type": "code",
      "execution_count": 26,
      "metadata": {
        "id": "gnXSugeuA3Ji"
      },
      "outputs": [],
      "source": [
        "fetal_health <- read.csv(\"Data/Fetal Health Dataset.csv\")"
      ]
    },
    {
      "cell_type": "code",
      "source": [
        "sprintf(\"The dataset has %s records with a total of %s variables\", nrow(fetal_health), ncol(fetal_health))"
      ],
      "metadata": {
        "colab": {
          "base_uri": "https://localhost:8080/",
          "height": 34
        },
        "id": "jb-RGZ-7H2yi",
        "outputId": "6fa16c8d-3c78-4c93-f55f-0d9dbd69e90d"
      },
      "execution_count": 27,
      "outputs": [
        {
          "output_type": "display_data",
          "data": {
            "text/html": [
              "'The dataset has 2126 records with a total of 22 variables'"
            ],
            "text/markdown": "'The dataset has 2126 records with a total of 22 variables'",
            "text/latex": "'The dataset has 2126 records with a total of 22 variables'",
            "text/plain": [
              "[1] \"The dataset has 2126 records with a total of 22 variables\""
            ]
          },
          "metadata": {}
        }
      ]
    },
    {
      "cell_type": "markdown",
      "source": [
        "### **Sampling Dataset**"
      ],
      "metadata": {
        "id": "L_r4Dx_IGLjd"
      }
    },
    {
      "cell_type": "markdown",
      "source": [
        "Extracting 10% of the total dataset: This for demonstrating how classification is done. But ordinarily\n",
        "the entire dataset should be used when using high computing devices."
      ],
      "metadata": {
        "id": "mKKwJj7_GQUo"
      }
    },
    {
      "cell_type": "code",
      "source": [
        "fd_sub <-fetal_health[sample(1:nrow(fetal_health), 0.1*(2126), replace = FALSE ), ]"
      ],
      "metadata": {
        "id": "-SRpITPSGPPK"
      },
      "execution_count": 28,
      "outputs": []
    },
    {
      "cell_type": "markdown",
      "source": [
        "To understand the new dataset"
      ],
      "metadata": {
        "id": "nrOgWuFIJMrB"
      }
    },
    {
      "cell_type": "code",
      "source": [
        "sprintf(\"The dataset has %s records with a total of %s variables\", nrow(fd_sub), ncol(fd_sub))"
      ],
      "metadata": {
        "colab": {
          "base_uri": "https://localhost:8080/",
          "height": 34
        },
        "id": "3sJ0QSUzJT-f",
        "outputId": "07e2e896-1fc1-4613-a74f-1c0e2ff70be3"
      },
      "execution_count": 29,
      "outputs": [
        {
          "output_type": "display_data",
          "data": {
            "text/html": [
              "'The dataset has 212 records with a total of 22 variables'"
            ],
            "text/markdown": "'The dataset has 212 records with a total of 22 variables'",
            "text/latex": "'The dataset has 212 records with a total of 22 variables'",
            "text/plain": [
              "[1] \"The dataset has 212 records with a total of 22 variables\""
            ]
          },
          "metadata": {}
        }
      ]
    },
    {
      "cell_type": "code",
      "source": [
        "tab1 <- prop.table(table(fd_sub$fetal_health))"
      ],
      "metadata": {
        "id": "LPiwI34DJrYH"
      },
      "execution_count": 30,
      "outputs": []
    },
    {
      "cell_type": "code",
      "source": [
        "barplot (tab1, las=1, col=\"Blue\")"
      ],
      "metadata": {
        "colab": {
          "base_uri": "https://localhost:8080/",
          "height": 437
        },
        "id": "Oyq-NcrSJ_zO",
        "outputId": "574bf628-1005-490b-8ace-8a53112272df"
      },
      "execution_count": 31,
      "outputs": [
        {
          "output_type": "display_data",
          "data": {
            "text/plain": [
              "plot without title"
            ],
            "image/png": "[encoded data removed]"
          },
          "metadata": {
            "image/png": {
              "width": 420,
              "height": 420
            }
          }
        }
      ]
    },
    {
      "cell_type": "markdown",
      "source": [
        "### **Modelling**"
      ],
      "metadata": {
        "id": "n7gcWCmFKJyE"
      }
    },
    {
      "cell_type": "markdown",
      "source": [
        "The objective is to model say:\n",
        "P(fetal_health)=f(acceleration, light_acceleartion, severe_acceleration,\n",
        "prolongued_accelation)\n",
        "We can view/explore the data on fetal_health using the table function as\n",
        "follow:"
      ],
      "metadata": {
        "id": "b2tMPUMGKTOT"
      }
    },
    {
      "cell_type": "code",
      "source": [
        "table(fd_sub$fetal_health)"
      ],
      "metadata": {
        "colab": {
          "base_uri": "https://localhost:8080/",
          "height": 72
        },
        "id": "y7r-uyUHKRPx",
        "outputId": "c3ae02c5-d8ac-4b04-9136-b0340272c626"
      },
      "execution_count": 32,
      "outputs": [
        {
          "output_type": "display_data",
          "data": {
            "text/plain": [
              "\n",
              "  1   2   3 \n",
              "171  26  15 "
            ]
          },
          "metadata": {}
        }
      ]
    },
    {
      "cell_type": "markdown",
      "source": [
        "The table shows the number of fetals that were grouped in the three classes.\n",
        "We can explore for each of the variables used in the model to have a clear\n",
        "impression of how the grouping occurs e.g."
      ],
      "metadata": {
        "id": "nzAbsF_mKilo"
      }
    },
    {
      "cell_type": "code",
      "source": [
        "table(fd_sub$accelerations)"
      ],
      "metadata": {
        "colab": {
          "base_uri": "https://localhost:8080/",
          "height": 108
        },
        "id": "B_-NayrAKjzM",
        "outputId": "d7809f0d-d228-41c7-bbe3-88d83e6c034b"
      },
      "execution_count": 33,
      "outputs": [
        {
          "output_type": "display_data",
          "data": {
            "text/plain": [
              "\n",
              "    0 0.001 0.002 0.003 0.004 0.005 0.006 0.007 0.008 0.009  0.01 0.011 0.012 \n",
              "   68    16    21    19    15    14    11    10     9    10     6     1     2 \n",
              "0.013 0.014 0.015 0.016 0.017 0.018 \n",
              "    3     2     2     1     1     1 "
            ]
          },
          "metadata": {}
        }
      ]
    },
    {
      "cell_type": "markdown",
      "source": [
        "### **Clustering**"
      ],
      "metadata": {
        "id": "5GY6PnJ2Kv3P"
      }
    },
    {
      "cell_type": "markdown",
      "source": [
        "Next, we need to investigate if we can use the proposed model to class the\n",
        "data into the three classes. This requires fitting the data into the model using\n",
        "the nnet package. We therefore start by first installing the nnet package. i.e."
      ],
      "metadata": {
        "id": "2KztOMLmKyWx"
      }
    },
    {
      "cell_type": "code",
      "source": [
        "install.packages(\"nnet\")"
      ],
      "metadata": {
        "colab": {
          "base_uri": "https://localhost:8080/"
        },
        "id": "ZptK61eXK0_l",
        "outputId": "835b581a-63aa-4fa3-e01b-fae5fe2c5434"
      },
      "execution_count": 34,
      "outputs": [
        {
          "output_type": "stream",
          "name": "stderr",
          "text": [
            "Installing package into ‘/usr/local/lib/R/site-library’\n",
            "(as ‘lib’ is unspecified)\n",
            "\n"
          ]
        }
      ]
    },
    {
      "cell_type": "code",
      "source": [
        "library(nnet)"
      ],
      "metadata": {
        "id": "Vw-KtR-8K5WI"
      },
      "execution_count": 35,
      "outputs": []
    },
    {
      "cell_type": "markdown",
      "source": [
        "The model to be used is as follows:"
      ],
      "metadata": {
        "id": "7LhXhTuRK-bi"
      }
    },
    {
      "cell_type": "code",
      "source": [
        "formula <- fd_sub$fetal_health ~\"fd_sub$accelerations + fd_sub$light_decelerations + fd_sub$severe_decelerations + fd_sub$prolongued_decelerations\""
      ],
      "metadata": {
        "id": "8UZxP2eMLB-J"
      },
      "execution_count": 36,
      "outputs": []
    },
    {
      "cell_type": "code",
      "source": [
        "test <- multinom(fd_sub$fetal_health ~ fd_sub$accelerations + fd_sub$light_decelerations + fd_sub$severe_decelerations + fd_sub$prolongued_decelerations)"
      ],
      "metadata": {
        "colab": {
          "base_uri": "https://localhost:8080/"
        },
        "id": "BUgdmYORLhBj",
        "outputId": "4617dde8-babb-4b14-963b-7682a0137fad"
      },
      "execution_count": 37,
      "outputs": [
        {
          "output_type": "stream",
          "name": "stdout",
          "text": [
            "# weights:  18 (10 variable)\n",
            "initial  value 232.905805 \n",
            "iter  10 value 128.349146\n",
            "iter  20 value 86.750684\n",
            "iter  30 value 86.320629\n",
            "iter  40 value 81.936589\n",
            "iter  50 value 81.814172\n",
            "iter  60 value 77.561907\n",
            "iter  70 value 77.527667\n",
            "iter  80 value 75.960165\n",
            "iter  90 value 75.764516\n",
            "iter 100 value 74.738692\n",
            "final  value 74.738692 \n",
            "stopped after 100 iterations\n"
          ]
        }
      ]
    },
    {
      "cell_type": "markdown",
      "source": [
        "NB: The model could not converge after 100 iterations. But this could be\n",
        "improved through use of more data or scaling of the data. Remember we\n",
        "randomly selected variables included in the model."
      ],
      "metadata": {
        "id": "auSOrpbWL3tb"
      }
    },
    {
      "cell_type": "markdown",
      "source": [
        "We now proceed to obtain the summary statistics of our model as follows:"
      ],
      "metadata": {
        "id": "KupBFuDDME0Z"
      }
    },
    {
      "cell_type": "code",
      "source": [
        "output <- summary(test)\n",
        "print(output)"
      ],
      "metadata": {
        "colab": {
          "base_uri": "https://localhost:8080/"
        },
        "id": "7V5DG2LaL4vB",
        "outputId": "cd3d8f3a-5ed3-4a0d-94a7-d08f746adb1d"
      },
      "execution_count": 38,
      "outputs": [
        {
          "output_type": "stream",
          "name": "stdout",
          "text": [
            "Call:\n",
            "multinom(formula = fd_sub$fetal_health ~ fd_sub$accelerations + \n",
            "    fd_sub$light_decelerations + fd_sub$severe_decelerations + \n",
            "    fd_sub$prolongued_decelerations)\n",
            "\n",
            "Coefficients:\n",
            "   (Intercept) fd_sub$accelerations fd_sub$light_decelerations\n",
            "2  0.004563541           -1049.6889                 -451.22666\n",
            "3 -1.564364383            -813.4547                  -84.85892\n",
            "  fd_sub$severe_decelerations fd_sub$prolongued_decelerations\n",
            "2                           0                       -88.58157\n",
            "3                           0                      1236.43847\n",
            "\n",
            "Std. Errors:\n",
            "  (Intercept) fd_sub$accelerations fd_sub$light_decelerations\n",
            "2   0.3027863             276.7412                   189.7722\n",
            "3   0.4811725             326.6103                   105.2384\n",
            "  fd_sub$severe_decelerations fd_sub$prolongued_decelerations\n",
            "2                2.042666e-13                        863.2831\n",
            "3                0.000000e+00                        345.4400\n",
            "\n",
            "Residual Deviance: 149.4774 \n",
            "AIC: 165.4774 \n"
          ]
        }
      ]
    },
    {
      "cell_type": "markdown",
      "source": [
        "From the above summary statistics we have our logistic model written as follows:\n",
        "\n",
        "𝑙𝑜𝑔 (𝑃 (\n",
        "𝑓𝑒𝑡𝑎𝑙_ℎ𝑒𝑎𝑙𝑡ℎ = 2 /\n",
        "𝑓𝑒𝑡𝑎𝑙_ℎ𝑒𝑎𝑙𝑡ℎ = 1\n",
        ")) = ...\n",
        "\n",
        "we can write the expression as: log(P(Pclass=2)P(Pclass=1))=−1.5642365−0.0698696⋅Sexmale+2.004449⋅EmbarkedQ+1.876297⋅EmbarkedS−0.07211907⋅SibSp+0.04548861⋅Parch\n",
        "\n",
        "We can obtain the estimated probability for each class as:"
      ],
      "metadata": {
        "id": "8GetXV_BMeqm"
      }
    },
    {
      "cell_type": "code",
      "source": [
        "p_hat <- fitted(test)"
      ],
      "metadata": {
        "id": "7_M3ubFGMmwu"
      },
      "execution_count": 39,
      "outputs": []
    },
    {
      "cell_type": "code",
      "source": [
        "head(round(p_hat, digits = 2))"
      ],
      "metadata": {
        "colab": {
          "base_uri": "https://localhost:8080/",
          "height": 272
        },
        "id": "XQBtacfLNqS_",
        "outputId": "9276af5c-37cf-4ed7-e8ef-90f7fce84c91"
      },
      "execution_count": 40,
      "outputs": [
        {
          "output_type": "display_data",
          "data": {
            "text/html": [
              "<table class=\"dataframe\">\n",
              "<caption>A matrix: 6 × 3 of type dbl</caption>\n",
              "<thead>\n",
              "\t<tr><th></th><th scope=col>1</th><th scope=col>2</th><th scope=col>3</th></tr>\n",
              "</thead>\n",
              "<tbody>\n",
              "\t<tr><th scope=row>1</th><td>0.45</td><td>0.45</td><td>0.09</td></tr>\n",
              "\t<tr><th scope=row>2</th><td>0.99</td><td>0.01</td><td>0.00</td></tr>\n",
              "\t<tr><th scope=row>3</th><td>0.45</td><td>0.45</td><td>0.09</td></tr>\n",
              "\t<tr><th scope=row>4</th><td>1.00</td><td>0.00</td><td>0.00</td></tr>\n",
              "\t<tr><th scope=row>5</th><td>0.86</td><td>0.04</td><td>0.10</td></tr>\n",
              "\t<tr><th scope=row>6</th><td>0.67</td><td>0.04</td><td>0.29</td></tr>\n",
              "</tbody>\n",
              "</table>\n"
            ],
            "text/markdown": "\nA matrix: 6 × 3 of type dbl\n\n| <!--/--> | 1 | 2 | 3 |\n|---|---|---|---|\n| 1 | 0.45 | 0.45 | 0.09 |\n| 2 | 0.99 | 0.01 | 0.00 |\n| 3 | 0.45 | 0.45 | 0.09 |\n| 4 | 1.00 | 0.00 | 0.00 |\n| 5 | 0.86 | 0.04 | 0.10 |\n| 6 | 0.67 | 0.04 | 0.29 |\n\n",
            "text/latex": "A matrix: 6 × 3 of type dbl\n\\begin{tabular}{r|lll}\n  & 1 & 2 & 3\\\\\n\\hline\n\t1 & 0.45 & 0.45 & 0.09\\\\\n\t2 & 0.99 & 0.01 & 0.00\\\\\n\t3 & 0.45 & 0.45 & 0.09\\\\\n\t4 & 1.00 & 0.00 & 0.00\\\\\n\t5 & 0.86 & 0.04 & 0.10\\\\\n\t6 & 0.67 & 0.04 & 0.29\\\\\n\\end{tabular}\n",
            "text/plain": [
              "  1    2    3   \n",
              "1 0.45 0.45 0.09\n",
              "2 0.99 0.01 0.00\n",
              "3 0.45 0.45 0.09\n",
              "4 1.00 0.00 0.00\n",
              "5 0.86 0.04 0.10\n",
              "6 0.67 0.04 0.29"
            ]
          },
          "metadata": {}
        }
      ]
    },
    {
      "cell_type": "markdown",
      "source": [
        "NB: The output using the head function only displays for the first 6 rows of the data frame.\n",
        "We can use the model to predict the fetal_health class for given different values the acceleration,\n",
        "light_decceleration, severe_deccelerations and prolongued_decceleration as follows:"
      ],
      "metadata": {
        "id": "L0fqdwMuN1-J"
      }
    },
    {
      "cell_type": "code",
      "source": [
        "newdata <- data.frame(accelerations=0.008, light_decelerations=fd_sub$light_decelerations, severe_decelerations=fd_sub$severe_decelerations, prolongued_decelerations=fd_sub$prolongued_decelerations)"
      ],
      "metadata": {
        "id": "Gz9PB4dkNzjZ"
      },
      "execution_count": 41,
      "outputs": []
    },
    {
      "cell_type": "code",
      "source": [
        "predict(test, newdata = newdata, \"probs\")"
      ],
      "metadata": {
        "colab": {
          "base_uri": "https://localhost:8080/",
          "height": 1000
        },
        "id": "xGybaErnOLo7",
        "outputId": "e5f7ab14-51b0-484a-db3e-2453489ba936"
      },
      "execution_count": 42,
      "outputs": [
        {
          "output_type": "display_data",
          "data": {
            "text/html": [
              "<table class=\"dataframe\">\n",
              "<caption>A matrix: 212 × 3 of type dbl</caption>\n",
              "<thead>\n",
              "\t<tr><th></th><th scope=col>1</th><th scope=col>2</th><th scope=col>3</th></tr>\n",
              "</thead>\n",
              "<tbody>\n",
              "\t<tr><th scope=row>1</th><td>0.4517130</td><td>4.537791e-01</td><td>9.450783e-02</td></tr>\n",
              "\t<tr><th scope=row>2</th><td>0.9912154</td><td>5.233348e-03</td><td>3.551230e-03</td></tr>\n",
              "\t<tr><th scope=row>3</th><td>0.4517130</td><td>4.537791e-01</td><td>9.450783e-02</td></tr>\n",
              "\t<tr><th scope=row>4</th><td>0.9982428</td><td>9.081561e-05</td><td>1.666338e-03</td></tr>\n",
              "\t<tr><th scope=row>5</th><td>0.8634143</td><td>3.685059e-02</td><td>9.973512e-02</td></tr>\n",
              "\t<tr><th scope=row>6</th><td>0.6692053</td><td>4.104680e-02</td><td>2.897479e-01</td></tr>\n",
              "\t<tr><th scope=row>7</th><td>0.8589497</td><td>1.057308e-01</td><td>3.531955e-02</td></tr>\n",
              "\t<tr><th scope=row>8</th><td>0.4517130</td><td>4.537791e-01</td><td>9.450783e-02</td></tr>\n",
              "\t<tr><th scope=row>9</th><td>0.8589497</td><td>1.057308e-01</td><td>3.531955e-02</td></tr>\n",
              "\t<tr><th scope=row>10</th><td>0.9912154</td><td>5.233348e-03</td><td>3.551230e-03</td></tr>\n",
              "\t<tr><th scope=row>11</th><td>0.4517130</td><td>4.537791e-01</td><td>9.450783e-02</td></tr>\n",
              "\t<tr><th scope=row>12</th><td>0.4517130</td><td>4.537791e-01</td><td>9.450783e-02</td></tr>\n",
              "\t<tr><th scope=row>13</th><td>0.4517130</td><td>4.537791e-01</td><td>9.450783e-02</td></tr>\n",
              "\t<tr><th scope=row>14</th><td>0.4517130</td><td>4.537791e-01</td><td>9.450783e-02</td></tr>\n",
              "\t<tr><th scope=row>15</th><td>0.9999988</td><td>1.458379e-07</td><td>1.050561e-06</td></tr>\n",
              "\t<tr><th scope=row>16</th><td>0.9958759</td><td>1.358066e-03</td><td>2.766016e-03</td></tr>\n",
              "\t<tr><th scope=row>17</th><td>0.6923288</td><td>2.434559e-01</td><td>6.421533e-02</td></tr>\n",
              "\t<tr><th scope=row>18</th><td>0.6313168</td><td>2.572165e-01</td><td>1.114667e-01</td></tr>\n",
              "\t<tr><th scope=row>19</th><td>0.9999988</td><td>1.458379e-07</td><td>1.050561e-06</td></tr>\n",
              "\t<tr><th scope=row>20</th><td>0.9773601</td><td>1.474145e-02</td><td>7.898493e-03</td></tr>\n",
              "\t<tr><th scope=row>21</th><td>0.4517130</td><td>4.537791e-01</td><td>9.450783e-02</td></tr>\n",
              "\t<tr><th scope=row>22</th><td>0.9773601</td><td>1.474145e-02</td><td>7.898493e-03</td></tr>\n",
              "\t<tr><th scope=row>23</th><td>0.1278647</td><td>2.543463e-02</td><td>8.467006e-01</td></tr>\n",
              "\t<tr><th scope=row>24</th><td>0.9999995</td><td>5.105009e-08</td><td>4.657393e-07</td></tr>\n",
              "\t<tr><th scope=row>25</th><td>0.9994617</td><td>2.263370e-04</td><td>3.119897e-04</td></tr>\n",
              "\t<tr><th scope=row>26</th><td>0.9986508</td><td>6.460662e-04</td><td>7.031802e-04</td></tr>\n",
              "\t<tr><th scope=row>27</th><td>0.9999109</td><td>2.774613e-05</td><td>6.134479e-05</td></tr>\n",
              "\t<tr><th scope=row>28</th><td>0.7192879</td><td>1.789337e-02</td><td>2.628187e-01</td></tr>\n",
              "\t<tr><th scope=row>29</th><td>0.9995839</td><td>2.747425e-05</td><td>3.885939e-04</td></tr>\n",
              "\t<tr><th scope=row>30</th><td>0.9219784</td><td>4.602820e-02</td><td>3.199342e-02</td></tr>\n",
              "\t<tr><th scope=row>⋮</th><td>⋮</td><td>⋮</td><td>⋮</td></tr>\n",
              "\t<tr><th scope=row>183</th><td>0.6923288</td><td>2.434559e-01</td><td>6.421533e-02</td></tr>\n",
              "\t<tr><th scope=row>184</th><td>0.9912154</td><td>5.233348e-03</td><td>3.551230e-03</td></tr>\n",
              "\t<tr><th scope=row>185</th><td>0.9941710</td><td>1.000357e-03</td><td>4.828677e-03</td></tr>\n",
              "\t<tr><th scope=row>186</th><td>0.9422250</td><td>4.059891e-02</td><td>1.717605e-02</td></tr>\n",
              "\t<tr><th scope=row>187</th><td>0.6923288</td><td>2.434559e-01</td><td>6.421533e-02</td></tr>\n",
              "\t<tr><th scope=row>188</th><td>0.9999109</td><td>2.774613e-05</td><td>6.134479e-05</td></tr>\n",
              "\t<tr><th scope=row>189</th><td>0.9401402</td><td>2.989033e-02</td><td>2.996945e-02</td></tr>\n",
              "\t<tr><th scope=row>190</th><td>0.9422250</td><td>4.059891e-02</td><td>1.717605e-02</td></tr>\n",
              "\t<tr><th scope=row>191</th><td>0.9997824</td><td>7.925392e-05</td><td>1.383569e-04</td></tr>\n",
              "\t<tr><th scope=row>192</th><td>0.9965753</td><td>1.841822e-03</td><td>1.582858e-03</td></tr>\n",
              "\t<tr><th scope=row>193</th><td>0.9965753</td><td>1.841822e-03</td><td>1.582858e-03</td></tr>\n",
              "\t<tr><th scope=row>194</th><td>0.8589497</td><td>1.057308e-01</td><td>3.531955e-02</td></tr>\n",
              "\t<tr><th scope=row>195</th><td>0.9422250</td><td>4.059891e-02</td><td>1.717605e-02</td></tr>\n",
              "\t<tr><th scope=row>196</th><td>0.9876715</td><td>1.601706e-04</td><td>1.216837e-02</td></tr>\n",
              "\t<tr><th scope=row>197</th><td>0.6959866</td><td>2.718664e-02</td><td>2.768268e-01</td></tr>\n",
              "\t<tr><th scope=row>198</th><td>0.6313168</td><td>2.572165e-01</td><td>1.114667e-01</td></tr>\n",
              "\t<tr><th scope=row>199</th><td>0.6923288</td><td>2.434559e-01</td><td>6.421533e-02</td></tr>\n",
              "\t<tr><th scope=row>200</th><td>0.9681862</td><td>1.691952e-02</td><td>1.489429e-02</td></tr>\n",
              "\t<tr><th scope=row>201</th><td>0.9422250</td><td>4.059891e-02</td><td>1.717605e-02</td></tr>\n",
              "\t<tr><th scope=row>202</th><td>0.9965753</td><td>1.841822e-03</td><td>1.582858e-03</td></tr>\n",
              "\t<tr><th scope=row>203</th><td>0.9422250</td><td>4.059891e-02</td><td>1.717605e-02</td></tr>\n",
              "\t<tr><th scope=row>204</th><td>0.9773601</td><td>1.474145e-02</td><td>7.898493e-03</td></tr>\n",
              "\t<tr><th scope=row>205</th><td>0.9992875</td><td>1.669776e-04</td><td>5.454842e-04</td></tr>\n",
              "\t<tr><th scope=row>206</th><td>0.9958759</td><td>1.358066e-03</td><td>2.766016e-03</td></tr>\n",
              "\t<tr><th scope=row>207</th><td>0.4517130</td><td>4.537791e-01</td><td>9.450783e-02</td></tr>\n",
              "\t<tr><th scope=row>208</th><td>0.4517130</td><td>4.537791e-01</td><td>9.450783e-02</td></tr>\n",
              "\t<tr><th scope=row>209</th><td>0.9422250</td><td>4.059891e-02</td><td>1.717605e-02</td></tr>\n",
              "\t<tr><th scope=row>210</th><td>0.9918309</td><td>2.460720e-03</td><td>5.708372e-03</td></tr>\n",
              "\t<tr><th scope=row>211</th><td>0.8921695</td><td>1.368073e-03</td><td>1.064624e-01</td></tr>\n",
              "\t<tr><th scope=row>212</th><td>0.9999109</td><td>2.774613e-05</td><td>6.134479e-05</td></tr>\n",
              "</tbody>\n",
              "</table>\n"
            ],
            "text/markdown": "\nA matrix: 212 × 3 of type dbl\n\n| <!--/--> | 1 | 2 | 3 |\n|---|---|---|---|\n| 1 | 0.4517130 | 4.537791e-01 | 9.450783e-02 |\n| 2 | 0.9912154 | 5.233348e-03 | 3.551230e-03 |\n| 3 | 0.4517130 | 4.537791e-01 | 9.450783e-02 |\n| 4 | 0.9982428 | 9.081561e-05 | 1.666338e-03 |\n| 5 | 0.8634143 | 3.685059e-02 | 9.973512e-02 |\n| 6 | 0.6692053 | 4.104680e-02 | 2.897479e-01 |\n| 7 | 0.8589497 | 1.057308e-01 | 3.531955e-02 |\n| 8 | 0.4517130 | 4.537791e-01 | 9.450783e-02 |\n| 9 | 0.8589497 | 1.057308e-01 | 3.531955e-02 |\n| 10 | 0.9912154 | 5.233348e-03 | 3.551230e-03 |\n| 11 | 0.4517130 | 4.537791e-01 | 9.450783e-02 |\n| 12 | 0.4517130 | 4.537791e-01 | 9.450783e-02 |\n| 13 | 0.4517130 | 4.537791e-01 | 9.450783e-02 |\n| 14 | 0.4517130 | 4.537791e-01 | 9.450783e-02 |\n| 15 | 0.9999988 | 1.458379e-07 | 1.050561e-06 |\n| 16 | 0.9958759 | 1.358066e-03 | 2.766016e-03 |\n| 17 | 0.6923288 | 2.434559e-01 | 6.421533e-02 |\n| 18 | 0.6313168 | 2.572165e-01 | 1.114667e-01 |\n| 19 | 0.9999988 | 1.458379e-07 | 1.050561e-06 |\n| 20 | 0.9773601 | 1.474145e-02 | 7.898493e-03 |\n| 21 | 0.4517130 | 4.537791e-01 | 9.450783e-02 |\n| 22 | 0.9773601 | 1.474145e-02 | 7.898493e-03 |\n| 23 | 0.1278647 | 2.543463e-02 | 8.467006e-01 |\n| 24 | 0.9999995 | 5.105009e-08 | 4.657393e-07 |\n| 25 | 0.9994617 | 2.263370e-04 | 3.119897e-04 |\n| 26 | 0.9986508 | 6.460662e-04 | 7.031802e-04 |\n| 27 | 0.9999109 | 2.774613e-05 | 6.134479e-05 |\n| 28 | 0.7192879 | 1.789337e-02 | 2.628187e-01 |\n| 29 | 0.9995839 | 2.747425e-05 | 3.885939e-04 |\n| 30 | 0.9219784 | 4.602820e-02 | 3.199342e-02 |\n| ⋮ | ⋮ | ⋮ | ⋮ |\n| 183 | 0.6923288 | 2.434559e-01 | 6.421533e-02 |\n| 184 | 0.9912154 | 5.233348e-03 | 3.551230e-03 |\n| 185 | 0.9941710 | 1.000357e-03 | 4.828677e-03 |\n| 186 | 0.9422250 | 4.059891e-02 | 1.717605e-02 |\n| 187 | 0.6923288 | 2.434559e-01 | 6.421533e-02 |\n| 188 | 0.9999109 | 2.774613e-05 | 6.134479e-05 |\n| 189 | 0.9401402 | 2.989033e-02 | 2.996945e-02 |\n| 190 | 0.9422250 | 4.059891e-02 | 1.717605e-02 |\n| 191 | 0.9997824 | 7.925392e-05 | 1.383569e-04 |\n| 192 | 0.9965753 | 1.841822e-03 | 1.582858e-03 |\n| 193 | 0.9965753 | 1.841822e-03 | 1.582858e-03 |\n| 194 | 0.8589497 | 1.057308e-01 | 3.531955e-02 |\n| 195 | 0.9422250 | 4.059891e-02 | 1.717605e-02 |\n| 196 | 0.9876715 | 1.601706e-04 | 1.216837e-02 |\n| 197 | 0.6959866 | 2.718664e-02 | 2.768268e-01 |\n| 198 | 0.6313168 | 2.572165e-01 | 1.114667e-01 |\n| 199 | 0.6923288 | 2.434559e-01 | 6.421533e-02 |\n| 200 | 0.9681862 | 1.691952e-02 | 1.489429e-02 |\n| 201 | 0.9422250 | 4.059891e-02 | 1.717605e-02 |\n| 202 | 0.9965753 | 1.841822e-03 | 1.582858e-03 |\n| 203 | 0.9422250 | 4.059891e-02 | 1.717605e-02 |\n| 204 | 0.9773601 | 1.474145e-02 | 7.898493e-03 |\n| 205 | 0.9992875 | 1.669776e-04 | 5.454842e-04 |\n| 206 | 0.9958759 | 1.358066e-03 | 2.766016e-03 |\n| 207 | 0.4517130 | 4.537791e-01 | 9.450783e-02 |\n| 208 | 0.4517130 | 4.537791e-01 | 9.450783e-02 |\n| 209 | 0.9422250 | 4.059891e-02 | 1.717605e-02 |\n| 210 | 0.9918309 | 2.460720e-03 | 5.708372e-03 |\n| 211 | 0.8921695 | 1.368073e-03 | 1.064624e-01 |\n| 212 | 0.9999109 | 2.774613e-05 | 6.134479e-05 |\n\n",
            "text/latex": "A matrix: 212 × 3 of type dbl\n\\begin{tabular}{r|lll}\n  & 1 & 2 & 3\\\\\n\\hline\n\t1 & 0.4517130 & 4.537791e-01 & 9.450783e-02\\\\\n\t2 & 0.9912154 & 5.233348e-03 & 3.551230e-03\\\\\n\t3 & 0.4517130 & 4.537791e-01 & 9.450783e-02\\\\\n\t4 & 0.9982428 & 9.081561e-05 & 1.666338e-03\\\\\n\t5 & 0.8634143 & 3.685059e-02 & 9.973512e-02\\\\\n\t6 & 0.6692053 & 4.104680e-02 & 2.897479e-01\\\\\n\t7 & 0.8589497 & 1.057308e-01 & 3.531955e-02\\\\\n\t8 & 0.4517130 & 4.537791e-01 & 9.450783e-02\\\\\n\t9 & 0.8589497 & 1.057308e-01 & 3.531955e-02\\\\\n\t10 & 0.9912154 & 5.233348e-03 & 3.551230e-03\\\\\n\t11 & 0.4517130 & 4.537791e-01 & 9.450783e-02\\\\\n\t12 & 0.4517130 & 4.537791e-01 & 9.450783e-02\\\\\n\t13 & 0.4517130 & 4.537791e-01 & 9.450783e-02\\\\\n\t14 & 0.4517130 & 4.537791e-01 & 9.450783e-02\\\\\n\t15 & 0.9999988 & 1.458379e-07 & 1.050561e-06\\\\\n\t16 & 0.9958759 & 1.358066e-03 & 2.766016e-03\\\\\n\t17 & 0.6923288 & 2.434559e-01 & 6.421533e-02\\\\\n\t18 & 0.6313168 & 2.572165e-01 & 1.114667e-01\\\\\n\t19 & 0.9999988 & 1.458379e-07 & 1.050561e-06\\\\\n\t20 & 0.9773601 & 1.474145e-02 & 7.898493e-03\\\\\n\t21 & 0.4517130 & 4.537791e-01 & 9.450783e-02\\\\\n\t22 & 0.9773601 & 1.474145e-02 & 7.898493e-03\\\\\n\t23 & 0.1278647 & 2.543463e-02 & 8.467006e-01\\\\\n\t24 & 0.9999995 & 5.105009e-08 & 4.657393e-07\\\\\n\t25 & 0.9994617 & 2.263370e-04 & 3.119897e-04\\\\\n\t26 & 0.9986508 & 6.460662e-04 & 7.031802e-04\\\\\n\t27 & 0.9999109 & 2.774613e-05 & 6.134479e-05\\\\\n\t28 & 0.7192879 & 1.789337e-02 & 2.628187e-01\\\\\n\t29 & 0.9995839 & 2.747425e-05 & 3.885939e-04\\\\\n\t30 & 0.9219784 & 4.602820e-02 & 3.199342e-02\\\\\n\t⋮ & ⋮ & ⋮ & ⋮\\\\\n\t183 & 0.6923288 & 2.434559e-01 & 6.421533e-02\\\\\n\t184 & 0.9912154 & 5.233348e-03 & 3.551230e-03\\\\\n\t185 & 0.9941710 & 1.000357e-03 & 4.828677e-03\\\\\n\t186 & 0.9422250 & 4.059891e-02 & 1.717605e-02\\\\\n\t187 & 0.6923288 & 2.434559e-01 & 6.421533e-02\\\\\n\t188 & 0.9999109 & 2.774613e-05 & 6.134479e-05\\\\\n\t189 & 0.9401402 & 2.989033e-02 & 2.996945e-02\\\\\n\t190 & 0.9422250 & 4.059891e-02 & 1.717605e-02\\\\\n\t191 & 0.9997824 & 7.925392e-05 & 1.383569e-04\\\\\n\t192 & 0.9965753 & 1.841822e-03 & 1.582858e-03\\\\\n\t193 & 0.9965753 & 1.841822e-03 & 1.582858e-03\\\\\n\t194 & 0.8589497 & 1.057308e-01 & 3.531955e-02\\\\\n\t195 & 0.9422250 & 4.059891e-02 & 1.717605e-02\\\\\n\t196 & 0.9876715 & 1.601706e-04 & 1.216837e-02\\\\\n\t197 & 0.6959866 & 2.718664e-02 & 2.768268e-01\\\\\n\t198 & 0.6313168 & 2.572165e-01 & 1.114667e-01\\\\\n\t199 & 0.6923288 & 2.434559e-01 & 6.421533e-02\\\\\n\t200 & 0.9681862 & 1.691952e-02 & 1.489429e-02\\\\\n\t201 & 0.9422250 & 4.059891e-02 & 1.717605e-02\\\\\n\t202 & 0.9965753 & 1.841822e-03 & 1.582858e-03\\\\\n\t203 & 0.9422250 & 4.059891e-02 & 1.717605e-02\\\\\n\t204 & 0.9773601 & 1.474145e-02 & 7.898493e-03\\\\\n\t205 & 0.9992875 & 1.669776e-04 & 5.454842e-04\\\\\n\t206 & 0.9958759 & 1.358066e-03 & 2.766016e-03\\\\\n\t207 & 0.4517130 & 4.537791e-01 & 9.450783e-02\\\\\n\t208 & 0.4517130 & 4.537791e-01 & 9.450783e-02\\\\\n\t209 & 0.9422250 & 4.059891e-02 & 1.717605e-02\\\\\n\t210 & 0.9918309 & 2.460720e-03 & 5.708372e-03\\\\\n\t211 & 0.8921695 & 1.368073e-03 & 1.064624e-01\\\\\n\t212 & 0.9999109 & 2.774613e-05 & 6.134479e-05\\\\\n\\end{tabular}\n",
            "text/plain": [
              "    1         2            3           \n",
              "1   0.4517130 4.537791e-01 9.450783e-02\n",
              "2   0.9912154 5.233348e-03 3.551230e-03\n",
              "3   0.4517130 4.537791e-01 9.450783e-02\n",
              "4   0.9982428 9.081561e-05 1.666338e-03\n",
              "5   0.8634143 3.685059e-02 9.973512e-02\n",
              "6   0.6692053 4.104680e-02 2.897479e-01\n",
              "7   0.8589497 1.057308e-01 3.531955e-02\n",
              "8   0.4517130 4.537791e-01 9.450783e-02\n",
              "9   0.8589497 1.057308e-01 3.531955e-02\n",
              "10  0.9912154 5.233348e-03 3.551230e-03\n",
              "11  0.4517130 4.537791e-01 9.450783e-02\n",
              "12  0.4517130 4.537791e-01 9.450783e-02\n",
              "13  0.4517130 4.537791e-01 9.450783e-02\n",
              "14  0.4517130 4.537791e-01 9.450783e-02\n",
              "15  0.9999988 1.458379e-07 1.050561e-06\n",
              "16  0.9958759 1.358066e-03 2.766016e-03\n",
              "17  0.6923288 2.434559e-01 6.421533e-02\n",
              "18  0.6313168 2.572165e-01 1.114667e-01\n",
              "19  0.9999988 1.458379e-07 1.050561e-06\n",
              "20  0.9773601 1.474145e-02 7.898493e-03\n",
              "21  0.4517130 4.537791e-01 9.450783e-02\n",
              "22  0.9773601 1.474145e-02 7.898493e-03\n",
              "23  0.1278647 2.543463e-02 8.467006e-01\n",
              "24  0.9999995 5.105009e-08 4.657393e-07\n",
              "25  0.9994617 2.263370e-04 3.119897e-04\n",
              "26  0.9986508 6.460662e-04 7.031802e-04\n",
              "27  0.9999109 2.774613e-05 6.134479e-05\n",
              "28  0.7192879 1.789337e-02 2.628187e-01\n",
              "29  0.9995839 2.747425e-05 3.885939e-04\n",
              "30  0.9219784 4.602820e-02 3.199342e-02\n",
              "⋮   ⋮         ⋮            ⋮           \n",
              "183 0.6923288 2.434559e-01 6.421533e-02\n",
              "184 0.9912154 5.233348e-03 3.551230e-03\n",
              "185 0.9941710 1.000357e-03 4.828677e-03\n",
              "186 0.9422250 4.059891e-02 1.717605e-02\n",
              "187 0.6923288 2.434559e-01 6.421533e-02\n",
              "188 0.9999109 2.774613e-05 6.134479e-05\n",
              "189 0.9401402 2.989033e-02 2.996945e-02\n",
              "190 0.9422250 4.059891e-02 1.717605e-02\n",
              "191 0.9997824 7.925392e-05 1.383569e-04\n",
              "192 0.9965753 1.841822e-03 1.582858e-03\n",
              "193 0.9965753 1.841822e-03 1.582858e-03\n",
              "194 0.8589497 1.057308e-01 3.531955e-02\n",
              "195 0.9422250 4.059891e-02 1.717605e-02\n",
              "196 0.9876715 1.601706e-04 1.216837e-02\n",
              "197 0.6959866 2.718664e-02 2.768268e-01\n",
              "198 0.6313168 2.572165e-01 1.114667e-01\n",
              "199 0.6923288 2.434559e-01 6.421533e-02\n",
              "200 0.9681862 1.691952e-02 1.489429e-02\n",
              "201 0.9422250 4.059891e-02 1.717605e-02\n",
              "202 0.9965753 1.841822e-03 1.582858e-03\n",
              "203 0.9422250 4.059891e-02 1.717605e-02\n",
              "204 0.9773601 1.474145e-02 7.898493e-03\n",
              "205 0.9992875 1.669776e-04 5.454842e-04\n",
              "206 0.9958759 1.358066e-03 2.766016e-03\n",
              "207 0.4517130 4.537791e-01 9.450783e-02\n",
              "208 0.4517130 4.537791e-01 9.450783e-02\n",
              "209 0.9422250 4.059891e-02 1.717605e-02\n",
              "210 0.9918309 2.460720e-03 5.708372e-03\n",
              "211 0.8921695 1.368073e-03 1.064624e-01\n",
              "212 0.9999109 2.774613e-05 6.134479e-05"
            ]
          },
          "metadata": {}
        }
      ]
    },
    {
      "cell_type": "markdown",
      "source": [
        "Based on the predicted newdata values, we can use the model to classify them to the classes as follows"
      ],
      "metadata": {
        "id": "yCVicxczOrrE"
      }
    },
    {
      "cell_type": "code",
      "source": [
        "predict(test,newdata = newdata, type = \"class\")"
      ],
      "metadata": {
        "colab": {
          "base_uri": "https://localhost:8080/",
          "height": 104
        },
        "id": "YKq9_8shOtml",
        "outputId": "84ed3102-263e-4a84-d31e-d941ba6f4fd6"
      },
      "execution_count": 43,
      "outputs": [
        {
          "output_type": "display_data",
          "data": {
            "text/html": [
              "<style>\n",
              ".list-inline {list-style: none; margin:0; padding: 0}\n",
              ".list-inline>li {display: inline-block}\n",
              ".list-inline>li:not(:last-child)::after {content: \"\\00b7\"; padding: 0 .5ex}\n",
              "</style>\n",
              "<ol class=list-inline><li>2</li><li>1</li><li>2</li><li>1</li><li>1</li><li>1</li><li>1</li><li>2</li><li>1</li><li>1</li><li>2</li><li>2</li><li>2</li><li>2</li><li>1</li><li>1</li><li>1</li><li>1</li><li>1</li><li>1</li><li>2</li><li>1</li><li>3</li><li>1</li><li>1</li><li>1</li><li>1</li><li>1</li><li>1</li><li>1</li><li>1</li><li>1</li><li>2</li><li>1</li><li>2</li><li>1</li><li>2</li><li>1</li><li>1</li><li>1</li><li>1</li><li>1</li><li>2</li><li>1</li><li>1</li><li>1</li><li>1</li><li>1</li><li>3</li><li>2</li><li>1</li><li>3</li><li>2</li><li>1</li><li>1</li><li>1</li><li>2</li><li>1</li><li>1</li><li>1</li><li>1</li><li>1</li><li>1</li><li>1</li><li>1</li><li>2</li><li>1</li><li>1</li><li>1</li><li>2</li><li>1</li><li>1</li><li>1</li><li>1</li><li>1</li><li>1</li><li>1</li><li>2</li><li>1</li><li>1</li><li>1</li><li>1</li><li>2</li><li>3</li><li>3</li><li>3</li><li>2</li><li>1</li><li>1</li><li>1</li><li>2</li><li>1</li><li>1</li><li>2</li><li>1</li><li>1</li><li>1</li><li>1</li><li>1</li><li>1</li><li>1</li><li>1</li><li>1</li><li>1</li><li>1</li><li>1</li><li>1</li><li>1</li><li>1</li><li>1</li><li>1</li><li>1</li><li>1</li><li>1</li><li>1</li><li>1</li><li>1</li><li>2</li><li>2</li><li>1</li><li>1</li><li>2</li><li>1</li><li>1</li><li>1</li><li>1</li><li>1</li><li>2</li><li>1</li><li>1</li><li>1</li><li>2</li><li>1</li><li>2</li><li>1</li><li>1</li><li>1</li><li>1</li><li>1</li><li>1</li><li>1</li><li>2</li><li>1</li><li>1</li><li>2</li><li>1</li><li>2</li><li>1</li><li>1</li><li>2</li><li>1</li><li>1</li><li>1</li><li>1</li><li>2</li><li>1</li><li>2</li><li>1</li><li>1</li><li>1</li><li>1</li><li>1</li><li>1</li><li>1</li><li>1</li><li>1</li><li>3</li><li>1</li><li>2</li><li>1</li><li>2</li><li>1</li><li>1</li><li>1</li><li>1</li><li>1</li><li>2</li><li>1</li><li>1</li><li>1</li><li>1</li><li>2</li><li>1</li><li>1</li><li>1</li><li>1</li><li>1</li><li>1</li><li>1</li><li>1</li><li>1</li><li>1</li><li>1</li><li>1</li><li>1</li><li>1</li><li>1</li><li>1</li><li>1</li><li>1</li><li>1</li><li>1</li><li>1</li><li>1</li><li>1</li><li>1</li><li>2</li><li>2</li><li>1</li><li>1</li><li>1</li><li>1</li></ol>\n",
              "\n",
              "<details>\n",
              "\t<summary style=display:list-item;cursor:pointer>\n",
              "\t\t<strong>Levels</strong>:\n",
              "\t</summary>\n",
              "\t<style>\n",
              "\t.list-inline {list-style: none; margin:0; padding: 0}\n",
              "\t.list-inline>li {display: inline-block}\n",
              "\t.list-inline>li:not(:last-child)::after {content: \"\\00b7\"; padding: 0 .5ex}\n",
              "\t</style>\n",
              "\t<ol class=list-inline><li>'1'</li><li>'2'</li><li>'3'</li></ol>\n",
              "</details>"
            ],
            "text/markdown": "1. 2\n2. 1\n3. 2\n4. 1\n5. 1\n6. 1\n7. 1\n8. 2\n9. 1\n10. 1\n11. 2\n12. 2\n13. 2\n14. 2\n15. 1\n16. 1\n17. 1\n18. 1\n19. 1\n20. 1\n21. 2\n22. 1\n23. 3\n24. 1\n25. 1\n26. 1\n27. 1\n28. 1\n29. 1\n30. 1\n31. 1\n32. 1\n33. 2\n34. 1\n35. 2\n36. 1\n37. 2\n38. 1\n39. 1\n40. 1\n41. 1\n42. 1\n43. 2\n44. 1\n45. 1\n46. 1\n47. 1\n48. 1\n49. 3\n50. 2\n51. 1\n52. 3\n53. 2\n54. 1\n55. 1\n56. 1\n57. 2\n58. 1\n59. 1\n60. 1\n61. 1\n62. 1\n63. 1\n64. 1\n65. 1\n66. 2\n67. 1\n68. 1\n69. 1\n70. 2\n71. 1\n72. 1\n73. 1\n74. 1\n75. 1\n76. 1\n77. 1\n78. 2\n79. 1\n80. 1\n81. 1\n82. 1\n83. 2\n84. 3\n85. 3\n86. 3\n87. 2\n88. 1\n89. 1\n90. 1\n91. 2\n92. 1\n93. 1\n94. 2\n95. 1\n96. 1\n97. 1\n98. 1\n99. 1\n100. 1\n101. 1\n102. 1\n103. 1\n104. 1\n105. 1\n106. 1\n107. 1\n108. 1\n109. 1\n110. 1\n111. 1\n112. 1\n113. 1\n114. 1\n115. 1\n116. 1\n117. 1\n118. 2\n119. 2\n120. 1\n121. 1\n122. 2\n123. 1\n124. 1\n125. 1\n126. 1\n127. 1\n128. 2\n129. 1\n130. 1\n131. 1\n132. 2\n133. 1\n134. 2\n135. 1\n136. 1\n137. 1\n138. 1\n139. 1\n140. 1\n141. 1\n142. 2\n143. 1\n144. 1\n145. 2\n146. 1\n147. 2\n148. 1\n149. 1\n150. 2\n151. 1\n152. 1\n153. 1\n154. 1\n155. 2\n156. 1\n157. 2\n158. 1\n159. 1\n160. 1\n161. 1\n162. 1\n163. 1\n164. 1\n165. 1\n166. 1\n167. 3\n168. 1\n169. 2\n170. 1\n171. 2\n172. 1\n173. 1\n174. 1\n175. 1\n176. 1\n177. 2\n178. 1\n179. 1\n180. 1\n181. 1\n182. 2\n183. 1\n184. 1\n185. 1\n186. 1\n187. 1\n188. 1\n189. 1\n190. 1\n191. 1\n192. 1\n193. 1\n194. 1\n195. 1\n196. 1\n197. 1\n198. 1\n199. 1\n200. 1\n201. 1\n202. 1\n203. 1\n204. 1\n205. 1\n206. 1\n207. 2\n208. 2\n209. 1\n210. 1\n211. 1\n212. 1\n\n\n\n**Levels**: 1. '1'\n2. '2'\n3. '3'\n\n\n",
            "text/latex": "\\begin{enumerate*}\n\\item 2\n\\item 1\n\\item 2\n\\item 1\n\\item 1\n\\item 1\n\\item 1\n\\item 2\n\\item 1\n\\item 1\n\\item 2\n\\item 2\n\\item 2\n\\item 2\n\\item 1\n\\item 1\n\\item 1\n\\item 1\n\\item 1\n\\item 1\n\\item 2\n\\item 1\n\\item 3\n\\item 1\n\\item 1\n\\item 1\n\\item 1\n\\item 1\n\\item 1\n\\item 1\n\\item 1\n\\item 1\n\\item 2\n\\item 1\n\\item 2\n\\item 1\n\\item 2\n\\item 1\n\\item 1\n\\item 1\n\\item 1\n\\item 1\n\\item 2\n\\item 1\n\\item 1\n\\item 1\n\\item 1\n\\item 1\n\\item 3\n\\item 2\n\\item 1\n\\item 3\n\\item 2\n\\item 1\n\\item 1\n\\item 1\n\\item 2\n\\item 1\n\\item 1\n\\item 1\n\\item 1\n\\item 1\n\\item 1\n\\item 1\n\\item 1\n\\item 2\n\\item 1\n\\item 1\n\\item 1\n\\item 2\n\\item 1\n\\item 1\n\\item 1\n\\item 1\n\\item 1\n\\item 1\n\\item 1\n\\item 2\n\\item 1\n\\item 1\n\\item 1\n\\item 1\n\\item 2\n\\item 3\n\\item 3\n\\item 3\n\\item 2\n\\item 1\n\\item 1\n\\item 1\n\\item 2\n\\item 1\n\\item 1\n\\item 2\n\\item 1\n\\item 1\n\\item 1\n\\item 1\n\\item 1\n\\item 1\n\\item 1\n\\item 1\n\\item 1\n\\item 1\n\\item 1\n\\item 1\n\\item 1\n\\item 1\n\\item 1\n\\item 1\n\\item 1\n\\item 1\n\\item 1\n\\item 1\n\\item 1\n\\item 1\n\\item 1\n\\item 2\n\\item 2\n\\item 1\n\\item 1\n\\item 2\n\\item 1\n\\item 1\n\\item 1\n\\item 1\n\\item 1\n\\item 2\n\\item 1\n\\item 1\n\\item 1\n\\item 2\n\\item 1\n\\item 2\n\\item 1\n\\item 1\n\\item 1\n\\item 1\n\\item 1\n\\item 1\n\\item 1\n\\item 2\n\\item 1\n\\item 1\n\\item 2\n\\item 1\n\\item 2\n\\item 1\n\\item 1\n\\item 2\n\\item 1\n\\item 1\n\\item 1\n\\item 1\n\\item 2\n\\item 1\n\\item 2\n\\item 1\n\\item 1\n\\item 1\n\\item 1\n\\item 1\n\\item 1\n\\item 1\n\\item 1\n\\item 1\n\\item 3\n\\item 1\n\\item 2\n\\item 1\n\\item 2\n\\item 1\n\\item 1\n\\item 1\n\\item 1\n\\item 1\n\\item 2\n\\item 1\n\\item 1\n\\item 1\n\\item 1\n\\item 2\n\\item 1\n\\item 1\n\\item 1\n\\item 1\n\\item 1\n\\item 1\n\\item 1\n\\item 1\n\\item 1\n\\item 1\n\\item 1\n\\item 1\n\\item 1\n\\item 1\n\\item 1\n\\item 1\n\\item 1\n\\item 1\n\\item 1\n\\item 1\n\\item 1\n\\item 1\n\\item 1\n\\item 1\n\\item 2\n\\item 2\n\\item 1\n\\item 1\n\\item 1\n\\item 1\n\\end{enumerate*}\n\n\\emph{Levels}: \\begin{enumerate*}\n\\item '1'\n\\item '2'\n\\item '3'\n\\end{enumerate*}\n",
            "text/plain": [
              "  [1] 2 1 2 1 1 1 1 2 1 1 2 2 2 2 1 1 1 1 1 1 2 1 3 1 1 1 1 1 1 1 1 1 2 1 2 1 2\n",
              " [38] 1 1 1 1 1 2 1 1 1 1 1 3 2 1 3 2 1 1 1 2 1 1 1 1 1 1 1 1 2 1 1 1 2 1 1 1 1\n",
              " [75] 1 1 1 2 1 1 1 1 2 3 3 3 2 1 1 1 2 1 1 2 1 1 1 1 1 1 1 1 1 1 1 1 1 1 1 1 1\n",
              "[112] 1 1 1 1 1 1 2 2 1 1 2 1 1 1 1 1 2 1 1 1 2 1 2 1 1 1 1 1 1 1 2 1 1 2 1 2 1\n",
              "[149] 1 2 1 1 1 1 2 1 2 1 1 1 1 1 1 1 1 1 3 1 2 1 2 1 1 1 1 1 2 1 1 1 1 2 1 1 1\n",
              "[186] 1 1 1 1 1 1 1 1 1 1 1 1 1 1 1 1 1 1 1 1 1 2 2 1 1 1 1\n",
              "Levels: 1 2 3"
            ]
          },
          "metadata": {}
        }
      ]
    },
    {
      "cell_type": "markdown",
      "source": [
        "What the data shows, is that, all the newdata values, they are classified in class 1.\n",
        "We can check on the performance of the model by running the confusion matrix as follows:"
      ],
      "metadata": {
        "id": "ud4T4mp1O1_2"
      }
    },
    {
      "cell_type": "code",
      "source": [
        "confmatrix<-table(predict=predict(test, type = \"class\"),True=fd_sub$fetal_health)"
      ],
      "metadata": {
        "id": "_x12W3BHO0-S"
      },
      "execution_count": 44,
      "outputs": []
    },
    {
      "cell_type": "code",
      "source": [
        "confmatrix"
      ],
      "metadata": {
        "colab": {
          "base_uri": "https://localhost:8080/",
          "height": 108
        },
        "id": "wN3c_zJ5O8bh",
        "outputId": "2569c889-5811-4f03-818c-0554023ff767"
      },
      "execution_count": 45,
      "outputs": [
        {
          "output_type": "display_data",
          "data": {
            "text/plain": [
              "       True\n",
              "predict   1   2   3\n",
              "      1 155   8   2\n",
              "      2  16  18   6\n",
              "      3   0   0   7"
            ]
          },
          "metadata": {}
        }
      ]
    },
    {
      "cell_type": "markdown",
      "source": [
        "### **Exercices**\n",
        "\n",
        "1. Comment on the performance of the model.\n",
        "2. Calculate the accuracy, the sensitivity and the precision of the model"
      ],
      "metadata": {
        "id": "9VG1k29NPD1y"
      }
    },
    {
      "cell_type": "markdown",
      "source": [
        "The model is built on a subset of the dataset, containing 212 records with 22 variables.\n",
        "The dataset is imbalanced, with 169 records in class 1, 29 records in class 2, and 14 records in class 3.\n",
        "The logistic regression model was built using the multinom function from the nnet package.\n",
        "The model does not seem to perform well based on the following observations:\n"
      ],
      "metadata": {
        "id": "OTKUAiyAPsgu"
      }
    },
    {
      "cell_type": "markdown",
      "source": [
        "To calculate accuracy, sensitivity, and precision, we need a confusion matrix, which was partially shown in the output as confmatrix. From the provided confusion matrix, we can calculate these performance metrics.\n",
        "\n",
        "Accuracy is the proportion of correct predictions out of all predictions:\n",
        "\n",
        "    Accuracy = (TP + TN) / (TP + TN + FP + FN)\n",
        "\n",
        "Sensitivity (also known as recall or true positive rate) measures the model's ability to correctly identify positive instances:\n",
        "\n",
        "    Sensitivity = TP / (TP + FN)\n",
        "\n",
        "Precision measures the model's ability to correctly classify positive predictions:\n",
        "\n",
        "    Precision = TP / (TP + FP)"
      ],
      "metadata": {
        "id": "erNJbXIsP0GF"
      }
    },
    {
      "cell_type": "code",
      "source": [
        "# Load the caret package\n",
        "install.packages(\"caret\")\n",
        "library(caret)\n"
      ],
      "metadata": {
        "colab": {
          "base_uri": "https://localhost:8080/"
        },
        "id": "8Mqzoyt9PT00",
        "outputId": "41f2e0ca-99af-4b0e-d81a-7d6b0843b97f"
      },
      "execution_count": 47,
      "outputs": [
        {
          "output_type": "stream",
          "name": "stderr",
          "text": [
            "Installing package into ‘/usr/local/lib/R/site-library’\n",
            "(as ‘lib’ is unspecified)\n",
            "\n"
          ]
        }
      ]
    },
    {
      "cell_type": "code",
      "source": [
        "# Calculate accuracy\n",
        "accuracy <- sum(diag(confmatrix)) / sum(confmatrix)\n",
        "cat(\"Accuracy:\", accuracy, \"\\n\")\n",
        "\n",
        "# Calculate sensitivity (recall) for each class\n",
        "sensitivity <- diag(confmatrix) / rowSums(confmatrix)\n",
        "cat(\"Sensitivity (Class 1):\", sensitivity[1], \"\\n\")\n",
        "cat(\"Sensitivity (Class 2):\", sensitivity[2], \"\\n\")\n",
        "cat(\"Sensitivity (Class 3):\", sensitivity[3], \"\\n\")\n",
        "\n",
        "# Calculate precision for each class\n",
        "precision <- diag(confmatrix) / colSums(confmatrix)\n",
        "cat(\"Precision (Class 1):\", precision[1], \"\\n\")\n",
        "cat(\"Precision (Class 2):\", precision[2], \"\\n\")\n",
        "cat(\"Precision (Class 3):\", precision[3], \"\\n\")"
      ],
      "metadata": {
        "colab": {
          "base_uri": "https://localhost:8080/"
        },
        "id": "2pNReZgBXfar",
        "outputId": "687ea2cb-1996-4a2c-96d8-06e12d8441f2"
      },
      "execution_count": 53,
      "outputs": [
        {
          "output_type": "stream",
          "name": "stdout",
          "text": [
            "Accuracy: 0.8490566 \n",
            "Sensitivity (Class 1): 0.9393939 \n",
            "Sensitivity (Class 2): 0.45 \n",
            "Sensitivity (Class 3): 1 \n",
            "Precision (Class 1): 0.9064327 \n",
            "Precision (Class 2): 0.6923077 \n",
            "Precision (Class 3): 0.4666667 \n"
          ]
        }
      ]
    },
    {
      "cell_type": "code",
      "source": [
        "confusionMatrix(confmatrix)"
      ],
      "metadata": {
        "colab": {
          "base_uri": "https://localhost:8080/",
          "height": 565
        },
        "id": "VtAMZZcBo5su",
        "outputId": "1d9fe301-81e9-47e1-8a80-95d9f2c5e8ad"
      },
      "execution_count": 58,
      "outputs": [
        {
          "output_type": "display_data",
          "data": {
            "text/plain": [
              "Confusion Matrix and Statistics\n",
              "\n",
              "       True\n",
              "predict   1   2   3\n",
              "      1 155   8   2\n",
              "      2  16  18   6\n",
              "      3   0   0   7\n",
              "\n",
              "Overall Statistics\n",
              "                                          \n",
              "               Accuracy : 0.8491          \n",
              "                 95% CI : (0.7936, 0.8944)\n",
              "    No Information Rate : 0.8066          \n",
              "    P-Value [Acc > NIR] : 0.06652         \n",
              "                                          \n",
              "                  Kappa : 0.5647          \n",
              "                                          \n",
              " Mcnemar's Test P-Value : 0.01367         \n",
              "\n",
              "Statistics by Class:\n",
              "\n",
              "                     Class: 1 Class: 2 Class: 3\n",
              "Sensitivity            0.9064  0.69231  0.46667\n",
              "Specificity            0.7561  0.88172  1.00000\n",
              "Pos Pred Value         0.9394  0.45000  1.00000\n",
              "Neg Pred Value         0.6596  0.95349  0.96098\n",
              "Prevalence             0.8066  0.12264  0.07075\n",
              "Detection Rate         0.7311  0.08491  0.03302\n",
              "Detection Prevalence   0.7783  0.18868  0.03302\n",
              "Balanced Accuracy      0.8313  0.78701  0.73333"
            ]
          },
          "metadata": {}
        }
      ]
    }
  ]
}
