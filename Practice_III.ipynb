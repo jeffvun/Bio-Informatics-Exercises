{
  "nbformat": 4,
  "nbformat_minor": 0,
  "metadata": {
    "colab": {
      "provenance": [],
      "authorship_tag": "ABX9TyPs7szjy8V49jAYw8OU8xVm",
      "include_colab_link": true
    },
    "kernelspec": {
      "name": "ir",
      "display_name": "R"
    },
    "language_info": {
      "name": "R"
    }
  },
  "cells": [
    {
      "cell_type": "markdown",
      "metadata": {
        "id": "view-in-github",
        "colab_type": "text"
      },
      "source": [
        "<a href=\"https://colab.research.google.com/github/jeffvun/Bio-Informatics-Exercises/blob/main/Practice_III.ipynb\" target=\"_parent\"><img src=\"https://colab.research.google.com/assets/colab-badge.svg\" alt=\"Open In Colab\"/></a>"
      ]
    },
    {
      "cell_type": "markdown",
      "source": [
        "## **Practice III: Linear Regression**"
      ],
      "metadata": {
        "id": "6Iv_ZdM1wZ33"
      }
    },
    {
      "cell_type": "markdown",
      "source": [
        "### **Installing and Loading Necessary Packages**"
      ],
      "metadata": {
        "id": "_EtRSXpswrpu"
      }
    },
    {
      "cell_type": "code",
      "execution_count": 1,
      "metadata": {
        "colab": {
          "base_uri": "https://localhost:8080/"
        },
        "id": "yR3PCXTawHVX",
        "outputId": "ec88bf6c-5c40-44b1-9eaa-359232943894"
      },
      "outputs": [
        {
          "output_type": "stream",
          "name": "stderr",
          "text": [
            "Installing package into ‘/usr/local/lib/R/site-library’\n",
            "(as ‘lib’ is unspecified)\n",
            "\n"
          ]
        }
      ],
      "source": [
        "install.packages(\"ISwR\")"
      ]
    },
    {
      "cell_type": "code",
      "source": [
        "library(\"ISwR\")"
      ],
      "metadata": {
        "id": "NdquAzgCw6gO"
      },
      "execution_count": 2,
      "outputs": []
    },
    {
      "cell_type": "markdown",
      "source": [
        "### **Importing Dataset**"
      ],
      "metadata": {
        "id": "Bi-abyTGxBKJ"
      }
    },
    {
      "cell_type": "code",
      "source": [
        "data(\"thuesen\")\n",
        "attach(thuesen)\n",
        "thuesen"
      ],
      "metadata": {
        "colab": {
          "base_uri": "https://localhost:8080/",
          "height": 851
        },
        "id": "urQzg17ZxAC_",
        "outputId": "6623b59f-d2eb-4327-8efd-c1ae271f7d4f"
      },
      "execution_count": 3,
      "outputs": [
        {
          "output_type": "display_data",
          "data": {
            "text/html": [
              "<table class=\"dataframe\">\n",
              "<caption>A data.frame: 24 × 2</caption>\n",
              "<thead>\n",
              "\t<tr><th scope=col>blood.glucose</th><th scope=col>short.velocity</th></tr>\n",
              "\t<tr><th scope=col>&lt;dbl&gt;</th><th scope=col>&lt;dbl&gt;</th></tr>\n",
              "</thead>\n",
              "<tbody>\n",
              "\t<tr><td>15.3</td><td>1.76</td></tr>\n",
              "\t<tr><td>10.8</td><td>1.34</td></tr>\n",
              "\t<tr><td> 8.1</td><td>1.27</td></tr>\n",
              "\t<tr><td>19.5</td><td>1.47</td></tr>\n",
              "\t<tr><td> 7.2</td><td>1.27</td></tr>\n",
              "\t<tr><td> 5.3</td><td>1.49</td></tr>\n",
              "\t<tr><td> 9.3</td><td>1.31</td></tr>\n",
              "\t<tr><td>11.1</td><td>1.09</td></tr>\n",
              "\t<tr><td> 7.5</td><td>1.18</td></tr>\n",
              "\t<tr><td>12.2</td><td>1.22</td></tr>\n",
              "\t<tr><td> 6.7</td><td>1.25</td></tr>\n",
              "\t<tr><td> 5.2</td><td>1.19</td></tr>\n",
              "\t<tr><td>19.0</td><td>1.95</td></tr>\n",
              "\t<tr><td>15.1</td><td>1.28</td></tr>\n",
              "\t<tr><td> 6.7</td><td>1.52</td></tr>\n",
              "\t<tr><td> 8.6</td><td>  NA</td></tr>\n",
              "\t<tr><td> 4.2</td><td>1.12</td></tr>\n",
              "\t<tr><td>10.3</td><td>1.37</td></tr>\n",
              "\t<tr><td>12.5</td><td>1.19</td></tr>\n",
              "\t<tr><td>16.1</td><td>1.05</td></tr>\n",
              "\t<tr><td>13.3</td><td>1.32</td></tr>\n",
              "\t<tr><td> 4.9</td><td>1.03</td></tr>\n",
              "\t<tr><td> 8.8</td><td>1.12</td></tr>\n",
              "\t<tr><td> 9.5</td><td>1.70</td></tr>\n",
              "</tbody>\n",
              "</table>\n"
            ],
            "text/markdown": "\nA data.frame: 24 × 2\n\n| blood.glucose &lt;dbl&gt; | short.velocity &lt;dbl&gt; |\n|---|---|\n| 15.3 | 1.76 |\n| 10.8 | 1.34 |\n|  8.1 | 1.27 |\n| 19.5 | 1.47 |\n|  7.2 | 1.27 |\n|  5.3 | 1.49 |\n|  9.3 | 1.31 |\n| 11.1 | 1.09 |\n|  7.5 | 1.18 |\n| 12.2 | 1.22 |\n|  6.7 | 1.25 |\n|  5.2 | 1.19 |\n| 19.0 | 1.95 |\n| 15.1 | 1.28 |\n|  6.7 | 1.52 |\n|  8.6 |   NA |\n|  4.2 | 1.12 |\n| 10.3 | 1.37 |\n| 12.5 | 1.19 |\n| 16.1 | 1.05 |\n| 13.3 | 1.32 |\n|  4.9 | 1.03 |\n|  8.8 | 1.12 |\n|  9.5 | 1.70 |\n\n",
            "text/latex": "A data.frame: 24 × 2\n\\begin{tabular}{ll}\n blood.glucose & short.velocity\\\\\n <dbl> & <dbl>\\\\\n\\hline\n\t 15.3 & 1.76\\\\\n\t 10.8 & 1.34\\\\\n\t  8.1 & 1.27\\\\\n\t 19.5 & 1.47\\\\\n\t  7.2 & 1.27\\\\\n\t  5.3 & 1.49\\\\\n\t  9.3 & 1.31\\\\\n\t 11.1 & 1.09\\\\\n\t  7.5 & 1.18\\\\\n\t 12.2 & 1.22\\\\\n\t  6.7 & 1.25\\\\\n\t  5.2 & 1.19\\\\\n\t 19.0 & 1.95\\\\\n\t 15.1 & 1.28\\\\\n\t  6.7 & 1.52\\\\\n\t  8.6 &   NA\\\\\n\t  4.2 & 1.12\\\\\n\t 10.3 & 1.37\\\\\n\t 12.5 & 1.19\\\\\n\t 16.1 & 1.05\\\\\n\t 13.3 & 1.32\\\\\n\t  4.9 & 1.03\\\\\n\t  8.8 & 1.12\\\\\n\t  9.5 & 1.70\\\\\n\\end{tabular}\n",
            "text/plain": [
              "   blood.glucose short.velocity\n",
              "1  15.3          1.76          \n",
              "2  10.8          1.34          \n",
              "3   8.1          1.27          \n",
              "4  19.5          1.47          \n",
              "5   7.2          1.27          \n",
              "6   5.3          1.49          \n",
              "7   9.3          1.31          \n",
              "8  11.1          1.09          \n",
              "9   7.5          1.18          \n",
              "10 12.2          1.22          \n",
              "11  6.7          1.25          \n",
              "12  5.2          1.19          \n",
              "13 19.0          1.95          \n",
              "14 15.1          1.28          \n",
              "15  6.7          1.52          \n",
              "16  8.6            NA          \n",
              "17  4.2          1.12          \n",
              "18 10.3          1.37          \n",
              "19 12.5          1.19          \n",
              "20 16.1          1.05          \n",
              "21 13.3          1.32          \n",
              "22  4.9          1.03          \n",
              "23  8.8          1.12          \n",
              "24  9.5          1.70          "
            ]
          },
          "metadata": {}
        }
      ]
    },
    {
      "cell_type": "markdown",
      "source": [
        "### **Creating a Linear Model**"
      ],
      "metadata": {
        "id": "Zw_VXrnfxNwK"
      }
    },
    {
      "cell_type": "code",
      "source": [
        "lm(short.velocity ~blood.glucose)"
      ],
      "metadata": {
        "colab": {
          "base_uri": "https://localhost:8080/",
          "height": 145
        },
        "id": "qLwiRfEBxSh8",
        "outputId": "4c99a74a-f4ac-4a87-cdfa-5d5ce32b44aa"
      },
      "execution_count": 4,
      "outputs": [
        {
          "output_type": "display_data",
          "data": {
            "text/plain": [
              "\n",
              "Call:\n",
              "lm(formula = short.velocity ~ blood.glucose)\n",
              "\n",
              "Coefficients:\n",
              "  (Intercept)  blood.glucose  \n",
              "      1.09781        0.02196  \n"
            ]
          },
          "metadata": {}
        }
      ]
    },
    {
      "cell_type": "markdown",
      "source": [
        "This gives a general linear model i.e short.velocity = 1.09781 + 0.02196 (blood.glucose)"
      ],
      "metadata": {
        "id": "G9E-sJ3_yPR_"
      }
    },
    {
      "cell_type": "markdown",
      "source": [
        "To generate the summary statistics of the above data we use the following code"
      ],
      "metadata": {
        "id": "oefxMoJgydA3"
      }
    },
    {
      "cell_type": "code",
      "source": [
        "summary(lm(short.velocity ~blood.glucose))"
      ],
      "metadata": {
        "colab": {
          "base_uri": "https://localhost:8080/",
          "height": 364
        },
        "id": "xsdE9ORXypNA",
        "outputId": "e8a73e6c-0aa2-424b-a21d-f449b8a3e002"
      },
      "execution_count": 5,
      "outputs": [
        {
          "output_type": "display_data",
          "data": {
            "text/plain": [
              "\n",
              "Call:\n",
              "lm(formula = short.velocity ~ blood.glucose)\n",
              "\n",
              "Residuals:\n",
              "     Min       1Q   Median       3Q      Max \n",
              "-0.40141 -0.14760 -0.02202  0.03001  0.43490 \n",
              "\n",
              "Coefficients:\n",
              "              Estimate Std. Error t value Pr(>|t|)    \n",
              "(Intercept)    1.09781    0.11748   9.345 6.26e-09 ***\n",
              "blood.glucose  0.02196    0.01045   2.101   0.0479 *  \n",
              "---\n",
              "Signif. codes:  0 ‘***’ 0.001 ‘**’ 0.01 ‘*’ 0.05 ‘.’ 0.1 ‘ ’ 1\n",
              "\n",
              "Residual standard error: 0.2167 on 21 degrees of freedom\n",
              "  (1 observation deleted due to missingness)\n",
              "Multiple R-squared:  0.1737,\tAdjusted R-squared:  0.1343 \n",
              "F-statistic: 4.414 on 1 and 21 DF,  p-value: 0.0479\n"
            ]
          },
          "metadata": {}
        }
      ]
    },
    {
      "cell_type": "markdown",
      "source": [
        "From the above summary statistics, we pay attention to the ones in red.\n",
        "We can use the created model to generated predicted values as follows:"
      ],
      "metadata": {
        "id": "qERS6r-CzGpB"
      }
    },
    {
      "cell_type": "code",
      "source": [
        "predmodel <- lm(short.velocity ~blood.glucose)\n",
        "predmodel"
      ],
      "metadata": {
        "colab": {
          "base_uri": "https://localhost:8080/",
          "height": 145
        },
        "id": "1wY7wDMgzIpu",
        "outputId": "ef988395-aaf7-47dd-99c3-23e558f61717"
      },
      "execution_count": 6,
      "outputs": [
        {
          "output_type": "display_data",
          "data": {
            "text/plain": [
              "\n",
              "Call:\n",
              "lm(formula = short.velocity ~ blood.glucose)\n",
              "\n",
              "Coefficients:\n",
              "  (Intercept)  blood.glucose  \n",
              "      1.09781        0.02196  \n"
            ]
          },
          "metadata": {}
        }
      ]
    },
    {
      "cell_type": "code",
      "source": [
        "fitted(predmodel)"
      ],
      "metadata": {
        "colab": {
          "base_uri": "https://localhost:8080/",
          "height": 121
        },
        "id": "-oteBDtZzXb6",
        "outputId": "0e3e669d-94fc-4b5e-8465-711646e06fda"
      },
      "execution_count": 7,
      "outputs": [
        {
          "output_type": "display_data",
          "data": {
            "text/html": [
              "<style>\n",
              ".dl-inline {width: auto; margin:0; padding: 0}\n",
              ".dl-inline>dt, .dl-inline>dd {float: none; width: auto; display: inline-block}\n",
              ".dl-inline>dt::after {content: \":\\0020\"; padding-right: .5ex}\n",
              ".dl-inline>dt:not(:first-of-type) {padding-left: .5ex}\n",
              "</style><dl class=dl-inline><dt>1</dt><dd>1.43384146835033</dd><dt>2</dt><dd>1.33501011818035</dd><dt>3</dt><dd>1.27571130807836</dd><dt>4</dt><dd>1.52608406184232</dd><dt>5</dt><dd>1.25594503804436</dd><dt>6</dt><dd>1.21421624575036</dd><dt>7</dt><dd>1.30206633479035</dd><dt>8</dt><dd>1.34159887485835</dd><dt>9</dt><dd>1.26253379472236</dd><dt>10</dt><dd>1.36575764934434</dd><dt>11</dt><dd>1.24496377691436</dd><dt>12</dt><dd>1.21201999352436</dd><dt>13</dt><dd>1.51510280071232</dd><dt>14</dt><dd>1.42944896389833</dd><dt>15</dt><dd>1.24496377691436</dd><dt>17</dt><dd>1.19005747126437</dd><dt>18</dt><dd>1.32402885705035</dd><dt>19</dt><dd>1.37234640602234</dd><dt>20</dt><dd>1.45141148615833</dd><dt>21</dt><dd>1.38991642383034</dd><dt>22</dt><dd>1.20543123684637</dd><dt>23</dt><dd>1.29108507366035</dd><dt>24</dt><dd>1.30645883924235</dd></dl>\n"
            ],
            "text/markdown": "1\n:   1.433841468350332\n:   1.335010118180353\n:   1.275711308078364\n:   1.526084061842325\n:   1.255945038044366\n:   1.214216245750367\n:   1.302066334790358\n:   1.341598874858359\n:   1.2625337947223610\n:   1.3657576493443411\n:   1.2449637769143612\n:   1.2120199935243613\n:   1.5151028007123214\n:   1.4294489638983315\n:   1.2449637769143617\n:   1.1900574712643718\n:   1.3240288570503519\n:   1.3723464060223420\n:   1.4514114861583321\n:   1.3899164238303422\n:   1.2054312368463723\n:   1.2910850736603524\n:   1.30645883924235\n\n",
            "text/latex": "\\begin{description*}\n\\item[1] 1.43384146835033\n\\item[2] 1.33501011818035\n\\item[3] 1.27571130807836\n\\item[4] 1.52608406184232\n\\item[5] 1.25594503804436\n\\item[6] 1.21421624575036\n\\item[7] 1.30206633479035\n\\item[8] 1.34159887485835\n\\item[9] 1.26253379472236\n\\item[10] 1.36575764934434\n\\item[11] 1.24496377691436\n\\item[12] 1.21201999352436\n\\item[13] 1.51510280071232\n\\item[14] 1.42944896389833\n\\item[15] 1.24496377691436\n\\item[17] 1.19005747126437\n\\item[18] 1.32402885705035\n\\item[19] 1.37234640602234\n\\item[20] 1.45141148615833\n\\item[21] 1.38991642383034\n\\item[22] 1.20543123684637\n\\item[23] 1.29108507366035\n\\item[24] 1.30645883924235\n\\end{description*}\n",
            "text/plain": [
              "       1        2        3        4        5        6        7        8 \n",
              "1.433841 1.335010 1.275711 1.526084 1.255945 1.214216 1.302066 1.341599 \n",
              "       9       10       11       12       13       14       15       17 \n",
              "1.262534 1.365758 1.244964 1.212020 1.515103 1.429449 1.244964 1.190057 \n",
              "      18       19       20       21       22       23       24 \n",
              "1.324029 1.372346 1.451411 1.389916 1.205431 1.291085 1.306459 "
            ]
          },
          "metadata": {}
        }
      ]
    },
    {
      "cell_type": "markdown",
      "source": [
        "The output corresponds to the predicted values of short.velocity given the blood.glucose values.\n",
        "We determine the range of the predicted/fitted values using the code:"
      ],
      "metadata": {
        "id": "5Yc4HqIIzcs3"
      }
    },
    {
      "cell_type": "code",
      "source": [
        "predict(predmodel, int=\"c\")"
      ],
      "metadata": {
        "colab": {
          "base_uri": "https://localhost:8080/",
          "height": 788
        },
        "id": "tDbzqMyrzfHn",
        "outputId": "5843abe3-01dd-4cc8-c51a-e2af024f263a"
      },
      "execution_count": 8,
      "outputs": [
        {
          "output_type": "display_data",
          "data": {
            "text/html": [
              "<table class=\"dataframe\">\n",
              "<caption>A matrix: 23 × 3 of type dbl</caption>\n",
              "<thead>\n",
              "\t<tr><th></th><th scope=col>fit</th><th scope=col>lwr</th><th scope=col>upr</th></tr>\n",
              "</thead>\n",
              "<tbody>\n",
              "\t<tr><th scope=row>1</th><td>1.433841</td><td>1.291371</td><td>1.576312</td></tr>\n",
              "\t<tr><th scope=row>2</th><td>1.335010</td><td>1.240589</td><td>1.429431</td></tr>\n",
              "\t<tr><th scope=row>3</th><td>1.275711</td><td>1.169536</td><td>1.381887</td></tr>\n",
              "\t<tr><th scope=row>4</th><td>1.526084</td><td>1.306561</td><td>1.745607</td></tr>\n",
              "\t<tr><th scope=row>5</th><td>1.255945</td><td>1.139367</td><td>1.372523</td></tr>\n",
              "\t<tr><th scope=row>6</th><td>1.214216</td><td>1.069315</td><td>1.359118</td></tr>\n",
              "\t<tr><th scope=row>7</th><td>1.302066</td><td>1.205244</td><td>1.398889</td></tr>\n",
              "\t<tr><th scope=row>8</th><td>1.341599</td><td>1.246317</td><td>1.436881</td></tr>\n",
              "\t<tr><th scope=row>9</th><td>1.262534</td><td>1.149694</td><td>1.375374</td></tr>\n",
              "\t<tr><th scope=row>10</th><td>1.365758</td><td>1.263750</td><td>1.467765</td></tr>\n",
              "\t<tr><th scope=row>11</th><td>1.244964</td><td>1.121641</td><td>1.368287</td></tr>\n",
              "\t<tr><th scope=row>12</th><td>1.212020</td><td>1.065457</td><td>1.358583</td></tr>\n",
              "\t<tr><th scope=row>13</th><td>1.515103</td><td>1.305352</td><td>1.724854</td></tr>\n",
              "\t<tr><th scope=row>14</th><td>1.429449</td><td>1.290217</td><td>1.568681</td></tr>\n",
              "\t<tr><th scope=row>15</th><td>1.244964</td><td>1.121641</td><td>1.368287</td></tr>\n",
              "\t<tr><th scope=row>17</th><td>1.190057</td><td>1.026217</td><td>1.353898</td></tr>\n",
              "\t<tr><th scope=row>18</th><td>1.324029</td><td>1.230050</td><td>1.418008</td></tr>\n",
              "\t<tr><th scope=row>19</th><td>1.372346</td><td>1.267629</td><td>1.477064</td></tr>\n",
              "\t<tr><th scope=row>20</th><td>1.451411</td><td>1.295446</td><td>1.607377</td></tr>\n",
              "\t<tr><th scope=row>21</th><td>1.389916</td><td>1.276444</td><td>1.503389</td></tr>\n",
              "\t<tr><th scope=row>22</th><td>1.205431</td><td>1.053805</td><td>1.357057</td></tr>\n",
              "\t<tr><th scope=row>23</th><td>1.291085</td><td>1.191084</td><td>1.391086</td></tr>\n",
              "\t<tr><th scope=row>24</th><td>1.306459</td><td>1.210592</td><td>1.402326</td></tr>\n",
              "</tbody>\n",
              "</table>\n"
            ],
            "text/markdown": "\nA matrix: 23 × 3 of type dbl\n\n| <!--/--> | fit | lwr | upr |\n|---|---|---|---|\n| 1 | 1.433841 | 1.291371 | 1.576312 |\n| 2 | 1.335010 | 1.240589 | 1.429431 |\n| 3 | 1.275711 | 1.169536 | 1.381887 |\n| 4 | 1.526084 | 1.306561 | 1.745607 |\n| 5 | 1.255945 | 1.139367 | 1.372523 |\n| 6 | 1.214216 | 1.069315 | 1.359118 |\n| 7 | 1.302066 | 1.205244 | 1.398889 |\n| 8 | 1.341599 | 1.246317 | 1.436881 |\n| 9 | 1.262534 | 1.149694 | 1.375374 |\n| 10 | 1.365758 | 1.263750 | 1.467765 |\n| 11 | 1.244964 | 1.121641 | 1.368287 |\n| 12 | 1.212020 | 1.065457 | 1.358583 |\n| 13 | 1.515103 | 1.305352 | 1.724854 |\n| 14 | 1.429449 | 1.290217 | 1.568681 |\n| 15 | 1.244964 | 1.121641 | 1.368287 |\n| 17 | 1.190057 | 1.026217 | 1.353898 |\n| 18 | 1.324029 | 1.230050 | 1.418008 |\n| 19 | 1.372346 | 1.267629 | 1.477064 |\n| 20 | 1.451411 | 1.295446 | 1.607377 |\n| 21 | 1.389916 | 1.276444 | 1.503389 |\n| 22 | 1.205431 | 1.053805 | 1.357057 |\n| 23 | 1.291085 | 1.191084 | 1.391086 |\n| 24 | 1.306459 | 1.210592 | 1.402326 |\n\n",
            "text/latex": "A matrix: 23 × 3 of type dbl\n\\begin{tabular}{r|lll}\n  & fit & lwr & upr\\\\\n\\hline\n\t1 & 1.433841 & 1.291371 & 1.576312\\\\\n\t2 & 1.335010 & 1.240589 & 1.429431\\\\\n\t3 & 1.275711 & 1.169536 & 1.381887\\\\\n\t4 & 1.526084 & 1.306561 & 1.745607\\\\\n\t5 & 1.255945 & 1.139367 & 1.372523\\\\\n\t6 & 1.214216 & 1.069315 & 1.359118\\\\\n\t7 & 1.302066 & 1.205244 & 1.398889\\\\\n\t8 & 1.341599 & 1.246317 & 1.436881\\\\\n\t9 & 1.262534 & 1.149694 & 1.375374\\\\\n\t10 & 1.365758 & 1.263750 & 1.467765\\\\\n\t11 & 1.244964 & 1.121641 & 1.368287\\\\\n\t12 & 1.212020 & 1.065457 & 1.358583\\\\\n\t13 & 1.515103 & 1.305352 & 1.724854\\\\\n\t14 & 1.429449 & 1.290217 & 1.568681\\\\\n\t15 & 1.244964 & 1.121641 & 1.368287\\\\\n\t17 & 1.190057 & 1.026217 & 1.353898\\\\\n\t18 & 1.324029 & 1.230050 & 1.418008\\\\\n\t19 & 1.372346 & 1.267629 & 1.477064\\\\\n\t20 & 1.451411 & 1.295446 & 1.607377\\\\\n\t21 & 1.389916 & 1.276444 & 1.503389\\\\\n\t22 & 1.205431 & 1.053805 & 1.357057\\\\\n\t23 & 1.291085 & 1.191084 & 1.391086\\\\\n\t24 & 1.306459 & 1.210592 & 1.402326\\\\\n\\end{tabular}\n",
            "text/plain": [
              "   fit      lwr      upr     \n",
              "1  1.433841 1.291371 1.576312\n",
              "2  1.335010 1.240589 1.429431\n",
              "3  1.275711 1.169536 1.381887\n",
              "4  1.526084 1.306561 1.745607\n",
              "5  1.255945 1.139367 1.372523\n",
              "6  1.214216 1.069315 1.359118\n",
              "7  1.302066 1.205244 1.398889\n",
              "8  1.341599 1.246317 1.436881\n",
              "9  1.262534 1.149694 1.375374\n",
              "10 1.365758 1.263750 1.467765\n",
              "11 1.244964 1.121641 1.368287\n",
              "12 1.212020 1.065457 1.358583\n",
              "13 1.515103 1.305352 1.724854\n",
              "14 1.429449 1.290217 1.568681\n",
              "15 1.244964 1.121641 1.368287\n",
              "17 1.190057 1.026217 1.353898\n",
              "18 1.324029 1.230050 1.418008\n",
              "19 1.372346 1.267629 1.477064\n",
              "20 1.451411 1.295446 1.607377\n",
              "21 1.389916 1.276444 1.503389\n",
              "22 1.205431 1.053805 1.357057\n",
              "23 1.291085 1.191084 1.391086\n",
              "24 1.306459 1.210592 1.402326"
            ]
          },
          "metadata": {}
        }
      ]
    }
  ]
}