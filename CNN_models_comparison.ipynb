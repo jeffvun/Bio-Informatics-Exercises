{
  "cells": [
    {
      "cell_type": "markdown",
      "metadata": {
        "id": "view-in-github",
        "colab_type": "text"
      },
      "source": [
        "<a href=\"https://colab.research.google.com/github/jeffvun/Bio-Informatics-Exercises/blob/main/CNN_models_comparison.ipynb\" target=\"_parent\"><img src=\"https://colab.research.google.com/assets/colab-badge.svg\" alt=\"Open In Colab\"/></a>"
      ]
    },
    {
      "cell_type": "markdown",
      "metadata": {
        "id": "go8s0gsiTO2v"
      },
      "source": [
        "## **Loading necessary libraries**"
      ]
    },
    {
      "cell_type": "code",
      "execution_count": null,
      "metadata": {
        "colab": {
          "base_uri": "https://localhost:8080/"
        },
        "id": "mDN9bYkpXEvA",
        "outputId": "f76c5e80-d040-49c2-ac2d-9b6cf46227a4"
      },
      "outputs": [
        {
          "output_type": "stream",
          "name": "stdout",
          "text": [
            "Collecting vit-keras\n",
            "  Downloading vit_keras-0.1.2-py3-none-any.whl (24 kB)\n",
            "Requirement already satisfied: scipy in /usr/local/lib/python3.10/dist-packages (from vit-keras) (1.11.4)\n",
            "Collecting validators (from vit-keras)\n",
            "  Downloading validators-0.22.0-py3-none-any.whl (26 kB)\n",
            "Requirement already satisfied: numpy<1.28.0,>=1.21.6 in /usr/local/lib/python3.10/dist-packages (from scipy->vit-keras) (1.23.5)\n",
            "Installing collected packages: validators, vit-keras\n",
            "Successfully installed validators-0.22.0 vit-keras-0.1.2\n",
            "Collecting tensorflow-addons\n",
            "  Downloading tensorflow_addons-0.23.0-cp310-cp310-manylinux_2_17_x86_64.manylinux2014_x86_64.whl (611 kB)\n",
            "\u001b[2K     \u001b[90m━━━━━━━━━━━━━━━━━━━━━━━━━━━━━━━━━━━━━━━━\u001b[0m \u001b[32m611.8/611.8 kB\u001b[0m \u001b[31m3.7 MB/s\u001b[0m eta \u001b[36m0:00:00\u001b[0m\n",
            "\u001b[?25hRequirement already satisfied: packaging in /usr/local/lib/python3.10/dist-packages (from tensorflow-addons) (23.2)\n",
            "Collecting typeguard<3.0.0,>=2.7 (from tensorflow-addons)\n",
            "  Downloading typeguard-2.13.3-py3-none-any.whl (17 kB)\n",
            "Installing collected packages: typeguard, tensorflow-addons\n",
            "Successfully installed tensorflow-addons-0.23.0 typeguard-2.13.3\n"
          ]
        }
      ],
      "source": [
        "!pip install vit-keras\n",
        "!pip install tensorflow-addons\n"
      ]
    },
    {
      "cell_type": "code",
      "execution_count": null,
      "metadata": {
        "colab": {
          "base_uri": "https://localhost:8080/"
        },
        "id": "UrUYgap3yiYR",
        "outputId": "74d3e2fa-f92f-4f86-fde1-ec3907576e6a"
      },
      "outputs": [
        {
          "output_type": "stream",
          "name": "stderr",
          "text": [
            "/usr/local/lib/python3.10/dist-packages/tensorflow_addons/utils/tfa_eol_msg.py:23: UserWarning: \n",
            "\n",
            "TensorFlow Addons (TFA) has ended development and introduction of new features.\n",
            "TFA has entered a minimal maintenance and release mode until a planned end of life in May 2024.\n",
            "Please modify downstream libraries to take dependencies from other repositories in our TensorFlow community (e.g. Keras, Keras-CV, and Keras-NLP). \n",
            "\n",
            "For more information see: https://github.com/tensorflow/addons/issues/2807 \n",
            "\n",
            "  warnings.warn(\n"
          ]
        }
      ],
      "source": [
        "import tensorflow as tf\n",
        "from tensorflow import keras\n",
        "from tensorflow.keras import layers\n",
        "from tensorflow.keras.applications import ResNet50\n",
        "from vit_keras import vit, utils\n",
        "from tensorflow.keras.applications import MobileNetV2\n",
        "from tensorflow.keras.layers import GlobalAveragePooling2D, Dense, Dropout\n",
        "from tensorflow.keras.models import Model, load_model\n",
        "from tensorflow.keras.preprocessing.image import ImageDataGenerator\n",
        "\n",
        "import os\n",
        "import pandas as pd\n",
        "import numpy as np\n",
        "import matplotlib.pyplot as plt\n",
        "import seaborn as sns\n",
        "\n",
        "\n",
        "from sklearn.svm import SVC\n",
        "from sklearn.model_selection import train_test_split\n",
        "from sklearn.metrics import confusion_matrix, classification_report, accuracy_score, f1_score\n",
        "from sklearn.preprocessing import LabelEncoder\n",
        "\n",
        "from PIL import Image\n"
      ]
    },
    {
      "cell_type": "markdown",
      "metadata": {
        "id": "JbraZ48RTYwz"
      },
      "source": [
        "## **Data Preprocessing**"
      ]
    },
    {
      "cell_type": "code",
      "execution_count": null,
      "metadata": {
        "id": "uDNJshJ8yotN"
      },
      "outputs": [],
      "source": [
        "# Define constants\n",
        "IMAGE_SIZE = (224, 224)\n",
        "BATCH_SIZE = 32\n",
        "EPOCHS = 10\n",
        "NUM_CLASSES = 4\n"
      ]
    },
    {
      "cell_type": "code",
      "execution_count": null,
      "metadata": {
        "id": "zxdqgPrW-Qud"
      },
      "outputs": [],
      "source": [
        "# Define data directories and categories\n",
        "data_dir = '/content/drive/MyDrive/DataSet/train/ALL'\n",
        "categories = ['Benign', 'Early', 'Pre', 'Pro']\n",
        "\n",
        "# Create an empty DataFrame to store file paths and corresponding labels\n",
        "data = []\n",
        "\n",
        "# Load data by iterating through categories and collecting file paths\n",
        "for category_id, category in enumerate(categories):\n",
        "    category_dir = os.path.join(data_dir, category)\n",
        "    for filename in os.listdir(category_dir):\n",
        "        if filename.endswith('.jpg'):\n",
        "          data.append((os.path.join(category_dir, filename), category))"
      ]
    },
    {
      "cell_type": "code",
      "execution_count": null,
      "metadata": {
        "id": "RnF8UApbCi4j"
      },
      "outputs": [],
      "source": [
        "# Convert the data list into a DataFrame\n",
        "data_df = pd.DataFrame(data, columns=['FilePath', 'Category'])"
      ]
    },
    {
      "cell_type": "code",
      "execution_count": null,
      "metadata": {
        "colab": {
          "base_uri": "https://localhost:8080/"
        },
        "id": "A4zPANws4ZPq",
        "outputId": "a764aa9d-d12e-44bc-f42e-b001bb617919"
      },
      "outputs": [
        {
          "output_type": "stream",
          "name": "stdout",
          "text": [
            "Number of samples in training set: 2343\n",
            "Number of samples in testing set: 652\n",
            "Number of samples in validation set: 261\n"
          ]
        }
      ],
      "source": [
        "# Split the data into training, testing, and validation sets\n",
        "train_data, test_data = train_test_split(data_df, test_size=0.2, random_state=42)\n",
        "train_data, val_data = train_test_split(train_data, test_size=0.1, random_state=42)\n",
        "\n",
        "# Print the number of samples in each set\n",
        "print(f\"Number of samples in training set: {len(train_data)}\")\n",
        "print(f\"Number of samples in testing set: {len(test_data)}\")\n",
        "print(f\"Number of samples in validation set: {len(val_data)}\")\n"
      ]
    },
    {
      "cell_type": "code",
      "execution_count": null,
      "metadata": {
        "id": "5iANrYLCyzRb"
      },
      "outputs": [],
      "source": [
        "# Create data generators\n",
        "datagen = ImageDataGenerator(\n",
        "    rescale=1.0/255.0,\n",
        "    rotation_range=20,\n",
        "    width_shift_range=0.2,\n",
        "    height_shift_range=0.2,\n",
        "    shear_range=0.2,\n",
        "    zoom_range=0.2,\n",
        "    horizontal_flip=True,\n",
        "    fill_mode='nearest'\n",
        ")"
      ]
    },
    {
      "cell_type": "code",
      "execution_count": null,
      "metadata": {
        "colab": {
          "base_uri": "https://localhost:8080/"
        },
        "id": "oTbgks8Ey51P",
        "outputId": "af036c70-3d91-480b-85ab-9e9c4c03cdd5"
      },
      "outputs": [
        {
          "output_type": "stream",
          "name": "stdout",
          "text": [
            "Found 2343 validated image filenames belonging to 4 classes.\n",
            "Found 261 validated image filenames belonging to 4 classes.\n",
            "Found 652 validated image filenames belonging to 4 classes.\n"
          ]
        }
      ],
      "source": [
        "train_generator = datagen.flow_from_dataframe(\n",
        "    dataframe=train_data,\n",
        "    x_col=\"FilePath\",\n",
        "    y_col=\"Category\",\n",
        "    target_size=(IMAGE_SIZE),\n",
        "    batch_size=BATCH_SIZE,\n",
        "    class_mode='categorical'\n",
        ")\n",
        "\n",
        "val_generator = datagen.flow_from_dataframe(\n",
        "    dataframe=val_data,\n",
        "    x_col=\"FilePath\",\n",
        "    y_col=\"Category\",\n",
        "    target_size=(IMAGE_SIZE),\n",
        "    batch_size=BATCH_SIZE,\n",
        "    class_mode='categorical'\n",
        ")\n",
        "\n",
        "test_generator = datagen.flow_from_dataframe(\n",
        "    dataframe=test_data,\n",
        "    x_col=\"FilePath\",\n",
        "    y_col=\"Category\",\n",
        "    target_size=(IMAGE_SIZE),\n",
        "    batch_size=BATCH_SIZE,\n",
        "    class_mode='categorical'\n",
        ")"
      ]
    },
    {
      "cell_type": "markdown",
      "metadata": {
        "id": "jVNjIFfLTzVx"
      },
      "source": [
        "## **Loading and Compiling Various CNN models**"
      ]
    },
    {
      "cell_type": "code",
      "execution_count": null,
      "metadata": {
        "colab": {
          "base_uri": "https://localhost:8080/",
          "height": 75
        },
        "id": "0yHKDsMhJFWK",
        "outputId": "b05031f8-5432-4b25-e2a7-03e199518288"
      },
      "outputs": [
        {
          "output_type": "execute_result",
          "data": {
            "text/plain": [
              "SVC(kernel='linear')"
            ],
            "text/html": [
              "<style>#sk-container-id-1 {color: black;background-color: white;}#sk-container-id-1 pre{padding: 0;}#sk-container-id-1 div.sk-toggleable {background-color: white;}#sk-container-id-1 label.sk-toggleable__label {cursor: pointer;display: block;width: 100%;margin-bottom: 0;padding: 0.3em;box-sizing: border-box;text-align: center;}#sk-container-id-1 label.sk-toggleable__label-arrow:before {content: \"▸\";float: left;margin-right: 0.25em;color: #696969;}#sk-container-id-1 label.sk-toggleable__label-arrow:hover:before {color: black;}#sk-container-id-1 div.sk-estimator:hover label.sk-toggleable__label-arrow:before {color: black;}#sk-container-id-1 div.sk-toggleable__content {max-height: 0;max-width: 0;overflow: hidden;text-align: left;background-color: #f0f8ff;}#sk-container-id-1 div.sk-toggleable__content pre {margin: 0.2em;color: black;border-radius: 0.25em;background-color: #f0f8ff;}#sk-container-id-1 input.sk-toggleable__control:checked~div.sk-toggleable__content {max-height: 200px;max-width: 100%;overflow: auto;}#sk-container-id-1 input.sk-toggleable__control:checked~label.sk-toggleable__label-arrow:before {content: \"▾\";}#sk-container-id-1 div.sk-estimator input.sk-toggleable__control:checked~label.sk-toggleable__label {background-color: #d4ebff;}#sk-container-id-1 div.sk-label input.sk-toggleable__control:checked~label.sk-toggleable__label {background-color: #d4ebff;}#sk-container-id-1 input.sk-hidden--visually {border: 0;clip: rect(1px 1px 1px 1px);clip: rect(1px, 1px, 1px, 1px);height: 1px;margin: -1px;overflow: hidden;padding: 0;position: absolute;width: 1px;}#sk-container-id-1 div.sk-estimator {font-family: monospace;background-color: #f0f8ff;border: 1px dotted black;border-radius: 0.25em;box-sizing: border-box;margin-bottom: 0.5em;}#sk-container-id-1 div.sk-estimator:hover {background-color: #d4ebff;}#sk-container-id-1 div.sk-parallel-item::after {content: \"\";width: 100%;border-bottom: 1px solid gray;flex-grow: 1;}#sk-container-id-1 div.sk-label:hover label.sk-toggleable__label {background-color: #d4ebff;}#sk-container-id-1 div.sk-serial::before {content: \"\";position: absolute;border-left: 1px solid gray;box-sizing: border-box;top: 0;bottom: 0;left: 50%;z-index: 0;}#sk-container-id-1 div.sk-serial {display: flex;flex-direction: column;align-items: center;background-color: white;padding-right: 0.2em;padding-left: 0.2em;position: relative;}#sk-container-id-1 div.sk-item {position: relative;z-index: 1;}#sk-container-id-1 div.sk-parallel {display: flex;align-items: stretch;justify-content: center;background-color: white;position: relative;}#sk-container-id-1 div.sk-item::before, #sk-container-id-1 div.sk-parallel-item::before {content: \"\";position: absolute;border-left: 1px solid gray;box-sizing: border-box;top: 0;bottom: 0;left: 50%;z-index: -1;}#sk-container-id-1 div.sk-parallel-item {display: flex;flex-direction: column;z-index: 1;position: relative;background-color: white;}#sk-container-id-1 div.sk-parallel-item:first-child::after {align-self: flex-end;width: 50%;}#sk-container-id-1 div.sk-parallel-item:last-child::after {align-self: flex-start;width: 50%;}#sk-container-id-1 div.sk-parallel-item:only-child::after {width: 0;}#sk-container-id-1 div.sk-dashed-wrapped {border: 1px dashed gray;margin: 0 0.4em 0.5em 0.4em;box-sizing: border-box;padding-bottom: 0.4em;background-color: white;}#sk-container-id-1 div.sk-label label {font-family: monospace;font-weight: bold;display: inline-block;line-height: 1.2em;}#sk-container-id-1 div.sk-label-container {text-align: center;}#sk-container-id-1 div.sk-container {/* jupyter's `normalize.less` sets `[hidden] { display: none; }` but bootstrap.min.css set `[hidden] { display: none !important; }` so we also need the `!important` here to be able to override the default hidden behavior on the sphinx rendered scikit-learn.org. See: https://github.com/scikit-learn/scikit-learn/issues/21755 */display: inline-block !important;position: relative;}#sk-container-id-1 div.sk-text-repr-fallback {display: none;}</style><div id=\"sk-container-id-1\" class=\"sk-top-container\"><div class=\"sk-text-repr-fallback\"><pre>SVC(kernel=&#x27;linear&#x27;)</pre><b>In a Jupyter environment, please rerun this cell to show the HTML representation or trust the notebook. <br />On GitHub, the HTML representation is unable to render, please try loading this page with nbviewer.org.</b></div><div class=\"sk-container\" hidden><div class=\"sk-item\"><div class=\"sk-estimator sk-toggleable\"><input class=\"sk-toggleable__control sk-hidden--visually\" id=\"sk-estimator-id-1\" type=\"checkbox\" checked><label for=\"sk-estimator-id-1\" class=\"sk-toggleable__label sk-toggleable__label-arrow\">SVC</label><div class=\"sk-toggleable__content\"><pre>SVC(kernel=&#x27;linear&#x27;)</pre></div></div></div></div></div>"
            ]
          },
          "metadata": {},
          "execution_count": 9
        }
      ],
      "source": [
        "# Load and compile SVM model\n",
        "# Flatten the images for SVM\n",
        "X_svm, y_svm = [], []\n",
        "\n",
        "for i in range(len(train_generator)):\n",
        "    batch_images, batch_labels = train_generator[i]\n",
        "    batch_size = batch_images.shape[0]\n",
        "    flattened_images = batch_images.reshape((batch_size, -1))\n",
        "    X_svm.append(flattened_images)\n",
        "    y_svm.append(np.argmax(batch_labels, axis=1))\n",
        "\n",
        "X_svm = np.vstack(X_svm)\n",
        "y_svm = np.concatenate(y_svm)\n",
        "\n",
        "svm_model = SVC(kernel='linear')\n",
        "svm_model.fit(X_svm, y_svm)\n"
      ]
    },
    {
      "cell_type": "code",
      "execution_count": null,
      "metadata": {
        "id": "5mxq8umjLTW8"
      },
      "outputs": [],
      "source": [
        "# Load and compile CNN model\n",
        "cnn_model = keras.Sequential([\n",
        "    layers.Conv2D(32, (3, 3), activation='relu', input_shape=(*IMAGE_SIZE, 3)),\n",
        "    layers.MaxPooling2D((2, 2)),\n",
        "    layers.Flatten(),\n",
        "    layers.Dense(128, activation='relu'),\n",
        "    layers.Dense(4, activation='softmax')\n",
        "])\n",
        "\n",
        "cnn_model.compile(optimizer='adam', loss='categorical_crossentropy', metrics=['accuracy'])\n"
      ]
    },
    {
      "cell_type": "code",
      "execution_count": null,
      "metadata": {
        "id": "val0a_W8LN8A"
      },
      "outputs": [],
      "source": [
        "# Load and compile ViT model\n",
        "vit_model = vit.vit_b16(\n",
        "    image_size=IMAGE_SIZE[0],\n",
        "    activation='softmax',\n",
        "    pretrained=False,\n",
        "    include_top=True,\n",
        "    pretrained_top=False,\n",
        "    classes=4\n",
        ")\n",
        "\n",
        "vit_model.compile(optimizer=keras.optimizers.Adam(learning_rate=1e-4), loss='categorical_crossentropy', metrics=['accuracy'])\n"
      ]
    },
    {
      "cell_type": "code",
      "execution_count": null,
      "metadata": {
        "id": "FKowuEmADYAL",
        "colab": {
          "base_uri": "https://localhost:8080/"
        },
        "outputId": "0384a6e9-3196-439c-e352-59f0a272ddf7"
      },
      "outputs": [
        {
          "output_type": "stream",
          "name": "stdout",
          "text": [
            "Downloading data from https://storage.googleapis.com/tensorflow/keras-applications/resnet/resnet50_weights_tf_dim_ordering_tf_kernels_notop.h5\n",
            "94765736/94765736 [==============================] - 5s 0us/step\n"
          ]
        }
      ],
      "source": [
        "# Load and compile ResNet model\n",
        "base_model = ResNet50(input_shape=(*IMAGE_SIZE, 3),weights='imagenet', include_top=False)\n",
        "x = base_model.output\n",
        "x = GlobalAveragePooling2D()(x)\n",
        "predictions = Dense(1, activation='sigmoid')(x)\n",
        "\n",
        "resnet_model = Model(inputs=base_model.input, outputs=predictions)\n",
        "\n",
        "resnet_model.compile(optimizer='adam',\n",
        "                    loss='binary_crossentropy',\n",
        "                    metrics=['accuracy'])"
      ]
    },
    {
      "cell_type": "code",
      "execution_count": null,
      "metadata": {
        "id": "NTc2h5F5y9c1",
        "colab": {
          "base_uri": "https://localhost:8080/"
        },
        "outputId": "a54928f4-1f6f-4ae6-876b-ded7933f0405"
      },
      "outputs": [
        {
          "output_type": "stream",
          "name": "stdout",
          "text": [
            "Downloading data from https://storage.googleapis.com/tensorflow/keras-applications/mobilenet_v2/mobilenet_v2_weights_tf_dim_ordering_tf_kernels_1.0_224_no_top.h5\n",
            "9406464/9406464 [==============================] - 2s 0us/step\n"
          ]
        }
      ],
      "source": [
        "# Load and configure MobileNetV2 model\n",
        "base_model = MobileNetV2(\n",
        "    input_shape=(*IMAGE_SIZE, 3),\n",
        "    include_top=False,\n",
        "    weights=\"imagenet\",\n",
        ")\n",
        "#Adding custom classification layers\n",
        "x = base_model.output\n",
        "x = GlobalAveragePooling2D()(x)\n",
        "x = Dense(1024, activation='relu')(x)\n",
        "x = Dropout(0.5)(x)\n",
        "predictions = Dense(NUM_CLASSES, activation='softmax')(x)\n",
        "\n",
        "mobilenet_model = Model(inputs=base_model.input, outputs=predictions)\n",
        "\n",
        "# Freeze the base model layers\n",
        "for layer in base_model.layers:\n",
        "    layer.trainable = False\n",
        "# Compile the model\n",
        "mobilenet_model.compile(optimizer='adam', loss='categorical_crossentropy', metrics=['accuracy'])\n"
      ]
    },
    {
      "cell_type": "markdown",
      "metadata": {
        "id": "c8OVBSFQT_-y"
      },
      "source": [
        "## **Training and Evaluating Various CNN Models**"
      ]
    },
    {
      "cell_type": "code",
      "execution_count": null,
      "metadata": {
        "id": "V9kVChrLzOJI",
        "colab": {
          "base_uri": "https://localhost:8080/"
        },
        "outputId": "980898a2-0115-408d-d592-5edad8f41877"
      },
      "outputs": [
        {
          "output_type": "stream",
          "name": "stdout",
          "text": [
            "Epoch 1/10\n",
            "74/74 [==============================] - 183s 2s/step - loss: 7.6372 - accuracy: 0.5787 - val_loss: 0.5494 - val_accuracy: 0.8008\n",
            "Epoch 2/10\n",
            "74/74 [==============================] - 40s 536ms/step - loss: 0.5688 - accuracy: 0.7682 - val_loss: 0.4571 - val_accuracy: 0.8467\n",
            "Epoch 3/10\n",
            "74/74 [==============================] - 40s 537ms/step - loss: 0.4415 - accuracy: 0.8276 - val_loss: 0.4366 - val_accuracy: 0.8352\n",
            "Epoch 4/10\n",
            "74/74 [==============================] - 39s 528ms/step - loss: 0.5127 - accuracy: 0.8003 - val_loss: 0.4406 - val_accuracy: 0.8391\n",
            "Epoch 5/10\n",
            "74/74 [==============================] - 42s 564ms/step - loss: 0.3973 - accuracy: 0.8510 - val_loss: 0.7428 - val_accuracy: 0.6590\n",
            "Epoch 6/10\n",
            "74/74 [==============================] - 39s 534ms/step - loss: 0.3709 - accuracy: 0.8630 - val_loss: 0.4230 - val_accuracy: 0.7625\n",
            "Epoch 7/10\n",
            "74/74 [==============================] - 41s 552ms/step - loss: 0.3611 - accuracy: 0.8587 - val_loss: 0.3558 - val_accuracy: 0.8544\n",
            "Epoch 8/10\n",
            "74/74 [==============================] - 40s 534ms/step - loss: 0.3323 - accuracy: 0.8651 - val_loss: 0.4239 - val_accuracy: 0.8352\n",
            "Epoch 9/10\n",
            "74/74 [==============================] - 40s 535ms/step - loss: 0.3777 - accuracy: 0.8651 - val_loss: 0.4173 - val_accuracy: 0.8199\n",
            "Epoch 10/10\n",
            "74/74 [==============================] - 40s 544ms/step - loss: 0.3623 - accuracy: 0.8579 - val_loss: 0.3144 - val_accuracy: 0.8851\n",
            "Epoch 1/10\n",
            "74/74 [==============================] - 147s 1s/step - loss: 1.9948 - accuracy: 0.2663 - val_loss: 1.3862 - val_accuracy: 0.3257\n",
            "Epoch 2/10\n",
            "74/74 [==============================] - 99s 1s/step - loss: 1.3997 - accuracy: 0.3026 - val_loss: 1.3656 - val_accuracy: 0.3257\n",
            "Epoch 3/10\n",
            "74/74 [==============================] - 98s 1s/step - loss: 1.3994 - accuracy: 0.2894 - val_loss: 1.3637 - val_accuracy: 0.2720\n",
            "Epoch 4/10\n",
            "74/74 [==============================] - 101s 1s/step - loss: 1.4156 - accuracy: 0.2966 - val_loss: 1.5215 - val_accuracy: 0.2720\n",
            "Epoch 5/10\n",
            "74/74 [==============================] - 101s 1s/step - loss: 1.4132 - accuracy: 0.3197 - val_loss: 1.3733 - val_accuracy: 0.3257\n",
            "Epoch 6/10\n",
            "74/74 [==============================] - 100s 1s/step - loss: 1.3548 - accuracy: 0.3675 - val_loss: 1.1277 - val_accuracy: 0.4866\n",
            "Epoch 7/10\n",
            "74/74 [==============================] - 101s 1s/step - loss: 0.9221 - accuracy: 0.5843 - val_loss: 0.7703 - val_accuracy: 0.7280\n",
            "Epoch 8/10\n",
            "74/74 [==============================] - 101s 1s/step - loss: 0.7523 - accuracy: 0.6743 - val_loss: 0.5416 - val_accuracy: 0.8084\n",
            "Epoch 9/10\n",
            "74/74 [==============================] - 99s 1s/step - loss: 0.5538 - accuracy: 0.7665 - val_loss: 0.5974 - val_accuracy: 0.7854\n",
            "Epoch 10/10\n",
            "74/74 [==============================] - 102s 1s/step - loss: 0.5126 - accuracy: 0.7879 - val_loss: 0.4298 - val_accuracy: 0.8276\n",
            "Epoch 1/10\n",
            "74/74 [==============================] - 86s 701ms/step - loss: 0.6083 - accuracy: 0.7361 - val_loss: 268.8994 - val_accuracy: 0.7500\n",
            "Epoch 2/10\n",
            "74/74 [==============================] - 49s 652ms/step - loss: 0.5628 - accuracy: 0.7500 - val_loss: 0.6847 - val_accuracy: 0.7500\n",
            "Epoch 3/10\n",
            "74/74 [==============================] - 48s 648ms/step - loss: 0.5627 - accuracy: 0.7500 - val_loss: 0.6841 - val_accuracy: 0.7500\n",
            "Epoch 4/10\n",
            "74/74 [==============================] - 49s 659ms/step - loss: 0.5624 - accuracy: 0.7500 - val_loss: 0.6849 - val_accuracy: 0.7500\n",
            "Epoch 5/10\n",
            "74/74 [==============================] - 53s 710ms/step - loss: 0.5625 - accuracy: 0.7500 - val_loss: 0.6862 - val_accuracy: 0.7500\n",
            "Epoch 6/10\n",
            "74/74 [==============================] - 49s 658ms/step - loss: 0.5627 - accuracy: 0.7500 - val_loss: 0.6865 - val_accuracy: 0.7500\n",
            "Epoch 7/10\n",
            "74/74 [==============================] - 49s 657ms/step - loss: 0.5629 - accuracy: 0.7500 - val_loss: 0.6881 - val_accuracy: 0.7500\n",
            "Epoch 8/10\n",
            "74/74 [==============================] - 53s 718ms/step - loss: 0.5624 - accuracy: 0.7500 - val_loss: 0.6877 - val_accuracy: 0.7500\n",
            "Epoch 9/10\n",
            "74/74 [==============================] - 50s 671ms/step - loss: 0.5624 - accuracy: 0.7500 - val_loss: 0.6855 - val_accuracy: 0.7500\n",
            "Epoch 10/10\n",
            "74/74 [==============================] - 49s 658ms/step - loss: 0.5624 - accuracy: 0.7500 - val_loss: 0.6799 - val_accuracy: 0.7500\n",
            "Epoch 1/10\n",
            "74/74 [==============================] - 47s 556ms/step - loss: 0.7419 - accuracy: 0.7597 - val_loss: 0.2296 - val_accuracy: 0.9310\n",
            "Epoch 2/10\n",
            "74/74 [==============================] - 46s 627ms/step - loss: 0.2637 - accuracy: 0.9027 - val_loss: 0.1478 - val_accuracy: 0.9502\n",
            "Epoch 3/10\n",
            "74/74 [==============================] - 39s 532ms/step - loss: 0.1911 - accuracy: 0.9347 - val_loss: 0.1227 - val_accuracy: 0.9579\n",
            "Epoch 4/10\n",
            "74/74 [==============================] - 41s 550ms/step - loss: 0.1884 - accuracy: 0.9321 - val_loss: 0.1149 - val_accuracy: 0.9655\n",
            "Epoch 5/10\n",
            "74/74 [==============================] - 41s 558ms/step - loss: 0.1723 - accuracy: 0.9381 - val_loss: 0.1344 - val_accuracy: 0.9310\n",
            "Epoch 6/10\n",
            "74/74 [==============================] - 41s 549ms/step - loss: 0.1344 - accuracy: 0.9496 - val_loss: 0.1044 - val_accuracy: 0.9540\n",
            "Epoch 7/10\n",
            "74/74 [==============================] - 41s 558ms/step - loss: 0.1352 - accuracy: 0.9471 - val_loss: 0.1096 - val_accuracy: 0.9655\n",
            "Epoch 8/10\n",
            "74/74 [==============================] - 41s 545ms/step - loss: 0.1302 - accuracy: 0.9577 - val_loss: 0.0718 - val_accuracy: 0.9885\n",
            "Epoch 9/10\n",
            "74/74 [==============================] - 40s 548ms/step - loss: 0.1195 - accuracy: 0.9565 - val_loss: 0.0776 - val_accuracy: 0.9655\n",
            "Epoch 10/10\n",
            "74/74 [==============================] - 42s 560ms/step - loss: 0.1175 - accuracy: 0.9582 - val_loss: 0.1106 - val_accuracy: 0.9464\n"
          ]
        }
      ],
      "source": [
        "# Train CNN, ViT, ResNet and mobilenet models\n",
        "\n",
        "history_cnn = cnn_model.fit(train_generator, validation_data=val_generator, epochs=EPOCHS, verbose=1)\n",
        "history_vit = vit_model.fit(train_generator, validation_data=val_generator, epochs=EPOCHS, verbose=1)\n",
        "history_resnet = resnet_model.fit(train_generator, validation_data=val_generator, epochs=EPOCHS)\n",
        "history_mobilenet = mobilenet_model.fit(train_generator, validation_data=val_generator, epochs=EPOCHS, verbose=1)\n"
      ]
    },
    {
      "cell_type": "code",
      "execution_count": null,
      "metadata": {
        "id": "9GmdYyV-Ml-N"
      },
      "outputs": [],
      "source": [
        "# Evaluate SVM model\n",
        "X_test_svm, y_test_svm = [], []\n",
        "\n",
        "for i in range(len(val_generator)):\n",
        "    batch_images, batch_labels = val_generator[i]\n",
        "    batch_size = batch_images.shape[0]\n",
        "    flattened_images = batch_images.reshape((batch_size, -1))\n",
        "    X_test_svm.append(flattened_images)\n",
        "    y_test_svm.append(np.argmax(batch_labels, axis=1))\n",
        "\n",
        "X_test_svm = np.vstack(X_test_svm)\n",
        "y_test_svm = np.concatenate(y_test_svm)\n",
        "\n",
        "svm_predictions = svm_model.predict(X_test_svm)\n",
        "svm_accuracy = accuracy_score(y_test_svm, svm_predictions)\n",
        "svm_f1 = f1_score(y_test_svm, svm_predictions, average='weighted')\n",
        "svm_cm = confusion_matrix(y_test_svm, svm_predictions)\n"
      ]
    },
    {
      "cell_type": "code",
      "execution_count": null,
      "metadata": {
        "id": "jh7JheDBMsGV",
        "colab": {
          "base_uri": "https://localhost:8080/"
        },
        "outputId": "3db580d7-eba8-4f7e-f613-5157d408eb55"
      },
      "outputs": [
        {
          "output_type": "stream",
          "name": "stdout",
          "text": [
            "1/1 [==============================] - 0s 161ms/step\n",
            "1/1 [==============================] - 0s 28ms/step\n",
            "1/1 [==============================] - 0s 27ms/step\n",
            "1/1 [==============================] - 0s 26ms/step\n",
            "1/1 [==============================] - 0s 29ms/step\n",
            "1/1 [==============================] - 0s 29ms/step\n",
            "1/1 [==============================] - 0s 39ms/step\n",
            "1/1 [==============================] - 0s 26ms/step\n",
            "1/1 [==============================] - 0s 56ms/step\n",
            "9/9 [==============================] - 3s 353ms/step - loss: 0.3077 - accuracy: 0.8736\n"
          ]
        }
      ],
      "source": [
        "# Evaluate CNN model\n",
        "cnn_predictions = []\n",
        "cnn_true_labels = []\n",
        "\n",
        "for i in range(len(val_generator)):\n",
        "    batch_images, batch_labels = val_generator[i]\n",
        "    batch_size = batch_images.shape[0]\n",
        "\n",
        "    # Get true labels\n",
        "    cnn_true_labels.extend(np.argmax(batch_labels, axis=1))\n",
        "\n",
        "    # Get predictions\n",
        "    batch_predictions = cnn_model.predict(batch_images)\n",
        "    cnn_predictions.extend(np.argmax(batch_predictions, axis=1))\n",
        "\n",
        "cnn_f1 = f1_score(cnn_true_labels, cnn_predictions, average='weighted')\n",
        "cnn_eval = cnn_model.evaluate(val_generator)\n",
        "cnn_cm = confusion_matrix(cnn_true_labels, cnn_predictions)\n"
      ]
    },
    {
      "cell_type": "code",
      "execution_count": null,
      "metadata": {
        "id": "NLsjVvbZMu8p"
      },
      "outputs": [],
      "source": [
        "# # Evaluate ViT model\n",
        "# vit_eval = vit_model.evaluate(val_generator)\n",
        "# vit_f1 = f1_score(np.argmax(val_generator.labels, axis=1), np.argmax(vit_model.predict(val_generator), axis=1), average='weighted')\n",
        "# vit_cm = confusion_matrix(np.argmax(val_generator.labels, axis=1), np.argmax(vit_model.predict(val_generator), axis=1))\n"
      ]
    },
    {
      "cell_type": "code",
      "execution_count": null,
      "metadata": {
        "id": "xnjYtuwL1h1u",
        "colab": {
          "base_uri": "https://localhost:8080/"
        },
        "outputId": "7eb37036-aca7-480c-f56b-c2de5251f959"
      },
      "outputs": [
        {
          "output_type": "stream",
          "name": "stdout",
          "text": [
            "1/1 [==============================] - 2s 2s/step\n",
            "1/1 [==============================] - 0s 51ms/step\n",
            "1/1 [==============================] - 0s 53ms/step\n",
            "1/1 [==============================] - 0s 49ms/step\n",
            "1/1 [==============================] - 0s 55ms/step\n",
            "1/1 [==============================] - 0s 35ms/step\n",
            "1/1 [==============================] - 0s 37ms/step\n",
            "1/1 [==============================] - 0s 32ms/step\n",
            "1/1 [==============================] - 3s 3s/step\n",
            "9/9 [==============================] - 6s 572ms/step - loss: 0.4383 - accuracy: 0.8352\n"
          ]
        }
      ],
      "source": [
        "# Evaluate ViT model\n",
        "vit_predictions = []\n",
        "vit_true_labels = []\n",
        "\n",
        "for i in range(len(val_generator)):\n",
        "    batch_images, batch_labels = val_generator[i]\n",
        "    batch_size = batch_images.shape[0]\n",
        "\n",
        "    # Get true labels\n",
        "    vit_true_labels.extend(np.argmax(batch_labels, axis=1))\n",
        "\n",
        "    # Get predictions\n",
        "    batch_predictions = vit_model.predict(batch_images)\n",
        "    vit_predictions.extend(np.argmax(batch_predictions, axis=1))\n",
        "\n",
        "vit_f1 = f1_score(vit_true_labels, vit_predictions, average='weighted')\n",
        "vit_eval = vit_model.evaluate(val_generator)\n",
        "vit_cm = confusion_matrix(vit_true_labels, vit_predictions)\n"
      ]
    },
    {
      "cell_type": "code",
      "execution_count": null,
      "metadata": {
        "id": "oWIgibXtMxV7",
        "colab": {
          "base_uri": "https://localhost:8080/"
        },
        "outputId": "44bb4432-f961-43f9-907f-419f23854761"
      },
      "outputs": [
        {
          "output_type": "stream",
          "name": "stdout",
          "text": [
            "1/1 [==============================] - 1s 872ms/step\n",
            "1/1 [==============================] - 0s 41ms/step\n",
            "1/1 [==============================] - 0s 32ms/step\n",
            "1/1 [==============================] - 0s 32ms/step\n",
            "1/1 [==============================] - 0s 34ms/step\n",
            "1/1 [==============================] - 0s 36ms/step\n",
            "1/1 [==============================] - 0s 31ms/step\n",
            "1/1 [==============================] - 0s 34ms/step\n",
            "1/1 [==============================] - 1s 870ms/step\n",
            "9/9 [==============================] - 6s 633ms/step - loss: 0.6799 - accuracy: 0.7500\n"
          ]
        }
      ],
      "source": [
        "# Evaluate ResNet model\n",
        "resnet_predictions = []\n",
        "resnet_true_labels = []\n",
        "\n",
        "for i in range(len(val_generator)):\n",
        "    batch_images, batch_labels = val_generator[i]\n",
        "    batch_size = batch_images.shape[0]\n",
        "\n",
        "    # Get true labels\n",
        "    resnet_true_labels.extend(np.argmax(batch_labels, axis=1))\n",
        "\n",
        "    # Get predictions\n",
        "    batch_predictions = resnet_model.predict(batch_images)\n",
        "    resnet_predictions.extend(np.argmax(batch_predictions, axis=1))\n",
        "\n",
        "resnet_f1 = f1_score(resnet_true_labels, resnet_predictions, average='weighted')\n",
        "resnet_eval = resnet_model.evaluate(val_generator)\n",
        "resnet_cm = confusion_matrix(resnet_true_labels, resnet_predictions)\n"
      ]
    },
    {
      "cell_type": "code",
      "execution_count": null,
      "metadata": {
        "id": "STBBglaMNmdm",
        "colab": {
          "base_uri": "https://localhost:8080/"
        },
        "outputId": "9c447d2c-eb5d-4a01-f8cc-4ea385109874"
      },
      "outputs": [
        {
          "output_type": "stream",
          "name": "stdout",
          "text": [
            "1/1 [==============================] - 1s 899ms/step\n",
            "1/1 [==============================] - 0s 34ms/step\n",
            "1/1 [==============================] - 0s 32ms/step\n",
            "1/1 [==============================] - 0s 34ms/step\n",
            "1/1 [==============================] - 0s 38ms/step\n",
            "1/1 [==============================] - 0s 32ms/step\n",
            "1/1 [==============================] - 0s 38ms/step\n",
            "1/1 [==============================] - 0s 37ms/step\n",
            "1/1 [==============================] - 1s 790ms/step\n",
            "9/9 [==============================] - 3s 376ms/step - loss: 0.1219 - accuracy: 0.9579\n"
          ]
        }
      ],
      "source": [
        "# Evaluate MobileNet model\n",
        "mobilenet_predictions = []\n",
        "mobilenet_true_labels = []\n",
        "\n",
        "for i in range(len(val_generator)):\n",
        "    batch_images, batch_labels = val_generator[i]\n",
        "    batch_size = batch_images.shape[0]\n",
        "\n",
        "    # Get true labels\n",
        "    mobilenet_true_labels.extend(np.argmax(batch_labels, axis=1))\n",
        "\n",
        "    # Get predictions\n",
        "    batch_predictions = mobilenet_model.predict(batch_images)\n",
        "    mobilenet_predictions.extend(np.argmax(batch_predictions, axis=1))\n",
        "\n",
        "mobilenet_f1 = f1_score(mobilenet_true_labels, mobilenet_predictions, average='weighted')\n",
        "mobilenet_eval = mobilenet_model.evaluate(val_generator)\n",
        "mobilenet_cm = confusion_matrix(mobilenet_true_labels, mobilenet_predictions)\n"
      ]
    },
    {
      "cell_type": "markdown",
      "metadata": {
        "id": "tpLV3KehUJx5"
      },
      "source": [
        "## **Models Summary**"
      ]
    },
    {
      "cell_type": "code",
      "execution_count": null,
      "metadata": {
        "id": "KCEtPb0QO3vA",
        "colab": {
          "base_uri": "https://localhost:8080/"
        },
        "outputId": "49cf79aa-b365-4f2a-deec-8567d5821edc"
      },
      "outputs": [
        {
          "output_type": "stream",
          "name": "stdout",
          "text": [
            "SVM Accuracy: 0.6436781609195402\n",
            "SVM F1 Score: 0.6437746860951175\n",
            "SVM Confusion Matrix:\n",
            " [[13 10  7  7]\n",
            " [21 45 15  4]\n",
            " [ 5 15 49  2]\n",
            " [ 5  2  0 61]]\n"
          ]
        }
      ],
      "source": [
        "# Print and compare metrics\n",
        "print(\"SVM Accuracy:\", svm_accuracy)\n",
        "print(\"SVM F1 Score:\", svm_f1)\n",
        "print(\"SVM Confusion Matrix:\\n\", svm_cm)\n"
      ]
    },
    {
      "cell_type": "code",
      "execution_count": null,
      "metadata": {
        "id": "NnWGtzDKO5g5",
        "colab": {
          "base_uri": "https://localhost:8080/"
        },
        "outputId": "48d00640-2f17-4887-c150-40b84ed8c454"
      },
      "outputs": [
        {
          "output_type": "stream",
          "name": "stdout",
          "text": [
            "CNN Accuracy: 0.8735632300376892\n",
            "CNN F1 Score: 0.8811786594965428\n",
            "CNN Confusion Matrix:\n",
            " [[16 15  2  4]\n",
            " [ 1 82  0  2]\n",
            " [ 2  2 67  0]\n",
            " [ 0  0  0 68]]\n"
          ]
        }
      ],
      "source": [
        "print(\"CNN Accuracy:\", cnn_eval[1])\n",
        "print(\"CNN F1 Score:\", cnn_f1)\n",
        "print(\"CNN Confusion Matrix:\\n\", cnn_cm)\n"
      ]
    },
    {
      "cell_type": "code",
      "execution_count": null,
      "metadata": {
        "id": "Is33yPMhO75o",
        "colab": {
          "base_uri": "https://localhost:8080/"
        },
        "outputId": "bac2b21d-4d88-4faf-8da9-c6be3cf3dd20"
      },
      "outputs": [
        {
          "output_type": "stream",
          "name": "stdout",
          "text": [
            "ViT Accuracy: 0.8352490663528442\n",
            "ViT F1 Score: 0.7731482301396385\n",
            "ViT Confusion Matrix:\n",
            " [[ 0 34  2  1]\n",
            " [ 0 80  4  1]\n",
            " [ 0  1 70  0]\n",
            " [ 0  1  0 67]]\n"
          ]
        }
      ],
      "source": [
        "print(\"ViT Accuracy:\", vit_eval[1])\n",
        "print(\"ViT F1 Score:\", vit_f1)\n",
        "print(\"ViT Confusion Matrix:\\n\", vit_cm)\n"
      ]
    },
    {
      "cell_type": "code",
      "execution_count": null,
      "metadata": {
        "id": "XPgVsPulSicc",
        "colab": {
          "base_uri": "https://localhost:8080/"
        },
        "outputId": "a6012947-846b-4ed2-e325-c5aa1e9bd257"
      },
      "outputs": [
        {
          "output_type": "stream",
          "name": "stdout",
          "text": [
            "ResNet Accuracy: 0.75\n",
            "ResNet F1 Score: 0.03520275656355267\n",
            "ResNet Confusion Matrix:\n",
            " [[37  0  0  0]\n",
            " [85  0  0  0]\n",
            " [71  0  0  0]\n",
            " [68  0  0  0]]\n"
          ]
        }
      ],
      "source": [
        "print(\"ResNet Accuracy:\", resnet_eval[1])\n",
        "print(\"ResNet F1 Score:\", resnet_f1)\n",
        "print(\"ResNet Confusion Matrix:\\n\", resnet_cm)\n"
      ]
    },
    {
      "cell_type": "code",
      "execution_count": null,
      "metadata": {
        "id": "KXJVqR7LO-yH",
        "colab": {
          "base_uri": "https://localhost:8080/"
        },
        "outputId": "4ae893c4-de65-4533-f205-6b20490b6a03"
      },
      "outputs": [
        {
          "output_type": "stream",
          "name": "stdout",
          "text": [
            "MobileNet Accuracy: 0.9578543901443481\n",
            "MobileNet F1 Score: 0.9699373890290627\n",
            "MobileNet Confusion Matrix:\n",
            " [[36  1  0  0]\n",
            " [ 7 78  0  0]\n",
            " [ 0  0 71  0]\n",
            " [ 0  0  0 68]]\n"
          ]
        }
      ],
      "source": [
        "print(\"MobileNet Accuracy:\", mobilenet_eval[1])\n",
        "print(\"MobileNet F1 Score:\", mobilenet_f1)\n",
        "print(\"MobileNet Confusion Matrix:\\n\", mobilenet_cm)\n"
      ]
    },
    {
      "cell_type": "code",
      "execution_count": null,
      "metadata": {
        "id": "7vmiljTJEkiu",
        "colab": {
          "base_uri": "https://localhost:8080/",
          "height": 410
        },
        "outputId": "753becd4-fc1d-4de0-b7d4-aeb7c05e1714"
      },
      "outputs": [
        {
          "output_type": "display_data",
          "data": {
            "text/plain": [
              "<Figure size 600x400 with 2 Axes>"
            ],
            "image/png": "[encoded data removed]"
          },
          "metadata": {}
        }
      ],
      "source": [
        "target_names = ['Benign', 'Early', 'Pre', 'Pro']\n",
        "\n",
        "# Plot the svm confusion matrix as a heatmap\n",
        "plt.figure(figsize=(6, 4))\n",
        "sns.heatmap(svm_cm, annot=True, fmt='d', cmap='Blues', xticklabels=target_names, yticklabels=target_names)\n",
        "plt.xlabel('Predicted')\n",
        "plt.ylabel('Actual')\n",
        "plt.title('SVM Confusion Matrix')\n",
        "plt.show()\n"
      ]
    },
    {
      "cell_type": "code",
      "execution_count": null,
      "metadata": {
        "id": "eYzOAf8_RuBA",
        "colab": {
          "base_uri": "https://localhost:8080/",
          "height": 410
        },
        "outputId": "deeb9cfb-da04-41bd-d34a-1fcd84fa8a6a"
      },
      "outputs": [
        {
          "output_type": "display_data",
          "data": {
            "text/plain": [
              "<Figure size 600x400 with 2 Axes>"
            ],
            "image/png": "[encoded data removed]"
          },
          "metadata": {}
        }
      ],
      "source": [
        "# Plot the cnn confusion matrix as a heatmap\n",
        "plt.figure(figsize=(6, 4))\n",
        "sns.heatmap(cnn_cm, annot=True, fmt='d', cmap='Blues', xticklabels=target_names, yticklabels=target_names)\n",
        "plt.xlabel('Predicted')\n",
        "plt.ylabel('Actual')\n",
        "plt.title('Simple CNN Confusion Matrix')\n",
        "plt.show()"
      ]
    },
    {
      "cell_type": "code",
      "execution_count": null,
      "metadata": {
        "id": "efbFiluzR65w",
        "colab": {
          "base_uri": "https://localhost:8080/",
          "height": 410
        },
        "outputId": "62dd4368-fc82-4742-c12c-961f31ba8249"
      },
      "outputs": [
        {
          "output_type": "display_data",
          "data": {
            "text/plain": [
              "<Figure size 600x400 with 2 Axes>"
            ],
            "image/png": "[encoded data removed]"
          },
          "metadata": {}
        }
      ],
      "source": [
        "# Plot the Vit confusion matrix as a heatmap\n",
        "plt.figure(figsize=(6, 4))\n",
        "sns.heatmap(vit_cm, annot=True, fmt='d', cmap='Blues', xticklabels=target_names, yticklabels=target_names)\n",
        "plt.xlabel('Predicted')\n",
        "plt.ylabel('Actual')\n",
        "plt.title('Vision Transformer CNN Confusion Matrix')\n",
        "plt.show()"
      ]
    },
    {
      "cell_type": "code",
      "execution_count": null,
      "metadata": {
        "id": "Gm5j_CcOSDHb",
        "colab": {
          "base_uri": "https://localhost:8080/",
          "height": 410
        },
        "outputId": "7e609960-d70f-4665-f0f4-139c6f26a265"
      },
      "outputs": [
        {
          "output_type": "display_data",
          "data": {
            "text/plain": [
              "<Figure size 600x400 with 2 Axes>"
            ],
            "image/png": "[encoded data removed]"
          },
          "metadata": {}
        }
      ],
      "source": [
        "# Plot the resnet confusion matrix as a heatmap\n",
        "plt.figure(figsize=(6, 4))\n",
        "sns.heatmap(resnet_cm, annot=True, fmt='d', cmap='Blues', xticklabels=target_names, yticklabels=target_names)\n",
        "plt.xlabel('Predicted')\n",
        "plt.ylabel('Actual')\n",
        "plt.title('Residual Networks Confusion Matrix')\n",
        "plt.show()"
      ]
    },
    {
      "cell_type": "code",
      "execution_count": null,
      "metadata": {
        "id": "ZxHpuhuyTAMC",
        "colab": {
          "base_uri": "https://localhost:8080/",
          "height": 410
        },
        "outputId": "4611be36-b24b-4e43-b644-9753dc5c3d4a"
      },
      "outputs": [
        {
          "output_type": "display_data",
          "data": {
            "text/plain": [
              "<Figure size 600x400 with 2 Axes>"
            ],
            "image/png": "[encoded data removed]"
          },
          "metadata": {}
        }
      ],
      "source": [
        "# Plot the mobilenet confusion matrix as a heatmap\n",
        "plt.figure(figsize=(6, 4))\n",
        "sns.heatmap(mobilenet_cm, annot=True, fmt='d', cmap='Blues', xticklabels=target_names, yticklabels=target_names)\n",
        "plt.xlabel('Predicted')\n",
        "plt.ylabel('Actual')\n",
        "plt.title('MobileNet Confusion Matrix')\n",
        "plt.show()"
      ]
    },
    {
      "cell_type": "markdown",
      "metadata": {
        "id": "wJdXBc4PUQ65"
      },
      "source": [
        "## **Testing the models on a sample**"
      ]
    },
    {
      "cell_type": "code",
      "execution_count": null,
      "metadata": {
        "id": "usQQasZIPTDV",
        "colab": {
          "base_uri": "https://localhost:8080/",
          "height": 382
        },
        "outputId": "ce639c93-59a7-458e-dbbb-e57fa6bf670e"
      },
      "outputs": [
        {
          "output_type": "error",
          "ename": "FileNotFoundError",
          "evalue": "ignored",
          "traceback": [
            "\u001b[0;31m---------------------------------------------------------------------------\u001b[0m",
            "\u001b[0;31mFileNotFoundError\u001b[0m                         Traceback (most recent call last)",
            "\u001b[0;32m<ipython-input-31-8cbf06b68735>\u001b[0m in \u001b[0;36m<cell line: 3>\u001b[0;34m()\u001b[0m\n\u001b[1;32m      1\u001b[0m \u001b[0;31m# Load an example image for prediction\u001b[0m\u001b[0;34m\u001b[0m\u001b[0;34m\u001b[0m\u001b[0m\n\u001b[1;32m      2\u001b[0m \u001b[0msample_image_path\u001b[0m \u001b[0;34m=\u001b[0m \u001b[0;34m'/content/WBC-Malignant-Pro-800.jpg'\u001b[0m\u001b[0;34m\u001b[0m\u001b[0;34m\u001b[0m\u001b[0m\n\u001b[0;32m----> 3\u001b[0;31m \u001b[0msample_image\u001b[0m \u001b[0;34m=\u001b[0m \u001b[0mkeras\u001b[0m\u001b[0;34m.\u001b[0m\u001b[0mpreprocessing\u001b[0m\u001b[0;34m.\u001b[0m\u001b[0mimage\u001b[0m\u001b[0;34m.\u001b[0m\u001b[0mload_img\u001b[0m\u001b[0;34m(\u001b[0m\u001b[0msample_image_path\u001b[0m\u001b[0;34m,\u001b[0m \u001b[0mtarget_size\u001b[0m\u001b[0;34m=\u001b[0m\u001b[0mIMAGE_SIZE\u001b[0m\u001b[0;34m)\u001b[0m\u001b[0;34m\u001b[0m\u001b[0;34m\u001b[0m\u001b[0m\n\u001b[0m\u001b[1;32m      4\u001b[0m \u001b[0msample_image_array\u001b[0m \u001b[0;34m=\u001b[0m \u001b[0mkeras\u001b[0m\u001b[0;34m.\u001b[0m\u001b[0mpreprocessing\u001b[0m\u001b[0;34m.\u001b[0m\u001b[0mimage\u001b[0m\u001b[0;34m.\u001b[0m\u001b[0mimg_to_array\u001b[0m\u001b[0;34m(\u001b[0m\u001b[0msample_image\u001b[0m\u001b[0;34m)\u001b[0m\u001b[0;34m\u001b[0m\u001b[0;34m\u001b[0m\u001b[0m\n\u001b[1;32m      5\u001b[0m \u001b[0msample_image_array\u001b[0m \u001b[0;34m=\u001b[0m \u001b[0mnp\u001b[0m\u001b[0;34m.\u001b[0m\u001b[0mexpand_dims\u001b[0m\u001b[0;34m(\u001b[0m\u001b[0msample_image_array\u001b[0m\u001b[0;34m,\u001b[0m \u001b[0maxis\u001b[0m\u001b[0;34m=\u001b[0m\u001b[0;36m0\u001b[0m\u001b[0;34m)\u001b[0m\u001b[0;34m\u001b[0m\u001b[0;34m\u001b[0m\u001b[0m\n",
            "\u001b[0;32m/usr/local/lib/python3.10/dist-packages/keras/src/utils/image_utils.py\u001b[0m in \u001b[0;36mload_img\u001b[0;34m(path, grayscale, color_mode, target_size, interpolation, keep_aspect_ratio)\u001b[0m\n\u001b[1;32m    420\u001b[0m         \u001b[0;32mif\u001b[0m \u001b[0misinstance\u001b[0m\u001b[0;34m(\u001b[0m\u001b[0mpath\u001b[0m\u001b[0;34m,\u001b[0m \u001b[0mpathlib\u001b[0m\u001b[0;34m.\u001b[0m\u001b[0mPath\u001b[0m\u001b[0;34m)\u001b[0m\u001b[0;34m:\u001b[0m\u001b[0;34m\u001b[0m\u001b[0;34m\u001b[0m\u001b[0m\n\u001b[1;32m    421\u001b[0m             \u001b[0mpath\u001b[0m \u001b[0;34m=\u001b[0m \u001b[0mstr\u001b[0m\u001b[0;34m(\u001b[0m\u001b[0mpath\u001b[0m\u001b[0;34m.\u001b[0m\u001b[0mresolve\u001b[0m\u001b[0;34m(\u001b[0m\u001b[0;34m)\u001b[0m\u001b[0;34m)\u001b[0m\u001b[0;34m\u001b[0m\u001b[0;34m\u001b[0m\u001b[0m\n\u001b[0;32m--> 422\u001b[0;31m         \u001b[0;32mwith\u001b[0m \u001b[0mopen\u001b[0m\u001b[0;34m(\u001b[0m\u001b[0mpath\u001b[0m\u001b[0;34m,\u001b[0m \u001b[0;34m\"rb\"\u001b[0m\u001b[0;34m)\u001b[0m \u001b[0;32mas\u001b[0m \u001b[0mf\u001b[0m\u001b[0;34m:\u001b[0m\u001b[0;34m\u001b[0m\u001b[0;34m\u001b[0m\u001b[0m\n\u001b[0m\u001b[1;32m    423\u001b[0m             \u001b[0mimg\u001b[0m \u001b[0;34m=\u001b[0m \u001b[0mpil_image\u001b[0m\u001b[0;34m.\u001b[0m\u001b[0mopen\u001b[0m\u001b[0;34m(\u001b[0m\u001b[0mio\u001b[0m\u001b[0;34m.\u001b[0m\u001b[0mBytesIO\u001b[0m\u001b[0;34m(\u001b[0m\u001b[0mf\u001b[0m\u001b[0;34m.\u001b[0m\u001b[0mread\u001b[0m\u001b[0;34m(\u001b[0m\u001b[0;34m)\u001b[0m\u001b[0;34m)\u001b[0m\u001b[0;34m)\u001b[0m\u001b[0;34m\u001b[0m\u001b[0;34m\u001b[0m\u001b[0m\n\u001b[1;32m    424\u001b[0m     \u001b[0;32melse\u001b[0m\u001b[0;34m:\u001b[0m\u001b[0;34m\u001b[0m\u001b[0;34m\u001b[0m\u001b[0m\n",
            "\u001b[0;31mFileNotFoundError\u001b[0m: [Errno 2] No such file or directory: '/content/WBC-Malignant-Pro-800.jpg'"
          ]
        }
      ],
      "source": [
        "# Load an example image for prediction\n",
        "sample_image_path = '/content/WBC-Malignant-Pro-800.jpg'\n",
        "sample_image = keras.preprocessing.image.load_img(sample_image_path, target_size=IMAGE_SIZE)\n",
        "sample_image_array = keras.preprocessing.image.img_to_array(sample_image)\n",
        "sample_image_array = np.expand_dims(sample_image_array, axis=0)"
      ]
    },
    {
      "cell_type": "code",
      "execution_count": null,
      "metadata": {
        "id": "e65h91pnPvvy"
      },
      "outputs": [],
      "source": [
        "# Predictions using the trained models\n",
        "flattened_sample_image_array = sample_image_array.reshape((1, -1))\n",
        "svm_pred = svm_model.predict(flattened_sample_image_array)\n",
        "cnn_pred = cnn_model.predict(sample_image_array)\n",
        "vit_pred = vit_model.predict(sample_image_array)\n",
        "resnet_pred = resnet_model.predict(sample_image_array)\n",
        "mobilenet_pred = mobilenet_model.predict(sample_image_array)\n",
        "\n",
        "# Print predictions\n",
        "print(\"Categories:\", categories)\n",
        "print(\"SVM Predictions:\", svm_pred)\n",
        "print(\"CNN Predictions:\", cnn_pred)\n",
        "print(\"ViT Predictions:\", vit_pred)\n",
        "print(\"ResNet Predictions:\", resnet_pred)\n",
        "print(\"MobileNet Predictions:\", mobilenet_pred)"
      ]
    },
    {
      "cell_type": "code",
      "execution_count": null,
      "metadata": {
        "id": "L9dtBCmAzQTU"
      },
      "outputs": [],
      "source": [
        "# Export the models to a directory\n",
        "\n",
        "cnn_model.save('leukemia_classifier_cnn_model')\n",
        "vit_model.save('leukemia_classifier_vit_model')\n",
        "resnet_model.save('leukemia_classifier_resnet_model')\n",
        "mobilenet_model.save('leukemia_classifier_mobilenet_model')\n"
      ]
    },
    {
      "cell_type": "code",
      "execution_count": null,
      "metadata": {
        "id": "qsX2_Qd9TcbR"
      },
      "outputs": [],
      "source": [
        "# Save the Keras model architecture and weights\n",
        "\n",
        "cnn_model.save(\"leukemia_keras_cnn_model.h5\")\n",
        "vit_model.save(\"leukemia_keras_vit_model.h5\")\n",
        "resnet_model.save(\"leukemia_keras_resnet_model.h5\")\n",
        "mobilenet_model.save(\"leukemia_keras_mobilenet_model.h5\")\n"
      ]
    },
    {
      "cell_type": "code",
      "source": [
        "# Import necessary libraries\n",
        "import numpy as np\n",
        "\n",
        "# Define function to format predictions\n",
        "def format_predictions(model_name, predictions, categories):\n",
        "    formatted_pred = \"\"\n",
        "    if len(predictions.shape) == 1:\n",
        "        formatted_pred = f\"{model_name} Predictions: {categories[predictions[0]]}\"\n",
        "    else:\n",
        "        formatted_pred = f\"{model_name} Predictions: {', '.join([f'{categories[i]}: {prob:.4f}' for i, prob in enumerate(predictions[0])])}\"\n",
        "\n",
        "    return formatted_pred\n",
        "\n",
        "# Flatten the sample image array for SVM\n",
        "flattened_sample_image_array = sample_image_array.reshape((1, -1))\n",
        "\n",
        "# Make predictions\n",
        "svm_pred = svm_model.predict(flattened_sample_image_array)\n",
        "cnn_pred = cnn_model.predict(sample_image_array)\n",
        "vit_pred = vit_model.predict(sample_image_array)\n",
        "resnet_pred = resnet_model.predict(sample_image_array)\n",
        "mobilenet_pred = mobilenet_model.predict(sample_image_array)\n",
        "\n",
        "# Print formatted predictions\n",
        "print(\"Categories:\", categories)\n",
        "print(format_predictions(\"SVM\", svm_pred, categories))\n",
        "print(format_predictions(\"CNN\", cnn_pred, categories))\n",
        "print(format_predictions(\"ViT\", vit_pred, categories))\n",
        "print(format_predictions(\"ResNet\", resnet_pred, categories))\n",
        "print(format_predictions(\"MobileNet\", mobilenet_pred, categories))\n"
      ],
      "metadata": {
        "id": "L1Ml5KvjqAuj"
      },
      "execution_count": null,
      "outputs": []
    }
  ],
  "metadata": {
    "accelerator": "GPU",
    "colab": {
      "provenance": [],
      "mount_file_id": "1LPGWUALWF3j6PTSIjQl1DimsfYgrtDxJ",
      "authorship_tag": "ABX9TyNPlXV18VhazSyepw7oLXBE",
      "include_colab_link": true
    },
    "kernelspec": {
      "display_name": "Python 3",
      "name": "python3"
    },
    "language_info": {
      "name": "python"
    }
  },
  "nbformat": 4,
  "nbformat_minor": 0
}