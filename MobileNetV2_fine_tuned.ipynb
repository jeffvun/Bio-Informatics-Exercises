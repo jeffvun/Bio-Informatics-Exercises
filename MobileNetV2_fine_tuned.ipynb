{
  "nbformat": 4,
  "nbformat_minor": 0,
  "metadata": {
    "colab": {
      "provenance": [],
      "gpuType": "T4",
      "mount_file_id": "13qyeUvNP-XXxtnECxl-8lsAE6ilp15sz",
      "authorship_tag": "ABX9TyNmSvG4LsxPwenT+Mm/b+a6",
      "include_colab_link": true
    },
    "kernelspec": {
      "name": "python3",
      "display_name": "Python 3"
    },
    "language_info": {
      "name": "python"
    },
    "accelerator": "GPU"
  },
  "cells": [
    {
      "cell_type": "markdown",
      "metadata": {
        "id": "view-in-github",
        "colab_type": "text"
      },
      "source": [
        "<a href=\"https://colab.research.google.com/github/jeffvun/Bio-Informatics-Exercises/blob/main/MobileNetV2_fine_tuned.ipynb\" target=\"_parent\"><img src=\"https://colab.research.google.com/assets/colab-badge.svg\" alt=\"Open In Colab\"/></a>"
      ]
    },
    {
      "cell_type": "code",
      "execution_count": null,
      "metadata": {
        "id": "UrUYgap3yiYR"
      },
      "outputs": [],
      "source": [
        "import tensorflow as tf\n",
        "from tensorflow.keras.applications import MobileNetV2\n",
        "from tensorflow.keras.layers import GlobalAveragePooling2D, Dense, Dropout\n",
        "from tensorflow.keras.models import Model\n",
        "from tensorflow.keras.preprocessing.image import ImageDataGenerator\n",
        "\n",
        "import os\n",
        "import pandas as pd\n",
        "import numpy as np\n",
        "from sklearn.model_selection import train_test_split\n",
        "from sklearn.metrics import confusion_matrix, classification_report\n"
      ]
    },
    {
      "cell_type": "code",
      "source": [
        "# Define constants\n",
        "IMAGE_SIZE = (224, 224)\n",
        "BATCH_SIZE = 32\n",
        "EPOCHS = 10\n",
        "NUM_CLASSES = 4\n"
      ],
      "metadata": {
        "id": "uDNJshJ8yotN"
      },
      "execution_count": null,
      "outputs": []
    },
    {
      "cell_type": "code",
      "source": [
        "# Define data directories and categories\n",
        "data_dir = '/content/drive/MyDrive/DataSet/train/ALL'\n",
        "categories = ['Benign', 'Early', 'Pre', 'Pro']\n",
        "\n",
        "# Create an empty DataFrame to store file paths and corresponding labels\n",
        "data = []\n",
        "\n",
        "# Load data by iterating through categories and collecting file paths\n",
        "for category_id, category in enumerate(categories):\n",
        "    category_dir = os.path.join(data_dir, category)\n",
        "    for filename in os.listdir(category_dir):\n",
        "        if filename.endswith('.jpg'):\n",
        "          data.append((os.path.join(category_dir, filename), category))"
      ],
      "metadata": {
        "id": "zxdqgPrW-Qud"
      },
      "execution_count": null,
      "outputs": []
    },
    {
      "cell_type": "code",
      "source": [
        "# Convert the data list into a DataFrame\n",
        "data_df = pd.DataFrame(data, columns=['FilePath', 'Category'])"
      ],
      "metadata": {
        "id": "RnF8UApbCi4j"
      },
      "execution_count": null,
      "outputs": []
    },
    {
      "cell_type": "code",
      "source": [
        "# Split the data into training, testing, and validation sets\n",
        "train_data, test_data = train_test_split(data_df, test_size=0.2, random_state=42)\n",
        "train_data, val_data = train_test_split(train_data, test_size=0.1, random_state=42)\n",
        "\n",
        "# Print the number of samples in each set\n",
        "print(f\"Number of samples in training set: {len(train_data)}\")\n",
        "print(f\"Number of samples in testing set: {len(test_data)}\")\n",
        "print(f\"Number of samples in validation set: {len(val_data)}\")\n"
      ],
      "metadata": {
        "id": "A4zPANws4ZPq",
        "colab": {
          "base_uri": "https://localhost:8080/"
        },
        "outputId": "8886d43a-a035-42d6-f372-0f9780fd944b"
      },
      "execution_count": null,
      "outputs": [
        {
          "output_type": "stream",
          "name": "stdout",
          "text": [
            "Number of samples in training set: 2343\n",
            "Number of samples in testing set: 652\n",
            "Number of samples in validation set: 261\n"
          ]
        }
      ]
    },
    {
      "cell_type": "code",
      "source": [
        "# Create data generators\n",
        "datagen = ImageDataGenerator(\n",
        "    rescale=1.0/255.0,\n",
        "    rotation_range=20,\n",
        "    width_shift_range=0.2,\n",
        "    height_shift_range=0.2,\n",
        "    horizontal_flip=True,\n",
        "    zoom_range=0.2\n",
        ")"
      ],
      "metadata": {
        "id": "5iANrYLCyzRb"
      },
      "execution_count": null,
      "outputs": []
    },
    {
      "cell_type": "code",
      "source": [
        "train_generator = datagen.flow_from_dataframe(\n",
        "    dataframe=train_data,\n",
        "    x_col=\"FilePath\",\n",
        "    y_col=\"Category\",\n",
        "    target_size=(224, 224),\n",
        "    batch_size=BATCH_SIZE,\n",
        "    class_mode='categorical'\n",
        ")\n",
        "\n",
        "val_generator = datagen.flow_from_dataframe(\n",
        "    dataframe=val_data,\n",
        "    x_col=\"FilePath\",\n",
        "    y_col=\"Category\",\n",
        "    target_size=(224, 224),\n",
        "    batch_size=BATCH_SIZE,\n",
        "    class_mode='categorical'\n",
        ")\n",
        "\n",
        "test_generator = datagen.flow_from_dataframe(\n",
        "    dataframe=test_data,\n",
        "    x_col=\"FilePath\",\n",
        "    y_col=\"Category\",\n",
        "    target_size=(224, 224),\n",
        "    batch_size=BATCH_SIZE,\n",
        "    class_mode='categorical'\n",
        ")"
      ],
      "metadata": {
        "id": "oTbgks8Ey51P",
        "colab": {
          "base_uri": "https://localhost:8080/"
        },
        "outputId": "03fe41e5-3364-49fe-ea2d-e92b29210a37"
      },
      "execution_count": null,
      "outputs": [
        {
          "output_type": "stream",
          "name": "stdout",
          "text": [
            "Found 2343 validated image filenames belonging to 4 classes.\n",
            "Found 261 validated image filenames belonging to 4 classes.\n",
            "Found 652 validated image filenames belonging to 4 classes.\n"
          ]
        }
      ]
    },
    {
      "cell_type": "code",
      "source": [
        "# Load and configure MobileNetV2 model\n",
        "base_model = MobileNetV2(\n",
        "    input_shape=(*IMAGE_SIZE, 3),\n",
        "    include_top=False,\n",
        "    weights=\"imagenet\",\n",
        ")\n",
        "\n",
        "#Adding custom classification layers\n",
        "x = base_model.output\n",
        "x = GlobalAveragePooling2D()(x)\n",
        "x = Dense(1024, activation='relu')(x)\n",
        "x = Dropout(0.5)(x)\n",
        "predictions = Dense(NUM_CLASSES, activation='softmax')(x)\n",
        "\n",
        "model = Model(inputs=base_model.input, outputs=predictions)\n"
      ],
      "metadata": {
        "id": "NTc2h5F5y9c1",
        "colab": {
          "base_uri": "https://localhost:8080/"
        },
        "outputId": "a63fa2f8-70ef-42f3-f9ec-f26dde4928ae"
      },
      "execution_count": null,
      "outputs": [
        {
          "output_type": "stream",
          "name": "stdout",
          "text": [
            "Downloading data from https://storage.googleapis.com/tensorflow/keras-applications/mobilenet_v2/mobilenet_v2_weights_tf_dim_ordering_tf_kernels_1.0_224_no_top.h5\n",
            "9406464/9406464 [==============================] - 0s 0us/step\n"
          ]
        }
      ]
    },
    {
      "cell_type": "code",
      "source": [
        "# Freeze the base model layers\n",
        "for layer in base_model.layers:\n",
        "    layer.trainable = False\n"
      ],
      "metadata": {
        "id": "HDxaYPvSzB1t"
      },
      "execution_count": null,
      "outputs": []
    },
    {
      "cell_type": "code",
      "source": [
        "# Compile the model\n",
        "model.compile(optimizer='adam', loss='categorical_crossentropy', metrics=['accuracy'])\n"
      ],
      "metadata": {
        "id": "Vhexr_tizEvo"
      },
      "execution_count": null,
      "outputs": []
    },
    {
      "cell_type": "code",
      "source": [
        "# Train the model\n",
        "history = model.fit(train_generator, epochs=EPOCHS, validation_data=val_generator, verbose=1)\n"
      ],
      "metadata": {
        "id": "V9kVChrLzOJI",
        "colab": {
          "base_uri": "https://localhost:8080/"
        },
        "outputId": "cbefcaef-62bf-4eec-b986-0d028c53e68f"
      },
      "execution_count": null,
      "outputs": [
        {
          "output_type": "stream",
          "name": "stdout",
          "text": [
            "Epoch 1/10\n",
            "74/74 [==============================] - 819s 11s/step - loss: 0.6933 - accuracy: 0.7537 - val_loss: 0.2342 - val_accuracy: 0.9157\n",
            "Epoch 2/10\n",
            "74/74 [==============================] - 46s 621ms/step - loss: 0.2471 - accuracy: 0.9181 - val_loss: 0.1297 - val_accuracy: 0.9502\n",
            "Epoch 3/10\n",
            "74/74 [==============================] - 44s 591ms/step - loss: 0.1857 - accuracy: 0.9283 - val_loss: 0.1025 - val_accuracy: 0.9617\n",
            "Epoch 4/10\n",
            "74/74 [==============================] - 44s 599ms/step - loss: 0.1707 - accuracy: 0.9347 - val_loss: 0.1564 - val_accuracy: 0.9349\n",
            "Epoch 5/10\n",
            "74/74 [==============================] - 47s 642ms/step - loss: 0.1877 - accuracy: 0.9343 - val_loss: 0.1719 - val_accuracy: 0.9195\n",
            "Epoch 6/10\n",
            "74/74 [==============================] - 43s 579ms/step - loss: 0.1615 - accuracy: 0.9428 - val_loss: 0.1360 - val_accuracy: 0.9387\n",
            "Epoch 7/10\n",
            "74/74 [==============================] - 47s 630ms/step - loss: 0.1853 - accuracy: 0.9356 - val_loss: 0.0661 - val_accuracy: 0.9770\n",
            "Epoch 8/10\n",
            "74/74 [==============================] - 44s 596ms/step - loss: 0.1269 - accuracy: 0.9513 - val_loss: 0.0986 - val_accuracy: 0.9617\n",
            "Epoch 9/10\n",
            "74/74 [==============================] - 42s 566ms/step - loss: 0.1222 - accuracy: 0.9535 - val_loss: 0.1279 - val_accuracy: 0.9732\n",
            "Epoch 10/10\n",
            "74/74 [==============================] - 46s 626ms/step - loss: 0.1336 - accuracy: 0.9454 - val_loss: 0.0981 - val_accuracy: 0.9617\n"
          ]
        }
      ]
    },
    {
      "cell_type": "code",
      "source": [
        "# Evaluate the model\n",
        "test_loss, test_accuracy = model.evaluate(test_generator)\n",
        "print(f'Test Accuracy: {test_accuracy * 100:.2f}%')"
      ],
      "metadata": {
        "colab": {
          "base_uri": "https://localhost:8080/"
        },
        "id": "6RxS1rFgEUm-",
        "outputId": "46180428-256b-4a62-c9b8-25bfeb051b02"
      },
      "execution_count": null,
      "outputs": [
        {
          "output_type": "stream",
          "name": "stdout",
          "text": [
            "21/21 [==============================] - 196s 10s/step - loss: 0.1654 - accuracy: 0.9433\n",
            "Test Accuracy: 94.33%\n"
          ]
        }
      ]
    },
    {
      "cell_type": "code",
      "source": [
        "import seaborn as sns\n",
        "import matplotlib.pyplot as plt\n",
        "\n",
        "target_names = ['Benign', 'Early', 'Pre', 'Pro']\n",
        "\n",
        "# Generate the confusion matrix\n",
        "true_labels = test_generator.classes\n",
        "predicted_labels = np.argmax(model.predict(test_generator), axis=1)\n",
        "confusion = confusion_matrix(true_labels, predicted_labels)\n",
        "\n",
        "# Plot the confusion matrix as a heatmap\n",
        "plt.figure(figsize=(8, 6))\n",
        "sns.heatmap(confusion, annot=True, fmt='d', cmap='Blues', xticklabels=target_names, yticklabels=target_names)\n",
        "plt.xlabel('Predicted')\n",
        "plt.ylabel('Actual')\n",
        "plt.title('Confusion Matrix')\n",
        "plt.show()\n"
      ],
      "metadata": {
        "colab": {
          "base_uri": "https://localhost:8080/",
          "height": 582
        },
        "id": "7vmiljTJEkiu",
        "outputId": "dd89c17f-8e7e-43a2-bf72-420a3421d612"
      },
      "execution_count": null,
      "outputs": [
        {
          "output_type": "stream",
          "name": "stdout",
          "text": [
            "21/21 [==============================] - 12s 528ms/step\n"
          ]
        },
        {
          "output_type": "display_data",
          "data": {
            "text/plain": [
              "<Figure size 800x600 with 2 Axes>"
            ],
            "image/png": "[encoded data removed]"
          },
          "metadata": {}
        }
      ]
    },
    {
      "cell_type": "code",
      "source": [
        "# Print the classification report\n",
        "classification_report_str = classification_report(true_labels, predicted_labels, target_names=target_names)\n",
        "print(\"Classification Report:\")\n",
        "print(classification_report_str)\n"
      ],
      "metadata": {
        "colab": {
          "base_uri": "https://localhost:8080/"
        },
        "id": "eSJ0FhnNEZUq",
        "outputId": "d8be9a49-2dc2-4756-f492-b0235c763276"
      },
      "execution_count": null,
      "outputs": [
        {
          "output_type": "stream",
          "name": "stdout",
          "text": [
            "Classification Report:\n",
            "              precision    recall  f1-score   support\n",
            "\n",
            "      Benign       0.17      0.15      0.16       124\n",
            "       Early       0.29      0.31      0.30       196\n",
            "         Pre       0.25      0.24      0.24       182\n",
            "         Pro       0.26      0.27      0.27       150\n",
            "\n",
            "    accuracy                           0.25       652\n",
            "   macro avg       0.24      0.24      0.24       652\n",
            "weighted avg       0.25      0.25      0.25       652\n",
            "\n"
          ]
        }
      ]
    },
    {
      "cell_type": "code",
      "source": [
        "# Export the model to a directory\n",
        "model.save('leukemia_classifier_model')\n"
      ],
      "metadata": {
        "id": "L9dtBCmAzQTU"
      },
      "execution_count": null,
      "outputs": []
    },
    {
      "cell_type": "code",
      "source": [
        "# Save the Keras model architecture and weights\n",
        "model.save(\"leukemia_keras_model.h5\")\n"
      ],
      "metadata": {
        "colab": {
          "base_uri": "https://localhost:8080/"
        },
        "id": "qsX2_Qd9TcbR",
        "outputId": "d2691a51-03db-423f-f49e-5fab644fea6f"
      },
      "execution_count": null,
      "outputs": [
        {
          "output_type": "stream",
          "name": "stderr",
          "text": [
            "/usr/local/lib/python3.10/dist-packages/keras/src/engine/training.py:3103: UserWarning: You are saving your model as an HDF5 file via `model.save()`. This file format is considered legacy. We recommend using instead the native Keras format, e.g. `model.save('my_model.keras')`.\n",
            "  saving_api.save_model(\n"
          ]
        }
      ]
    },
    {
      "cell_type": "code",
      "source": [
        "# Import necessary libraries\n",
        "import numpy as np\n",
        "from tensorflow import keras\n",
        "# Load an example image for prediction\n",
        "sample_image_path = '/content/WBC-Malignant-Pro-800.jpg'\n",
        "sample_image = keras.preprocessing.image.load_img(sample_image_path, target_size=IMAGE_SIZE)\n",
        "sample_image_array = keras.preprocessing.image.img_to_array(sample_image)\n",
        "sample_image_array = np.expand_dims(sample_image_array, axis=0)\n",
        "\n",
        "# Define function to format predictions\n",
        "def format_predictions(model_name, predictions, categories):\n",
        "    formatted_pred = \"\"\n",
        "    if len(predictions.shape) == 1:\n",
        "        formatted_pred = f\"{model_name} Predictions: {categories[predictions[0]]}\"\n",
        "    else:\n",
        "        formatted_pred = f\"{model_name} Predictions: {', '.join([f'{categories[i]}: {prob:.4f}' for i, prob in enumerate(predictions[0])])}\"\n",
        "\n",
        "    return formatted_pred\n",
        "\n",
        "# Flatten the sample image array for SVM\n",
        "flattened_sample_image_array = sample_image_array.reshape((1, -1))\n",
        "\n",
        "# Make predictions\n",
        "mobilenet_pred = model.predict(sample_image_array)\n",
        "\n",
        "# Print formatted predictions\n",
        "print(\"Categories:\", categories)\n",
        "print(format_predictions(\"MobileNet\", mobilenet_pred, categories))\n"
      ],
      "metadata": {
        "colab": {
          "base_uri": "https://localhost:8080/"
        },
        "id": "F427M_kzqjqL",
        "outputId": "ea62b566-17c8-4d72-c87d-29c439781e23"
      },
      "execution_count": null,
      "outputs": [
        {
          "output_type": "stream",
          "name": "stdout",
          "text": [
            "1/1 [==============================] - 0s 37ms/step\n",
            "Categories: ['Benign', 'Early', 'Pre', 'Pro']\n",
            "MobileNet Predictions: Benign: 0.0012, Early: 0.9165, Pre: 0.0817, Pro: 0.0006\n"
          ]
        }
      ]
    }
  ]
}